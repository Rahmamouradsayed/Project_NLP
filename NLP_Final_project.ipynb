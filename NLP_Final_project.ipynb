{
  "nbformat": 4,
  "nbformat_minor": 0,
  "metadata": {
    "colab": {
      "provenance": [],
      "gpuType": "T4"
    },
    "kernelspec": {
      "name": "python3",
      "display_name": "Python 3"
    },
    "language_info": {
      "name": "python"
    },
    "accelerator": "GPU",
    "widgets": {
      "application/vnd.jupyter.widget-state+json": {
        "11a4c377248d413db81d101f76c6ee00": {
          "model_module": "@jupyter-widgets/controls",
          "model_name": "HBoxModel",
          "model_module_version": "1.5.0",
          "state": {
            "_dom_classes": [],
            "_model_module": "@jupyter-widgets/controls",
            "_model_module_version": "1.5.0",
            "_model_name": "HBoxModel",
            "_view_count": null,
            "_view_module": "@jupyter-widgets/controls",
            "_view_module_version": "1.5.0",
            "_view_name": "HBoxView",
            "box_style": "",
            "children": [
              "IPY_MODEL_05ab13b96e824a32844497d28cec709d",
              "IPY_MODEL_a4dbadefbce149839a2eb80e8aafbd31",
              "IPY_MODEL_7077d95e30824c10a1d108673095bcc6"
            ],
            "layout": "IPY_MODEL_c88932d11ab54d24982ea59cc1ec881b"
          }
        },
        "05ab13b96e824a32844497d28cec709d": {
          "model_module": "@jupyter-widgets/controls",
          "model_name": "HTMLModel",
          "model_module_version": "1.5.0",
          "state": {
            "_dom_classes": [],
            "_model_module": "@jupyter-widgets/controls",
            "_model_module_version": "1.5.0",
            "_model_name": "HTMLModel",
            "_view_count": null,
            "_view_module": "@jupyter-widgets/controls",
            "_view_module_version": "1.5.0",
            "_view_name": "HTMLView",
            "description": "",
            "description_tooltip": null,
            "layout": "IPY_MODEL_97ab2abe226c4677b98f61193b7c92b3",
            "placeholder": "​",
            "style": "IPY_MODEL_d00cafd311cb456eb1ccaf09f959dffb",
            "value": "tokenizer_config.json: 100%"
          }
        },
        "a4dbadefbce149839a2eb80e8aafbd31": {
          "model_module": "@jupyter-widgets/controls",
          "model_name": "FloatProgressModel",
          "model_module_version": "1.5.0",
          "state": {
            "_dom_classes": [],
            "_model_module": "@jupyter-widgets/controls",
            "_model_module_version": "1.5.0",
            "_model_name": "FloatProgressModel",
            "_view_count": null,
            "_view_module": "@jupyter-widgets/controls",
            "_view_module_version": "1.5.0",
            "_view_name": "ProgressView",
            "bar_style": "success",
            "description": "",
            "description_tooltip": null,
            "layout": "IPY_MODEL_5aaaca2ea1a94dffaf697bcd1d1219d2",
            "max": 48,
            "min": 0,
            "orientation": "horizontal",
            "style": "IPY_MODEL_6e925bf417a54242b1e285a0c74f7dfe",
            "value": 48
          }
        },
        "7077d95e30824c10a1d108673095bcc6": {
          "model_module": "@jupyter-widgets/controls",
          "model_name": "HTMLModel",
          "model_module_version": "1.5.0",
          "state": {
            "_dom_classes": [],
            "_model_module": "@jupyter-widgets/controls",
            "_model_module_version": "1.5.0",
            "_model_name": "HTMLModel",
            "_view_count": null,
            "_view_module": "@jupyter-widgets/controls",
            "_view_module_version": "1.5.0",
            "_view_name": "HTMLView",
            "description": "",
            "description_tooltip": null,
            "layout": "IPY_MODEL_d6c3379fa01b47088f4a97c7c9c8317e",
            "placeholder": "​",
            "style": "IPY_MODEL_3876ab2e89ec4ed1b2b9b8a26c388483",
            "value": " 48.0/48.0 [00:00&lt;00:00, 3.24kB/s]"
          }
        },
        "c88932d11ab54d24982ea59cc1ec881b": {
          "model_module": "@jupyter-widgets/base",
          "model_name": "LayoutModel",
          "model_module_version": "1.2.0",
          "state": {
            "_model_module": "@jupyter-widgets/base",
            "_model_module_version": "1.2.0",
            "_model_name": "LayoutModel",
            "_view_count": null,
            "_view_module": "@jupyter-widgets/base",
            "_view_module_version": "1.2.0",
            "_view_name": "LayoutView",
            "align_content": null,
            "align_items": null,
            "align_self": null,
            "border": null,
            "bottom": null,
            "display": null,
            "flex": null,
            "flex_flow": null,
            "grid_area": null,
            "grid_auto_columns": null,
            "grid_auto_flow": null,
            "grid_auto_rows": null,
            "grid_column": null,
            "grid_gap": null,
            "grid_row": null,
            "grid_template_areas": null,
            "grid_template_columns": null,
            "grid_template_rows": null,
            "height": null,
            "justify_content": null,
            "justify_items": null,
            "left": null,
            "margin": null,
            "max_height": null,
            "max_width": null,
            "min_height": null,
            "min_width": null,
            "object_fit": null,
            "object_position": null,
            "order": null,
            "overflow": null,
            "overflow_x": null,
            "overflow_y": null,
            "padding": null,
            "right": null,
            "top": null,
            "visibility": null,
            "width": null
          }
        },
        "97ab2abe226c4677b98f61193b7c92b3": {
          "model_module": "@jupyter-widgets/base",
          "model_name": "LayoutModel",
          "model_module_version": "1.2.0",
          "state": {
            "_model_module": "@jupyter-widgets/base",
            "_model_module_version": "1.2.0",
            "_model_name": "LayoutModel",
            "_view_count": null,
            "_view_module": "@jupyter-widgets/base",
            "_view_module_version": "1.2.0",
            "_view_name": "LayoutView",
            "align_content": null,
            "align_items": null,
            "align_self": null,
            "border": null,
            "bottom": null,
            "display": null,
            "flex": null,
            "flex_flow": null,
            "grid_area": null,
            "grid_auto_columns": null,
            "grid_auto_flow": null,
            "grid_auto_rows": null,
            "grid_column": null,
            "grid_gap": null,
            "grid_row": null,
            "grid_template_areas": null,
            "grid_template_columns": null,
            "grid_template_rows": null,
            "height": null,
            "justify_content": null,
            "justify_items": null,
            "left": null,
            "margin": null,
            "max_height": null,
            "max_width": null,
            "min_height": null,
            "min_width": null,
            "object_fit": null,
            "object_position": null,
            "order": null,
            "overflow": null,
            "overflow_x": null,
            "overflow_y": null,
            "padding": null,
            "right": null,
            "top": null,
            "visibility": null,
            "width": null
          }
        },
        "d00cafd311cb456eb1ccaf09f959dffb": {
          "model_module": "@jupyter-widgets/controls",
          "model_name": "DescriptionStyleModel",
          "model_module_version": "1.5.0",
          "state": {
            "_model_module": "@jupyter-widgets/controls",
            "_model_module_version": "1.5.0",
            "_model_name": "DescriptionStyleModel",
            "_view_count": null,
            "_view_module": "@jupyter-widgets/base",
            "_view_module_version": "1.2.0",
            "_view_name": "StyleView",
            "description_width": ""
          }
        },
        "5aaaca2ea1a94dffaf697bcd1d1219d2": {
          "model_module": "@jupyter-widgets/base",
          "model_name": "LayoutModel",
          "model_module_version": "1.2.0",
          "state": {
            "_model_module": "@jupyter-widgets/base",
            "_model_module_version": "1.2.0",
            "_model_name": "LayoutModel",
            "_view_count": null,
            "_view_module": "@jupyter-widgets/base",
            "_view_module_version": "1.2.0",
            "_view_name": "LayoutView",
            "align_content": null,
            "align_items": null,
            "align_self": null,
            "border": null,
            "bottom": null,
            "display": null,
            "flex": null,
            "flex_flow": null,
            "grid_area": null,
            "grid_auto_columns": null,
            "grid_auto_flow": null,
            "grid_auto_rows": null,
            "grid_column": null,
            "grid_gap": null,
            "grid_row": null,
            "grid_template_areas": null,
            "grid_template_columns": null,
            "grid_template_rows": null,
            "height": null,
            "justify_content": null,
            "justify_items": null,
            "left": null,
            "margin": null,
            "max_height": null,
            "max_width": null,
            "min_height": null,
            "min_width": null,
            "object_fit": null,
            "object_position": null,
            "order": null,
            "overflow": null,
            "overflow_x": null,
            "overflow_y": null,
            "padding": null,
            "right": null,
            "top": null,
            "visibility": null,
            "width": null
          }
        },
        "6e925bf417a54242b1e285a0c74f7dfe": {
          "model_module": "@jupyter-widgets/controls",
          "model_name": "ProgressStyleModel",
          "model_module_version": "1.5.0",
          "state": {
            "_model_module": "@jupyter-widgets/controls",
            "_model_module_version": "1.5.0",
            "_model_name": "ProgressStyleModel",
            "_view_count": null,
            "_view_module": "@jupyter-widgets/base",
            "_view_module_version": "1.2.0",
            "_view_name": "StyleView",
            "bar_color": null,
            "description_width": ""
          }
        },
        "d6c3379fa01b47088f4a97c7c9c8317e": {
          "model_module": "@jupyter-widgets/base",
          "model_name": "LayoutModel",
          "model_module_version": "1.2.0",
          "state": {
            "_model_module": "@jupyter-widgets/base",
            "_model_module_version": "1.2.0",
            "_model_name": "LayoutModel",
            "_view_count": null,
            "_view_module": "@jupyter-widgets/base",
            "_view_module_version": "1.2.0",
            "_view_name": "LayoutView",
            "align_content": null,
            "align_items": null,
            "align_self": null,
            "border": null,
            "bottom": null,
            "display": null,
            "flex": null,
            "flex_flow": null,
            "grid_area": null,
            "grid_auto_columns": null,
            "grid_auto_flow": null,
            "grid_auto_rows": null,
            "grid_column": null,
            "grid_gap": null,
            "grid_row": null,
            "grid_template_areas": null,
            "grid_template_columns": null,
            "grid_template_rows": null,
            "height": null,
            "justify_content": null,
            "justify_items": null,
            "left": null,
            "margin": null,
            "max_height": null,
            "max_width": null,
            "min_height": null,
            "min_width": null,
            "object_fit": null,
            "object_position": null,
            "order": null,
            "overflow": null,
            "overflow_x": null,
            "overflow_y": null,
            "padding": null,
            "right": null,
            "top": null,
            "visibility": null,
            "width": null
          }
        },
        "3876ab2e89ec4ed1b2b9b8a26c388483": {
          "model_module": "@jupyter-widgets/controls",
          "model_name": "DescriptionStyleModel",
          "model_module_version": "1.5.0",
          "state": {
            "_model_module": "@jupyter-widgets/controls",
            "_model_module_version": "1.5.0",
            "_model_name": "DescriptionStyleModel",
            "_view_count": null,
            "_view_module": "@jupyter-widgets/base",
            "_view_module_version": "1.2.0",
            "_view_name": "StyleView",
            "description_width": ""
          }
        },
        "42116ceffb89441e993dce5c7aeb541b": {
          "model_module": "@jupyter-widgets/controls",
          "model_name": "HBoxModel",
          "model_module_version": "1.5.0",
          "state": {
            "_dom_classes": [],
            "_model_module": "@jupyter-widgets/controls",
            "_model_module_version": "1.5.0",
            "_model_name": "HBoxModel",
            "_view_count": null,
            "_view_module": "@jupyter-widgets/controls",
            "_view_module_version": "1.5.0",
            "_view_name": "HBoxView",
            "box_style": "",
            "children": [
              "IPY_MODEL_ba11c48817184169b15363c36c6543df",
              "IPY_MODEL_cc97980e25cf4e59b1133a918d260d8a",
              "IPY_MODEL_6660b58d8994492e8d2b6d6b76ae7a36"
            ],
            "layout": "IPY_MODEL_fa5e8d6552084063a91f557f0eabb8ca"
          }
        },
        "ba11c48817184169b15363c36c6543df": {
          "model_module": "@jupyter-widgets/controls",
          "model_name": "HTMLModel",
          "model_module_version": "1.5.0",
          "state": {
            "_dom_classes": [],
            "_model_module": "@jupyter-widgets/controls",
            "_model_module_version": "1.5.0",
            "_model_name": "HTMLModel",
            "_view_count": null,
            "_view_module": "@jupyter-widgets/controls",
            "_view_module_version": "1.5.0",
            "_view_name": "HTMLView",
            "description": "",
            "description_tooltip": null,
            "layout": "IPY_MODEL_d83a465458a143bb83df7d400bf7e404",
            "placeholder": "​",
            "style": "IPY_MODEL_9ad6e4c06bb64fae95e2fc7647341326",
            "value": "vocab.txt: 100%"
          }
        },
        "cc97980e25cf4e59b1133a918d260d8a": {
          "model_module": "@jupyter-widgets/controls",
          "model_name": "FloatProgressModel",
          "model_module_version": "1.5.0",
          "state": {
            "_dom_classes": [],
            "_model_module": "@jupyter-widgets/controls",
            "_model_module_version": "1.5.0",
            "_model_name": "FloatProgressModel",
            "_view_count": null,
            "_view_module": "@jupyter-widgets/controls",
            "_view_module_version": "1.5.0",
            "_view_name": "ProgressView",
            "bar_style": "success",
            "description": "",
            "description_tooltip": null,
            "layout": "IPY_MODEL_d8502a22f3ec4c8680ddfee67bf22f6c",
            "max": 231508,
            "min": 0,
            "orientation": "horizontal",
            "style": "IPY_MODEL_33aa29712b5949cca4ac197f3793bfc0",
            "value": 231508
          }
        },
        "6660b58d8994492e8d2b6d6b76ae7a36": {
          "model_module": "@jupyter-widgets/controls",
          "model_name": "HTMLModel",
          "model_module_version": "1.5.0",
          "state": {
            "_dom_classes": [],
            "_model_module": "@jupyter-widgets/controls",
            "_model_module_version": "1.5.0",
            "_model_name": "HTMLModel",
            "_view_count": null,
            "_view_module": "@jupyter-widgets/controls",
            "_view_module_version": "1.5.0",
            "_view_name": "HTMLView",
            "description": "",
            "description_tooltip": null,
            "layout": "IPY_MODEL_10511e6e2cdc47e6b4ca4cd847d8ce91",
            "placeholder": "​",
            "style": "IPY_MODEL_fd5dcf9abed64e51a4497a78fea692dd",
            "value": " 232k/232k [00:00&lt;00:00, 1.89MB/s]"
          }
        },
        "fa5e8d6552084063a91f557f0eabb8ca": {
          "model_module": "@jupyter-widgets/base",
          "model_name": "LayoutModel",
          "model_module_version": "1.2.0",
          "state": {
            "_model_module": "@jupyter-widgets/base",
            "_model_module_version": "1.2.0",
            "_model_name": "LayoutModel",
            "_view_count": null,
            "_view_module": "@jupyter-widgets/base",
            "_view_module_version": "1.2.0",
            "_view_name": "LayoutView",
            "align_content": null,
            "align_items": null,
            "align_self": null,
            "border": null,
            "bottom": null,
            "display": null,
            "flex": null,
            "flex_flow": null,
            "grid_area": null,
            "grid_auto_columns": null,
            "grid_auto_flow": null,
            "grid_auto_rows": null,
            "grid_column": null,
            "grid_gap": null,
            "grid_row": null,
            "grid_template_areas": null,
            "grid_template_columns": null,
            "grid_template_rows": null,
            "height": null,
            "justify_content": null,
            "justify_items": null,
            "left": null,
            "margin": null,
            "max_height": null,
            "max_width": null,
            "min_height": null,
            "min_width": null,
            "object_fit": null,
            "object_position": null,
            "order": null,
            "overflow": null,
            "overflow_x": null,
            "overflow_y": null,
            "padding": null,
            "right": null,
            "top": null,
            "visibility": null,
            "width": null
          }
        },
        "d83a465458a143bb83df7d400bf7e404": {
          "model_module": "@jupyter-widgets/base",
          "model_name": "LayoutModel",
          "model_module_version": "1.2.0",
          "state": {
            "_model_module": "@jupyter-widgets/base",
            "_model_module_version": "1.2.0",
            "_model_name": "LayoutModel",
            "_view_count": null,
            "_view_module": "@jupyter-widgets/base",
            "_view_module_version": "1.2.0",
            "_view_name": "LayoutView",
            "align_content": null,
            "align_items": null,
            "align_self": null,
            "border": null,
            "bottom": null,
            "display": null,
            "flex": null,
            "flex_flow": null,
            "grid_area": null,
            "grid_auto_columns": null,
            "grid_auto_flow": null,
            "grid_auto_rows": null,
            "grid_column": null,
            "grid_gap": null,
            "grid_row": null,
            "grid_template_areas": null,
            "grid_template_columns": null,
            "grid_template_rows": null,
            "height": null,
            "justify_content": null,
            "justify_items": null,
            "left": null,
            "margin": null,
            "max_height": null,
            "max_width": null,
            "min_height": null,
            "min_width": null,
            "object_fit": null,
            "object_position": null,
            "order": null,
            "overflow": null,
            "overflow_x": null,
            "overflow_y": null,
            "padding": null,
            "right": null,
            "top": null,
            "visibility": null,
            "width": null
          }
        },
        "9ad6e4c06bb64fae95e2fc7647341326": {
          "model_module": "@jupyter-widgets/controls",
          "model_name": "DescriptionStyleModel",
          "model_module_version": "1.5.0",
          "state": {
            "_model_module": "@jupyter-widgets/controls",
            "_model_module_version": "1.5.0",
            "_model_name": "DescriptionStyleModel",
            "_view_count": null,
            "_view_module": "@jupyter-widgets/base",
            "_view_module_version": "1.2.0",
            "_view_name": "StyleView",
            "description_width": ""
          }
        },
        "d8502a22f3ec4c8680ddfee67bf22f6c": {
          "model_module": "@jupyter-widgets/base",
          "model_name": "LayoutModel",
          "model_module_version": "1.2.0",
          "state": {
            "_model_module": "@jupyter-widgets/base",
            "_model_module_version": "1.2.0",
            "_model_name": "LayoutModel",
            "_view_count": null,
            "_view_module": "@jupyter-widgets/base",
            "_view_module_version": "1.2.0",
            "_view_name": "LayoutView",
            "align_content": null,
            "align_items": null,
            "align_self": null,
            "border": null,
            "bottom": null,
            "display": null,
            "flex": null,
            "flex_flow": null,
            "grid_area": null,
            "grid_auto_columns": null,
            "grid_auto_flow": null,
            "grid_auto_rows": null,
            "grid_column": null,
            "grid_gap": null,
            "grid_row": null,
            "grid_template_areas": null,
            "grid_template_columns": null,
            "grid_template_rows": null,
            "height": null,
            "justify_content": null,
            "justify_items": null,
            "left": null,
            "margin": null,
            "max_height": null,
            "max_width": null,
            "min_height": null,
            "min_width": null,
            "object_fit": null,
            "object_position": null,
            "order": null,
            "overflow": null,
            "overflow_x": null,
            "overflow_y": null,
            "padding": null,
            "right": null,
            "top": null,
            "visibility": null,
            "width": null
          }
        },
        "33aa29712b5949cca4ac197f3793bfc0": {
          "model_module": "@jupyter-widgets/controls",
          "model_name": "ProgressStyleModel",
          "model_module_version": "1.5.0",
          "state": {
            "_model_module": "@jupyter-widgets/controls",
            "_model_module_version": "1.5.0",
            "_model_name": "ProgressStyleModel",
            "_view_count": null,
            "_view_module": "@jupyter-widgets/base",
            "_view_module_version": "1.2.0",
            "_view_name": "StyleView",
            "bar_color": null,
            "description_width": ""
          }
        },
        "10511e6e2cdc47e6b4ca4cd847d8ce91": {
          "model_module": "@jupyter-widgets/base",
          "model_name": "LayoutModel",
          "model_module_version": "1.2.0",
          "state": {
            "_model_module": "@jupyter-widgets/base",
            "_model_module_version": "1.2.0",
            "_model_name": "LayoutModel",
            "_view_count": null,
            "_view_module": "@jupyter-widgets/base",
            "_view_module_version": "1.2.0",
            "_view_name": "LayoutView",
            "align_content": null,
            "align_items": null,
            "align_self": null,
            "border": null,
            "bottom": null,
            "display": null,
            "flex": null,
            "flex_flow": null,
            "grid_area": null,
            "grid_auto_columns": null,
            "grid_auto_flow": null,
            "grid_auto_rows": null,
            "grid_column": null,
            "grid_gap": null,
            "grid_row": null,
            "grid_template_areas": null,
            "grid_template_columns": null,
            "grid_template_rows": null,
            "height": null,
            "justify_content": null,
            "justify_items": null,
            "left": null,
            "margin": null,
            "max_height": null,
            "max_width": null,
            "min_height": null,
            "min_width": null,
            "object_fit": null,
            "object_position": null,
            "order": null,
            "overflow": null,
            "overflow_x": null,
            "overflow_y": null,
            "padding": null,
            "right": null,
            "top": null,
            "visibility": null,
            "width": null
          }
        },
        "fd5dcf9abed64e51a4497a78fea692dd": {
          "model_module": "@jupyter-widgets/controls",
          "model_name": "DescriptionStyleModel",
          "model_module_version": "1.5.0",
          "state": {
            "_model_module": "@jupyter-widgets/controls",
            "_model_module_version": "1.5.0",
            "_model_name": "DescriptionStyleModel",
            "_view_count": null,
            "_view_module": "@jupyter-widgets/base",
            "_view_module_version": "1.2.0",
            "_view_name": "StyleView",
            "description_width": ""
          }
        },
        "cf67737c047f4effb8b5ce9b8418bfde": {
          "model_module": "@jupyter-widgets/controls",
          "model_name": "HBoxModel",
          "model_module_version": "1.5.0",
          "state": {
            "_dom_classes": [],
            "_model_module": "@jupyter-widgets/controls",
            "_model_module_version": "1.5.0",
            "_model_name": "HBoxModel",
            "_view_count": null,
            "_view_module": "@jupyter-widgets/controls",
            "_view_module_version": "1.5.0",
            "_view_name": "HBoxView",
            "box_style": "",
            "children": [
              "IPY_MODEL_dbf4a5d6871c4486a0883e61c0f89f88",
              "IPY_MODEL_cf8d676c5906441bacd43689ce5fbeae",
              "IPY_MODEL_ce096c92bce5481b976bb9043908af36"
            ],
            "layout": "IPY_MODEL_cb525348eecf4422ae73d155a7067d1a"
          }
        },
        "dbf4a5d6871c4486a0883e61c0f89f88": {
          "model_module": "@jupyter-widgets/controls",
          "model_name": "HTMLModel",
          "model_module_version": "1.5.0",
          "state": {
            "_dom_classes": [],
            "_model_module": "@jupyter-widgets/controls",
            "_model_module_version": "1.5.0",
            "_model_name": "HTMLModel",
            "_view_count": null,
            "_view_module": "@jupyter-widgets/controls",
            "_view_module_version": "1.5.0",
            "_view_name": "HTMLView",
            "description": "",
            "description_tooltip": null,
            "layout": "IPY_MODEL_bbd2f688c0d64d5bada8a2375f875f2c",
            "placeholder": "​",
            "style": "IPY_MODEL_9c307426655044278327cc18005f932e",
            "value": "tokenizer.json: 100%"
          }
        },
        "cf8d676c5906441bacd43689ce5fbeae": {
          "model_module": "@jupyter-widgets/controls",
          "model_name": "FloatProgressModel",
          "model_module_version": "1.5.0",
          "state": {
            "_dom_classes": [],
            "_model_module": "@jupyter-widgets/controls",
            "_model_module_version": "1.5.0",
            "_model_name": "FloatProgressModel",
            "_view_count": null,
            "_view_module": "@jupyter-widgets/controls",
            "_view_module_version": "1.5.0",
            "_view_name": "ProgressView",
            "bar_style": "success",
            "description": "",
            "description_tooltip": null,
            "layout": "IPY_MODEL_074d30bb4b2645369ee10433f3a90b2e",
            "max": 466062,
            "min": 0,
            "orientation": "horizontal",
            "style": "IPY_MODEL_26ab71d94fce45e99959fad6d342014a",
            "value": 466062
          }
        },
        "ce096c92bce5481b976bb9043908af36": {
          "model_module": "@jupyter-widgets/controls",
          "model_name": "HTMLModel",
          "model_module_version": "1.5.0",
          "state": {
            "_dom_classes": [],
            "_model_module": "@jupyter-widgets/controls",
            "_model_module_version": "1.5.0",
            "_model_name": "HTMLModel",
            "_view_count": null,
            "_view_module": "@jupyter-widgets/controls",
            "_view_module_version": "1.5.0",
            "_view_name": "HTMLView",
            "description": "",
            "description_tooltip": null,
            "layout": "IPY_MODEL_a7961b84ce374998a2e4ae90d781f96f",
            "placeholder": "​",
            "style": "IPY_MODEL_691bc2fe5afa4bd48b722baa673d79a4",
            "value": " 466k/466k [00:00&lt;00:00, 6.63MB/s]"
          }
        },
        "cb525348eecf4422ae73d155a7067d1a": {
          "model_module": "@jupyter-widgets/base",
          "model_name": "LayoutModel",
          "model_module_version": "1.2.0",
          "state": {
            "_model_module": "@jupyter-widgets/base",
            "_model_module_version": "1.2.0",
            "_model_name": "LayoutModel",
            "_view_count": null,
            "_view_module": "@jupyter-widgets/base",
            "_view_module_version": "1.2.0",
            "_view_name": "LayoutView",
            "align_content": null,
            "align_items": null,
            "align_self": null,
            "border": null,
            "bottom": null,
            "display": null,
            "flex": null,
            "flex_flow": null,
            "grid_area": null,
            "grid_auto_columns": null,
            "grid_auto_flow": null,
            "grid_auto_rows": null,
            "grid_column": null,
            "grid_gap": null,
            "grid_row": null,
            "grid_template_areas": null,
            "grid_template_columns": null,
            "grid_template_rows": null,
            "height": null,
            "justify_content": null,
            "justify_items": null,
            "left": null,
            "margin": null,
            "max_height": null,
            "max_width": null,
            "min_height": null,
            "min_width": null,
            "object_fit": null,
            "object_position": null,
            "order": null,
            "overflow": null,
            "overflow_x": null,
            "overflow_y": null,
            "padding": null,
            "right": null,
            "top": null,
            "visibility": null,
            "width": null
          }
        },
        "bbd2f688c0d64d5bada8a2375f875f2c": {
          "model_module": "@jupyter-widgets/base",
          "model_name": "LayoutModel",
          "model_module_version": "1.2.0",
          "state": {
            "_model_module": "@jupyter-widgets/base",
            "_model_module_version": "1.2.0",
            "_model_name": "LayoutModel",
            "_view_count": null,
            "_view_module": "@jupyter-widgets/base",
            "_view_module_version": "1.2.0",
            "_view_name": "LayoutView",
            "align_content": null,
            "align_items": null,
            "align_self": null,
            "border": null,
            "bottom": null,
            "display": null,
            "flex": null,
            "flex_flow": null,
            "grid_area": null,
            "grid_auto_columns": null,
            "grid_auto_flow": null,
            "grid_auto_rows": null,
            "grid_column": null,
            "grid_gap": null,
            "grid_row": null,
            "grid_template_areas": null,
            "grid_template_columns": null,
            "grid_template_rows": null,
            "height": null,
            "justify_content": null,
            "justify_items": null,
            "left": null,
            "margin": null,
            "max_height": null,
            "max_width": null,
            "min_height": null,
            "min_width": null,
            "object_fit": null,
            "object_position": null,
            "order": null,
            "overflow": null,
            "overflow_x": null,
            "overflow_y": null,
            "padding": null,
            "right": null,
            "top": null,
            "visibility": null,
            "width": null
          }
        },
        "9c307426655044278327cc18005f932e": {
          "model_module": "@jupyter-widgets/controls",
          "model_name": "DescriptionStyleModel",
          "model_module_version": "1.5.0",
          "state": {
            "_model_module": "@jupyter-widgets/controls",
            "_model_module_version": "1.5.0",
            "_model_name": "DescriptionStyleModel",
            "_view_count": null,
            "_view_module": "@jupyter-widgets/base",
            "_view_module_version": "1.2.0",
            "_view_name": "StyleView",
            "description_width": ""
          }
        },
        "074d30bb4b2645369ee10433f3a90b2e": {
          "model_module": "@jupyter-widgets/base",
          "model_name": "LayoutModel",
          "model_module_version": "1.2.0",
          "state": {
            "_model_module": "@jupyter-widgets/base",
            "_model_module_version": "1.2.0",
            "_model_name": "LayoutModel",
            "_view_count": null,
            "_view_module": "@jupyter-widgets/base",
            "_view_module_version": "1.2.0",
            "_view_name": "LayoutView",
            "align_content": null,
            "align_items": null,
            "align_self": null,
            "border": null,
            "bottom": null,
            "display": null,
            "flex": null,
            "flex_flow": null,
            "grid_area": null,
            "grid_auto_columns": null,
            "grid_auto_flow": null,
            "grid_auto_rows": null,
            "grid_column": null,
            "grid_gap": null,
            "grid_row": null,
            "grid_template_areas": null,
            "grid_template_columns": null,
            "grid_template_rows": null,
            "height": null,
            "justify_content": null,
            "justify_items": null,
            "left": null,
            "margin": null,
            "max_height": null,
            "max_width": null,
            "min_height": null,
            "min_width": null,
            "object_fit": null,
            "object_position": null,
            "order": null,
            "overflow": null,
            "overflow_x": null,
            "overflow_y": null,
            "padding": null,
            "right": null,
            "top": null,
            "visibility": null,
            "width": null
          }
        },
        "26ab71d94fce45e99959fad6d342014a": {
          "model_module": "@jupyter-widgets/controls",
          "model_name": "ProgressStyleModel",
          "model_module_version": "1.5.0",
          "state": {
            "_model_module": "@jupyter-widgets/controls",
            "_model_module_version": "1.5.0",
            "_model_name": "ProgressStyleModel",
            "_view_count": null,
            "_view_module": "@jupyter-widgets/base",
            "_view_module_version": "1.2.0",
            "_view_name": "StyleView",
            "bar_color": null,
            "description_width": ""
          }
        },
        "a7961b84ce374998a2e4ae90d781f96f": {
          "model_module": "@jupyter-widgets/base",
          "model_name": "LayoutModel",
          "model_module_version": "1.2.0",
          "state": {
            "_model_module": "@jupyter-widgets/base",
            "_model_module_version": "1.2.0",
            "_model_name": "LayoutModel",
            "_view_count": null,
            "_view_module": "@jupyter-widgets/base",
            "_view_module_version": "1.2.0",
            "_view_name": "LayoutView",
            "align_content": null,
            "align_items": null,
            "align_self": null,
            "border": null,
            "bottom": null,
            "display": null,
            "flex": null,
            "flex_flow": null,
            "grid_area": null,
            "grid_auto_columns": null,
            "grid_auto_flow": null,
            "grid_auto_rows": null,
            "grid_column": null,
            "grid_gap": null,
            "grid_row": null,
            "grid_template_areas": null,
            "grid_template_columns": null,
            "grid_template_rows": null,
            "height": null,
            "justify_content": null,
            "justify_items": null,
            "left": null,
            "margin": null,
            "max_height": null,
            "max_width": null,
            "min_height": null,
            "min_width": null,
            "object_fit": null,
            "object_position": null,
            "order": null,
            "overflow": null,
            "overflow_x": null,
            "overflow_y": null,
            "padding": null,
            "right": null,
            "top": null,
            "visibility": null,
            "width": null
          }
        },
        "691bc2fe5afa4bd48b722baa673d79a4": {
          "model_module": "@jupyter-widgets/controls",
          "model_name": "DescriptionStyleModel",
          "model_module_version": "1.5.0",
          "state": {
            "_model_module": "@jupyter-widgets/controls",
            "_model_module_version": "1.5.0",
            "_model_name": "DescriptionStyleModel",
            "_view_count": null,
            "_view_module": "@jupyter-widgets/base",
            "_view_module_version": "1.2.0",
            "_view_name": "StyleView",
            "description_width": ""
          }
        },
        "6ce41ed80cd642fabbbe84bb70e38b1c": {
          "model_module": "@jupyter-widgets/controls",
          "model_name": "HBoxModel",
          "model_module_version": "1.5.0",
          "state": {
            "_dom_classes": [],
            "_model_module": "@jupyter-widgets/controls",
            "_model_module_version": "1.5.0",
            "_model_name": "HBoxModel",
            "_view_count": null,
            "_view_module": "@jupyter-widgets/controls",
            "_view_module_version": "1.5.0",
            "_view_name": "HBoxView",
            "box_style": "",
            "children": [
              "IPY_MODEL_1a0deec7298847abb0cd7e6ec4dc7b76",
              "IPY_MODEL_cc6446e8cadc40e3bf1f9dfbcb4ea31e",
              "IPY_MODEL_8747b682fad147f88ecd4b0c6687b112"
            ],
            "layout": "IPY_MODEL_dc71acdb808b425289ea28502c224fc4"
          }
        },
        "1a0deec7298847abb0cd7e6ec4dc7b76": {
          "model_module": "@jupyter-widgets/controls",
          "model_name": "HTMLModel",
          "model_module_version": "1.5.0",
          "state": {
            "_dom_classes": [],
            "_model_module": "@jupyter-widgets/controls",
            "_model_module_version": "1.5.0",
            "_model_name": "HTMLModel",
            "_view_count": null,
            "_view_module": "@jupyter-widgets/controls",
            "_view_module_version": "1.5.0",
            "_view_name": "HTMLView",
            "description": "",
            "description_tooltip": null,
            "layout": "IPY_MODEL_dc7c24b77ceb48a79e0fe039281393a4",
            "placeholder": "​",
            "style": "IPY_MODEL_0a65dee8f15f4cc895980c155c8a1d52",
            "value": "config.json: 100%"
          }
        },
        "cc6446e8cadc40e3bf1f9dfbcb4ea31e": {
          "model_module": "@jupyter-widgets/controls",
          "model_name": "FloatProgressModel",
          "model_module_version": "1.5.0",
          "state": {
            "_dom_classes": [],
            "_model_module": "@jupyter-widgets/controls",
            "_model_module_version": "1.5.0",
            "_model_name": "FloatProgressModel",
            "_view_count": null,
            "_view_module": "@jupyter-widgets/controls",
            "_view_module_version": "1.5.0",
            "_view_name": "ProgressView",
            "bar_style": "success",
            "description": "",
            "description_tooltip": null,
            "layout": "IPY_MODEL_44a427dcb5514c168773921b5bfb11f6",
            "max": 570,
            "min": 0,
            "orientation": "horizontal",
            "style": "IPY_MODEL_72fca633a0264b899171e664d4028173",
            "value": 570
          }
        },
        "8747b682fad147f88ecd4b0c6687b112": {
          "model_module": "@jupyter-widgets/controls",
          "model_name": "HTMLModel",
          "model_module_version": "1.5.0",
          "state": {
            "_dom_classes": [],
            "_model_module": "@jupyter-widgets/controls",
            "_model_module_version": "1.5.0",
            "_model_name": "HTMLModel",
            "_view_count": null,
            "_view_module": "@jupyter-widgets/controls",
            "_view_module_version": "1.5.0",
            "_view_name": "HTMLView",
            "description": "",
            "description_tooltip": null,
            "layout": "IPY_MODEL_1093c88529944e74a4c527d26c753694",
            "placeholder": "​",
            "style": "IPY_MODEL_f761b95c44e1456597f0cb4af5d1b806",
            "value": " 570/570 [00:00&lt;00:00, 61.7kB/s]"
          }
        },
        "dc71acdb808b425289ea28502c224fc4": {
          "model_module": "@jupyter-widgets/base",
          "model_name": "LayoutModel",
          "model_module_version": "1.2.0",
          "state": {
            "_model_module": "@jupyter-widgets/base",
            "_model_module_version": "1.2.0",
            "_model_name": "LayoutModel",
            "_view_count": null,
            "_view_module": "@jupyter-widgets/base",
            "_view_module_version": "1.2.0",
            "_view_name": "LayoutView",
            "align_content": null,
            "align_items": null,
            "align_self": null,
            "border": null,
            "bottom": null,
            "display": null,
            "flex": null,
            "flex_flow": null,
            "grid_area": null,
            "grid_auto_columns": null,
            "grid_auto_flow": null,
            "grid_auto_rows": null,
            "grid_column": null,
            "grid_gap": null,
            "grid_row": null,
            "grid_template_areas": null,
            "grid_template_columns": null,
            "grid_template_rows": null,
            "height": null,
            "justify_content": null,
            "justify_items": null,
            "left": null,
            "margin": null,
            "max_height": null,
            "max_width": null,
            "min_height": null,
            "min_width": null,
            "object_fit": null,
            "object_position": null,
            "order": null,
            "overflow": null,
            "overflow_x": null,
            "overflow_y": null,
            "padding": null,
            "right": null,
            "top": null,
            "visibility": null,
            "width": null
          }
        },
        "dc7c24b77ceb48a79e0fe039281393a4": {
          "model_module": "@jupyter-widgets/base",
          "model_name": "LayoutModel",
          "model_module_version": "1.2.0",
          "state": {
            "_model_module": "@jupyter-widgets/base",
            "_model_module_version": "1.2.0",
            "_model_name": "LayoutModel",
            "_view_count": null,
            "_view_module": "@jupyter-widgets/base",
            "_view_module_version": "1.2.0",
            "_view_name": "LayoutView",
            "align_content": null,
            "align_items": null,
            "align_self": null,
            "border": null,
            "bottom": null,
            "display": null,
            "flex": null,
            "flex_flow": null,
            "grid_area": null,
            "grid_auto_columns": null,
            "grid_auto_flow": null,
            "grid_auto_rows": null,
            "grid_column": null,
            "grid_gap": null,
            "grid_row": null,
            "grid_template_areas": null,
            "grid_template_columns": null,
            "grid_template_rows": null,
            "height": null,
            "justify_content": null,
            "justify_items": null,
            "left": null,
            "margin": null,
            "max_height": null,
            "max_width": null,
            "min_height": null,
            "min_width": null,
            "object_fit": null,
            "object_position": null,
            "order": null,
            "overflow": null,
            "overflow_x": null,
            "overflow_y": null,
            "padding": null,
            "right": null,
            "top": null,
            "visibility": null,
            "width": null
          }
        },
        "0a65dee8f15f4cc895980c155c8a1d52": {
          "model_module": "@jupyter-widgets/controls",
          "model_name": "DescriptionStyleModel",
          "model_module_version": "1.5.0",
          "state": {
            "_model_module": "@jupyter-widgets/controls",
            "_model_module_version": "1.5.0",
            "_model_name": "DescriptionStyleModel",
            "_view_count": null,
            "_view_module": "@jupyter-widgets/base",
            "_view_module_version": "1.2.0",
            "_view_name": "StyleView",
            "description_width": ""
          }
        },
        "44a427dcb5514c168773921b5bfb11f6": {
          "model_module": "@jupyter-widgets/base",
          "model_name": "LayoutModel",
          "model_module_version": "1.2.0",
          "state": {
            "_model_module": "@jupyter-widgets/base",
            "_model_module_version": "1.2.0",
            "_model_name": "LayoutModel",
            "_view_count": null,
            "_view_module": "@jupyter-widgets/base",
            "_view_module_version": "1.2.0",
            "_view_name": "LayoutView",
            "align_content": null,
            "align_items": null,
            "align_self": null,
            "border": null,
            "bottom": null,
            "display": null,
            "flex": null,
            "flex_flow": null,
            "grid_area": null,
            "grid_auto_columns": null,
            "grid_auto_flow": null,
            "grid_auto_rows": null,
            "grid_column": null,
            "grid_gap": null,
            "grid_row": null,
            "grid_template_areas": null,
            "grid_template_columns": null,
            "grid_template_rows": null,
            "height": null,
            "justify_content": null,
            "justify_items": null,
            "left": null,
            "margin": null,
            "max_height": null,
            "max_width": null,
            "min_height": null,
            "min_width": null,
            "object_fit": null,
            "object_position": null,
            "order": null,
            "overflow": null,
            "overflow_x": null,
            "overflow_y": null,
            "padding": null,
            "right": null,
            "top": null,
            "visibility": null,
            "width": null
          }
        },
        "72fca633a0264b899171e664d4028173": {
          "model_module": "@jupyter-widgets/controls",
          "model_name": "ProgressStyleModel",
          "model_module_version": "1.5.0",
          "state": {
            "_model_module": "@jupyter-widgets/controls",
            "_model_module_version": "1.5.0",
            "_model_name": "ProgressStyleModel",
            "_view_count": null,
            "_view_module": "@jupyter-widgets/base",
            "_view_module_version": "1.2.0",
            "_view_name": "StyleView",
            "bar_color": null,
            "description_width": ""
          }
        },
        "1093c88529944e74a4c527d26c753694": {
          "model_module": "@jupyter-widgets/base",
          "model_name": "LayoutModel",
          "model_module_version": "1.2.0",
          "state": {
            "_model_module": "@jupyter-widgets/base",
            "_model_module_version": "1.2.0",
            "_model_name": "LayoutModel",
            "_view_count": null,
            "_view_module": "@jupyter-widgets/base",
            "_view_module_version": "1.2.0",
            "_view_name": "LayoutView",
            "align_content": null,
            "align_items": null,
            "align_self": null,
            "border": null,
            "bottom": null,
            "display": null,
            "flex": null,
            "flex_flow": null,
            "grid_area": null,
            "grid_auto_columns": null,
            "grid_auto_flow": null,
            "grid_auto_rows": null,
            "grid_column": null,
            "grid_gap": null,
            "grid_row": null,
            "grid_template_areas": null,
            "grid_template_columns": null,
            "grid_template_rows": null,
            "height": null,
            "justify_content": null,
            "justify_items": null,
            "left": null,
            "margin": null,
            "max_height": null,
            "max_width": null,
            "min_height": null,
            "min_width": null,
            "object_fit": null,
            "object_position": null,
            "order": null,
            "overflow": null,
            "overflow_x": null,
            "overflow_y": null,
            "padding": null,
            "right": null,
            "top": null,
            "visibility": null,
            "width": null
          }
        },
        "f761b95c44e1456597f0cb4af5d1b806": {
          "model_module": "@jupyter-widgets/controls",
          "model_name": "DescriptionStyleModel",
          "model_module_version": "1.5.0",
          "state": {
            "_model_module": "@jupyter-widgets/controls",
            "_model_module_version": "1.5.0",
            "_model_name": "DescriptionStyleModel",
            "_view_count": null,
            "_view_module": "@jupyter-widgets/base",
            "_view_module_version": "1.2.0",
            "_view_name": "StyleView",
            "description_width": ""
          }
        }
      }
    }
  },
  "cells": [
    {
      "cell_type": "markdown",
      "source": [
        "# **Movie Sentiment Analysis with PyTorch and BERT Tokenizer**"
      ],
      "metadata": {
        "id": "IYA3cKlj7oYi"
      }
    },
    {
      "cell_type": "markdown",
      "source": [
        "**Install Required Libraries**"
      ],
      "metadata": {
        "id": "yZHBkSIRBBxh"
      }
    },
    {
      "cell_type": "code",
      "source": [
        "!pip install torch transformers spacy scikit-learn tqdm\n",
        "!python -m spacy download en_core_web_sm"
      ],
      "metadata": {
        "colab": {
          "base_uri": "https://localhost:8080/"
        },
        "collapsed": true,
        "id": "l-5enZVjWR3r",
        "outputId": "9e680e32-b941-49c4-ef75-47e8ba570978"
      },
      "execution_count": 1,
      "outputs": [
        {
          "output_type": "stream",
          "name": "stdout",
          "text": [
            "Requirement already satisfied: torch in /usr/local/lib/python3.11/dist-packages (2.6.0+cu124)\n",
            "Requirement already satisfied: transformers in /usr/local/lib/python3.11/dist-packages (4.51.3)\n",
            "Requirement already satisfied: spacy in /usr/local/lib/python3.11/dist-packages (3.8.5)\n",
            "Requirement already satisfied: scikit-learn in /usr/local/lib/python3.11/dist-packages (1.6.1)\n",
            "Requirement already satisfied: tqdm in /usr/local/lib/python3.11/dist-packages (4.67.1)\n",
            "Requirement already satisfied: filelock in /usr/local/lib/python3.11/dist-packages (from torch) (3.18.0)\n",
            "Requirement already satisfied: typing-extensions>=4.10.0 in /usr/local/lib/python3.11/dist-packages (from torch) (4.13.2)\n",
            "Requirement already satisfied: networkx in /usr/local/lib/python3.11/dist-packages (from torch) (3.4.2)\n",
            "Requirement already satisfied: jinja2 in /usr/local/lib/python3.11/dist-packages (from torch) (3.1.6)\n",
            "Requirement already satisfied: fsspec in /usr/local/lib/python3.11/dist-packages (from torch) (2025.3.2)\n",
            "Collecting nvidia-cuda-nvrtc-cu12==12.4.127 (from torch)\n",
            "  Downloading nvidia_cuda_nvrtc_cu12-12.4.127-py3-none-manylinux2014_x86_64.whl.metadata (1.5 kB)\n",
            "Collecting nvidia-cuda-runtime-cu12==12.4.127 (from torch)\n",
            "  Downloading nvidia_cuda_runtime_cu12-12.4.127-py3-none-manylinux2014_x86_64.whl.metadata (1.5 kB)\n",
            "Collecting nvidia-cuda-cupti-cu12==12.4.127 (from torch)\n",
            "  Downloading nvidia_cuda_cupti_cu12-12.4.127-py3-none-manylinux2014_x86_64.whl.metadata (1.6 kB)\n",
            "Collecting nvidia-cudnn-cu12==9.1.0.70 (from torch)\n",
            "  Downloading nvidia_cudnn_cu12-9.1.0.70-py3-none-manylinux2014_x86_64.whl.metadata (1.6 kB)\n",
            "Collecting nvidia-cublas-cu12==12.4.5.8 (from torch)\n",
            "  Downloading nvidia_cublas_cu12-12.4.5.8-py3-none-manylinux2014_x86_64.whl.metadata (1.5 kB)\n",
            "Collecting nvidia-cufft-cu12==11.2.1.3 (from torch)\n",
            "  Downloading nvidia_cufft_cu12-11.2.1.3-py3-none-manylinux2014_x86_64.whl.metadata (1.5 kB)\n",
            "Collecting nvidia-curand-cu12==10.3.5.147 (from torch)\n",
            "  Downloading nvidia_curand_cu12-10.3.5.147-py3-none-manylinux2014_x86_64.whl.metadata (1.5 kB)\n",
            "Collecting nvidia-cusolver-cu12==11.6.1.9 (from torch)\n",
            "  Downloading nvidia_cusolver_cu12-11.6.1.9-py3-none-manylinux2014_x86_64.whl.metadata (1.6 kB)\n",
            "Collecting nvidia-cusparse-cu12==12.3.1.170 (from torch)\n",
            "  Downloading nvidia_cusparse_cu12-12.3.1.170-py3-none-manylinux2014_x86_64.whl.metadata (1.6 kB)\n",
            "Requirement already satisfied: nvidia-cusparselt-cu12==0.6.2 in /usr/local/lib/python3.11/dist-packages (from torch) (0.6.2)\n",
            "Requirement already satisfied: nvidia-nccl-cu12==2.21.5 in /usr/local/lib/python3.11/dist-packages (from torch) (2.21.5)\n",
            "Requirement already satisfied: nvidia-nvtx-cu12==12.4.127 in /usr/local/lib/python3.11/dist-packages (from torch) (12.4.127)\n",
            "Collecting nvidia-nvjitlink-cu12==12.4.127 (from torch)\n",
            "  Downloading nvidia_nvjitlink_cu12-12.4.127-py3-none-manylinux2014_x86_64.whl.metadata (1.5 kB)\n",
            "Requirement already satisfied: triton==3.2.0 in /usr/local/lib/python3.11/dist-packages (from torch) (3.2.0)\n",
            "Requirement already satisfied: sympy==1.13.1 in /usr/local/lib/python3.11/dist-packages (from torch) (1.13.1)\n",
            "Requirement already satisfied: mpmath<1.4,>=1.1.0 in /usr/local/lib/python3.11/dist-packages (from sympy==1.13.1->torch) (1.3.0)\n",
            "Requirement already satisfied: huggingface-hub<1.0,>=0.30.0 in /usr/local/lib/python3.11/dist-packages (from transformers) (0.30.2)\n",
            "Requirement already satisfied: numpy>=1.17 in /usr/local/lib/python3.11/dist-packages (from transformers) (2.0.2)\n",
            "Requirement already satisfied: packaging>=20.0 in /usr/local/lib/python3.11/dist-packages (from transformers) (24.2)\n",
            "Requirement already satisfied: pyyaml>=5.1 in /usr/local/lib/python3.11/dist-packages (from transformers) (6.0.2)\n",
            "Requirement already satisfied: regex!=2019.12.17 in /usr/local/lib/python3.11/dist-packages (from transformers) (2024.11.6)\n",
            "Requirement already satisfied: requests in /usr/local/lib/python3.11/dist-packages (from transformers) (2.32.3)\n",
            "Requirement already satisfied: tokenizers<0.22,>=0.21 in /usr/local/lib/python3.11/dist-packages (from transformers) (0.21.1)\n",
            "Requirement already satisfied: safetensors>=0.4.3 in /usr/local/lib/python3.11/dist-packages (from transformers) (0.5.3)\n",
            "Requirement already satisfied: spacy-legacy<3.1.0,>=3.0.11 in /usr/local/lib/python3.11/dist-packages (from spacy) (3.0.12)\n",
            "Requirement already satisfied: spacy-loggers<2.0.0,>=1.0.0 in /usr/local/lib/python3.11/dist-packages (from spacy) (1.0.5)\n",
            "Requirement already satisfied: murmurhash<1.1.0,>=0.28.0 in /usr/local/lib/python3.11/dist-packages (from spacy) (1.0.12)\n",
            "Requirement already satisfied: cymem<2.1.0,>=2.0.2 in /usr/local/lib/python3.11/dist-packages (from spacy) (2.0.11)\n",
            "Requirement already satisfied: preshed<3.1.0,>=3.0.2 in /usr/local/lib/python3.11/dist-packages (from spacy) (3.0.9)\n",
            "Requirement already satisfied: thinc<8.4.0,>=8.3.4 in /usr/local/lib/python3.11/dist-packages (from spacy) (8.3.6)\n",
            "Requirement already satisfied: wasabi<1.2.0,>=0.9.1 in /usr/local/lib/python3.11/dist-packages (from spacy) (1.1.3)\n",
            "Requirement already satisfied: srsly<3.0.0,>=2.4.3 in /usr/local/lib/python3.11/dist-packages (from spacy) (2.5.1)\n",
            "Requirement already satisfied: catalogue<2.1.0,>=2.0.6 in /usr/local/lib/python3.11/dist-packages (from spacy) (2.0.10)\n",
            "Requirement already satisfied: weasel<0.5.0,>=0.1.0 in /usr/local/lib/python3.11/dist-packages (from spacy) (0.4.1)\n",
            "Requirement already satisfied: typer<1.0.0,>=0.3.0 in /usr/local/lib/python3.11/dist-packages (from spacy) (0.15.3)\n",
            "Requirement already satisfied: pydantic!=1.8,!=1.8.1,<3.0.0,>=1.7.4 in /usr/local/lib/python3.11/dist-packages (from spacy) (2.11.4)\n",
            "Requirement already satisfied: setuptools in /usr/local/lib/python3.11/dist-packages (from spacy) (75.2.0)\n",
            "Requirement already satisfied: langcodes<4.0.0,>=3.2.0 in /usr/local/lib/python3.11/dist-packages (from spacy) (3.5.0)\n",
            "Requirement already satisfied: scipy>=1.6.0 in /usr/local/lib/python3.11/dist-packages (from scikit-learn) (1.15.2)\n",
            "Requirement already satisfied: joblib>=1.2.0 in /usr/local/lib/python3.11/dist-packages (from scikit-learn) (1.4.2)\n",
            "Requirement already satisfied: threadpoolctl>=3.1.0 in /usr/local/lib/python3.11/dist-packages (from scikit-learn) (3.6.0)\n",
            "Requirement already satisfied: language-data>=1.2 in /usr/local/lib/python3.11/dist-packages (from langcodes<4.0.0,>=3.2.0->spacy) (1.3.0)\n",
            "Requirement already satisfied: annotated-types>=0.6.0 in /usr/local/lib/python3.11/dist-packages (from pydantic!=1.8,!=1.8.1,<3.0.0,>=1.7.4->spacy) (0.7.0)\n",
            "Requirement already satisfied: pydantic-core==2.33.2 in /usr/local/lib/python3.11/dist-packages (from pydantic!=1.8,!=1.8.1,<3.0.0,>=1.7.4->spacy) (2.33.2)\n",
            "Requirement already satisfied: typing-inspection>=0.4.0 in /usr/local/lib/python3.11/dist-packages (from pydantic!=1.8,!=1.8.1,<3.0.0,>=1.7.4->spacy) (0.4.0)\n",
            "Requirement already satisfied: charset-normalizer<4,>=2 in /usr/local/lib/python3.11/dist-packages (from requests->transformers) (3.4.1)\n",
            "Requirement already satisfied: idna<4,>=2.5 in /usr/local/lib/python3.11/dist-packages (from requests->transformers) (3.10)\n",
            "Requirement already satisfied: urllib3<3,>=1.21.1 in /usr/local/lib/python3.11/dist-packages (from requests->transformers) (2.4.0)\n",
            "Requirement already satisfied: certifi>=2017.4.17 in /usr/local/lib/python3.11/dist-packages (from requests->transformers) (2025.4.26)\n",
            "Requirement already satisfied: blis<1.4.0,>=1.3.0 in /usr/local/lib/python3.11/dist-packages (from thinc<8.4.0,>=8.3.4->spacy) (1.3.0)\n",
            "Requirement already satisfied: confection<1.0.0,>=0.0.1 in /usr/local/lib/python3.11/dist-packages (from thinc<8.4.0,>=8.3.4->spacy) (0.1.5)\n",
            "Requirement already satisfied: click>=8.0.0 in /usr/local/lib/python3.11/dist-packages (from typer<1.0.0,>=0.3.0->spacy) (8.1.8)\n",
            "Requirement already satisfied: shellingham>=1.3.0 in /usr/local/lib/python3.11/dist-packages (from typer<1.0.0,>=0.3.0->spacy) (1.5.4)\n",
            "Requirement already satisfied: rich>=10.11.0 in /usr/local/lib/python3.11/dist-packages (from typer<1.0.0,>=0.3.0->spacy) (13.9.4)\n",
            "Requirement already satisfied: cloudpathlib<1.0.0,>=0.7.0 in /usr/local/lib/python3.11/dist-packages (from weasel<0.5.0,>=0.1.0->spacy) (0.21.0)\n",
            "Requirement already satisfied: smart-open<8.0.0,>=5.2.1 in /usr/local/lib/python3.11/dist-packages (from weasel<0.5.0,>=0.1.0->spacy) (7.1.0)\n",
            "Requirement already satisfied: MarkupSafe>=2.0 in /usr/local/lib/python3.11/dist-packages (from jinja2->torch) (3.0.2)\n",
            "Requirement already satisfied: marisa-trie>=1.1.0 in /usr/local/lib/python3.11/dist-packages (from language-data>=1.2->langcodes<4.0.0,>=3.2.0->spacy) (1.2.1)\n",
            "Requirement already satisfied: markdown-it-py>=2.2.0 in /usr/local/lib/python3.11/dist-packages (from rich>=10.11.0->typer<1.0.0,>=0.3.0->spacy) (3.0.0)\n",
            "Requirement already satisfied: pygments<3.0.0,>=2.13.0 in /usr/local/lib/python3.11/dist-packages (from rich>=10.11.0->typer<1.0.0,>=0.3.0->spacy) (2.19.1)\n",
            "Requirement already satisfied: wrapt in /usr/local/lib/python3.11/dist-packages (from smart-open<8.0.0,>=5.2.1->weasel<0.5.0,>=0.1.0->spacy) (1.17.2)\n",
            "Requirement already satisfied: mdurl~=0.1 in /usr/local/lib/python3.11/dist-packages (from markdown-it-py>=2.2.0->rich>=10.11.0->typer<1.0.0,>=0.3.0->spacy) (0.1.2)\n",
            "Downloading nvidia_cublas_cu12-12.4.5.8-py3-none-manylinux2014_x86_64.whl (363.4 MB)\n",
            "\u001b[2K   \u001b[90m━━━━━━━━━━━━━━━━━━━━━━━━━━━━━━━━━━━━━━━━\u001b[0m \u001b[32m363.4/363.4 MB\u001b[0m \u001b[31m3.5 MB/s\u001b[0m eta \u001b[36m0:00:00\u001b[0m\n",
            "\u001b[?25hDownloading nvidia_cuda_cupti_cu12-12.4.127-py3-none-manylinux2014_x86_64.whl (13.8 MB)\n",
            "\u001b[2K   \u001b[90m━━━━━━━━━━━━━━━━━━━━━━━━━━━━━━━━━━━━━━━━\u001b[0m \u001b[32m13.8/13.8 MB\u001b[0m \u001b[31m43.3 MB/s\u001b[0m eta \u001b[36m0:00:00\u001b[0m\n",
            "\u001b[?25hDownloading nvidia_cuda_nvrtc_cu12-12.4.127-py3-none-manylinux2014_x86_64.whl (24.6 MB)\n",
            "\u001b[2K   \u001b[90m━━━━━━━━━━━━━━━━━━━━━━━━━━━━━━━━━━━━━━━━\u001b[0m \u001b[32m24.6/24.6 MB\u001b[0m \u001b[31m27.4 MB/s\u001b[0m eta \u001b[36m0:00:00\u001b[0m\n",
            "\u001b[?25hDownloading nvidia_cuda_runtime_cu12-12.4.127-py3-none-manylinux2014_x86_64.whl (883 kB)\n",
            "\u001b[2K   \u001b[90m━━━━━━━━━━━━━━━━━━━━━━━━━━━━━━━━━━━━━━━━\u001b[0m \u001b[32m883.7/883.7 kB\u001b[0m \u001b[31m24.1 MB/s\u001b[0m eta \u001b[36m0:00:00\u001b[0m\n",
            "\u001b[?25hDownloading nvidia_cudnn_cu12-9.1.0.70-py3-none-manylinux2014_x86_64.whl (664.8 MB)\n",
            "\u001b[2K   \u001b[90m━━━━━━━━━━━━━━━━━━━━━━━━━━━━━━━━━━━━━━━━\u001b[0m \u001b[32m664.8/664.8 MB\u001b[0m \u001b[31m2.1 MB/s\u001b[0m eta \u001b[36m0:00:00\u001b[0m\n",
            "\u001b[?25hDownloading nvidia_cufft_cu12-11.2.1.3-py3-none-manylinux2014_x86_64.whl (211.5 MB)\n",
            "\u001b[2K   \u001b[90m━━━━━━━━━━━━━━━━━━━━━━━━━━━━━━━━━━━━━━━━\u001b[0m \u001b[32m211.5/211.5 MB\u001b[0m \u001b[31m5.8 MB/s\u001b[0m eta \u001b[36m0:00:00\u001b[0m\n",
            "\u001b[?25hDownloading nvidia_curand_cu12-10.3.5.147-py3-none-manylinux2014_x86_64.whl (56.3 MB)\n",
            "\u001b[2K   \u001b[90m━━━━━━━━━━━━━━━━━━━━━━━━━━━━━━━━━━━━━━━━\u001b[0m \u001b[32m56.3/56.3 MB\u001b[0m \u001b[31m12.5 MB/s\u001b[0m eta \u001b[36m0:00:00\u001b[0m\n",
            "\u001b[?25hDownloading nvidia_cusolver_cu12-11.6.1.9-py3-none-manylinux2014_x86_64.whl (127.9 MB)\n",
            "\u001b[2K   \u001b[90m━━━━━━━━━━━━━━━━━━━━━━━━━━━━━━━━━━━━━━━━\u001b[0m \u001b[32m127.9/127.9 MB\u001b[0m \u001b[31m7.7 MB/s\u001b[0m eta \u001b[36m0:00:00\u001b[0m\n",
            "\u001b[?25hDownloading nvidia_cusparse_cu12-12.3.1.170-py3-none-manylinux2014_x86_64.whl (207.5 MB)\n",
            "\u001b[2K   \u001b[90m━━━━━━━━━━━━━━━━━━━━━━━━━━━━━━━━━━━━━━━━\u001b[0m \u001b[32m207.5/207.5 MB\u001b[0m \u001b[31m6.2 MB/s\u001b[0m eta \u001b[36m0:00:00\u001b[0m\n",
            "\u001b[?25hDownloading nvidia_nvjitlink_cu12-12.4.127-py3-none-manylinux2014_x86_64.whl (21.1 MB)\n",
            "\u001b[2K   \u001b[90m━━━━━━━━━━━━━━━━━━━━━━━━━━━━━━━━━━━━━━━━\u001b[0m \u001b[32m21.1/21.1 MB\u001b[0m \u001b[31m68.2 MB/s\u001b[0m eta \u001b[36m0:00:00\u001b[0m\n",
            "\u001b[?25hInstalling collected packages: nvidia-nvjitlink-cu12, nvidia-curand-cu12, nvidia-cufft-cu12, nvidia-cuda-runtime-cu12, nvidia-cuda-nvrtc-cu12, nvidia-cuda-cupti-cu12, nvidia-cublas-cu12, nvidia-cusparse-cu12, nvidia-cudnn-cu12, nvidia-cusolver-cu12\n",
            "  Attempting uninstall: nvidia-nvjitlink-cu12\n",
            "    Found existing installation: nvidia-nvjitlink-cu12 12.5.82\n",
            "    Uninstalling nvidia-nvjitlink-cu12-12.5.82:\n",
            "      Successfully uninstalled nvidia-nvjitlink-cu12-12.5.82\n",
            "  Attempting uninstall: nvidia-curand-cu12\n",
            "    Found existing installation: nvidia-curand-cu12 10.3.6.82\n",
            "    Uninstalling nvidia-curand-cu12-10.3.6.82:\n",
            "      Successfully uninstalled nvidia-curand-cu12-10.3.6.82\n",
            "  Attempting uninstall: nvidia-cufft-cu12\n",
            "    Found existing installation: nvidia-cufft-cu12 11.2.3.61\n",
            "    Uninstalling nvidia-cufft-cu12-11.2.3.61:\n",
            "      Successfully uninstalled nvidia-cufft-cu12-11.2.3.61\n",
            "  Attempting uninstall: nvidia-cuda-runtime-cu12\n",
            "    Found existing installation: nvidia-cuda-runtime-cu12 12.5.82\n",
            "    Uninstalling nvidia-cuda-runtime-cu12-12.5.82:\n",
            "      Successfully uninstalled nvidia-cuda-runtime-cu12-12.5.82\n",
            "  Attempting uninstall: nvidia-cuda-nvrtc-cu12\n",
            "    Found existing installation: nvidia-cuda-nvrtc-cu12 12.5.82\n",
            "    Uninstalling nvidia-cuda-nvrtc-cu12-12.5.82:\n",
            "      Successfully uninstalled nvidia-cuda-nvrtc-cu12-12.5.82\n",
            "  Attempting uninstall: nvidia-cuda-cupti-cu12\n",
            "    Found existing installation: nvidia-cuda-cupti-cu12 12.5.82\n",
            "    Uninstalling nvidia-cuda-cupti-cu12-12.5.82:\n",
            "      Successfully uninstalled nvidia-cuda-cupti-cu12-12.5.82\n",
            "  Attempting uninstall: nvidia-cublas-cu12\n",
            "    Found existing installation: nvidia-cublas-cu12 12.5.3.2\n",
            "    Uninstalling nvidia-cublas-cu12-12.5.3.2:\n",
            "      Successfully uninstalled nvidia-cublas-cu12-12.5.3.2\n",
            "  Attempting uninstall: nvidia-cusparse-cu12\n",
            "    Found existing installation: nvidia-cusparse-cu12 12.5.1.3\n",
            "    Uninstalling nvidia-cusparse-cu12-12.5.1.3:\n",
            "      Successfully uninstalled nvidia-cusparse-cu12-12.5.1.3\n",
            "  Attempting uninstall: nvidia-cudnn-cu12\n",
            "    Found existing installation: nvidia-cudnn-cu12 9.3.0.75\n",
            "    Uninstalling nvidia-cudnn-cu12-9.3.0.75:\n",
            "      Successfully uninstalled nvidia-cudnn-cu12-9.3.0.75\n",
            "  Attempting uninstall: nvidia-cusolver-cu12\n",
            "    Found existing installation: nvidia-cusolver-cu12 11.6.3.83\n",
            "    Uninstalling nvidia-cusolver-cu12-11.6.3.83:\n",
            "      Successfully uninstalled nvidia-cusolver-cu12-11.6.3.83\n",
            "Successfully installed nvidia-cublas-cu12-12.4.5.8 nvidia-cuda-cupti-cu12-12.4.127 nvidia-cuda-nvrtc-cu12-12.4.127 nvidia-cuda-runtime-cu12-12.4.127 nvidia-cudnn-cu12-9.1.0.70 nvidia-cufft-cu12-11.2.1.3 nvidia-curand-cu12-10.3.5.147 nvidia-cusolver-cu12-11.6.1.9 nvidia-cusparse-cu12-12.3.1.170 nvidia-nvjitlink-cu12-12.4.127\n",
            "Collecting en-core-web-sm==3.8.0\n",
            "  Downloading https://github.com/explosion/spacy-models/releases/download/en_core_web_sm-3.8.0/en_core_web_sm-3.8.0-py3-none-any.whl (12.8 MB)\n",
            "\u001b[2K     \u001b[90m━━━━━━━━━━━━━━━━━━━━━━━━━━━━━━━━━━━━━━━\u001b[0m \u001b[32m12.8/12.8 MB\u001b[0m \u001b[31m103.4 MB/s\u001b[0m eta \u001b[36m0:00:00\u001b[0m\n",
            "\u001b[?25h\u001b[38;5;2m✔ Download and installation successful\u001b[0m\n",
            "You can now load the package via spacy.load('en_core_web_sm')\n",
            "\u001b[38;5;3m⚠ Restart to reload dependencies\u001b[0m\n",
            "If you are in a Jupyter or Colab notebook, you may need to restart Python in\n",
            "order to load all the package's dependencies. You can do this by selecting the\n",
            "'Restart kernel' or 'Restart runtime' option.\n"
          ]
        }
      ]
    },
    {
      "cell_type": "code",
      "source": [
        "import nbformat\n",
        "\n",
        "# تحميل الـ notebook\n",
        "with open(\"NLP_Final_project.ipynb\", \"r\") as f:\n",
        "    notebook = nbformat.read(f, as_version=4)\n",
        "\n",
        "# التأكد من أن كل widget يحتوي على المفتاح 'state'\n",
        "for cell in notebook.cells:\n",
        "    if 'metadata' in cell and 'widgets' in cell.metadata:\n",
        "        for widget in cell.metadata['widgets']:\n",
        "            if 'state' not in widget:\n",
        "                widget['state'] = {}  # إضافة 'state' فارغة إذا كانت مفقودة\n",
        "\n",
        "# حفظ التغييرات\n",
        "with open(\"fixed_notebook.ipynb\", \"w\") as f:\n",
        "    nbformat.write(notebook, f)\n"
      ],
      "metadata": {
        "colab": {
          "base_uri": "https://localhost:8080/",
          "height": 219
        },
        "id": "OGVGHykv-Tr4",
        "outputId": "d95dd887-7234-4c20-ff71-f472aa693792"
      },
      "execution_count": 77,
      "outputs": [
        {
          "output_type": "error",
          "ename": "FileNotFoundError",
          "evalue": "[Errno 2] No such file or directory: 'NLP_Final_project.ipynb'",
          "traceback": [
            "\u001b[0;31m---------------------------------------------------------------------------\u001b[0m",
            "\u001b[0;31mFileNotFoundError\u001b[0m                         Traceback (most recent call last)",
            "\u001b[0;32m<ipython-input-77-d40301bf2e44>\u001b[0m in \u001b[0;36m<cell line: 0>\u001b[0;34m()\u001b[0m\n\u001b[1;32m      2\u001b[0m \u001b[0;34m\u001b[0m\u001b[0m\n\u001b[1;32m      3\u001b[0m \u001b[0;31m# تحميل الـ notebook\u001b[0m\u001b[0;34m\u001b[0m\u001b[0;34m\u001b[0m\u001b[0m\n\u001b[0;32m----> 4\u001b[0;31m \u001b[0;32mwith\u001b[0m \u001b[0mopen\u001b[0m\u001b[0;34m(\u001b[0m\u001b[0;34m\"NLP_Final_project.ipynb\"\u001b[0m\u001b[0;34m,\u001b[0m \u001b[0;34m\"r\"\u001b[0m\u001b[0;34m)\u001b[0m \u001b[0;32mas\u001b[0m \u001b[0mf\u001b[0m\u001b[0;34m:\u001b[0m\u001b[0;34m\u001b[0m\u001b[0;34m\u001b[0m\u001b[0m\n\u001b[0m\u001b[1;32m      5\u001b[0m     \u001b[0mnotebook\u001b[0m \u001b[0;34m=\u001b[0m \u001b[0mnbformat\u001b[0m\u001b[0;34m.\u001b[0m\u001b[0mread\u001b[0m\u001b[0;34m(\u001b[0m\u001b[0mf\u001b[0m\u001b[0;34m,\u001b[0m \u001b[0mas_version\u001b[0m\u001b[0;34m=\u001b[0m\u001b[0;36m4\u001b[0m\u001b[0;34m)\u001b[0m\u001b[0;34m\u001b[0m\u001b[0;34m\u001b[0m\u001b[0m\n\u001b[1;32m      6\u001b[0m \u001b[0;34m\u001b[0m\u001b[0m\n",
            "\u001b[0;31mFileNotFoundError\u001b[0m: [Errno 2] No such file or directory: 'NLP_Final_project.ipynb'"
          ]
        }
      ]
    },
    {
      "cell_type": "code",
      "source": [
        "import pickle\n",
        "import torch\n",
        "from torch.utils.data import Dataset\n",
        "from transformers import BertTokenizer\n",
        "import spacy\n",
        "from sklearn.model_selection import train_test_split\n",
        "import pandas as pd\n",
        "from bs4 import BeautifulSoup\n",
        "import numpy as np"
      ],
      "metadata": {
        "id": "3aDYnxyFWwRj"
      },
      "execution_count": 2,
      "outputs": []
    },
    {
      "cell_type": "code",
      "source": [
        "import time\n",
        "import warnings\n",
        "from sklearn.metrics import classification_report\n",
        "from tqdm import tqdm"
      ],
      "metadata": {
        "id": "9NG0bts2X545"
      },
      "execution_count": 3,
      "outputs": []
    },
    {
      "cell_type": "code",
      "source": [
        "!pip install fastapi uvicorn"
      ],
      "metadata": {
        "colab": {
          "base_uri": "https://localhost:8080/"
        },
        "id": "4NY30CHY1Yye",
        "outputId": "4f404f7f-6933-40a0-cf00-ec97dfee5fef"
      },
      "execution_count": 4,
      "outputs": [
        {
          "output_type": "stream",
          "name": "stdout",
          "text": [
            "Collecting fastapi\n",
            "  Downloading fastapi-0.115.12-py3-none-any.whl.metadata (27 kB)\n",
            "Collecting uvicorn\n",
            "  Downloading uvicorn-0.34.2-py3-none-any.whl.metadata (6.5 kB)\n",
            "Collecting starlette<0.47.0,>=0.40.0 (from fastapi)\n",
            "  Downloading starlette-0.46.2-py3-none-any.whl.metadata (6.2 kB)\n",
            "Requirement already satisfied: pydantic!=1.8,!=1.8.1,!=2.0.0,!=2.0.1,!=2.1.0,<3.0.0,>=1.7.4 in /usr/local/lib/python3.11/dist-packages (from fastapi) (2.11.4)\n",
            "Requirement already satisfied: typing-extensions>=4.8.0 in /usr/local/lib/python3.11/dist-packages (from fastapi) (4.13.2)\n",
            "Requirement already satisfied: click>=7.0 in /usr/local/lib/python3.11/dist-packages (from uvicorn) (8.1.8)\n",
            "Requirement already satisfied: h11>=0.8 in /usr/local/lib/python3.11/dist-packages (from uvicorn) (0.16.0)\n",
            "Requirement already satisfied: annotated-types>=0.6.0 in /usr/local/lib/python3.11/dist-packages (from pydantic!=1.8,!=1.8.1,!=2.0.0,!=2.0.1,!=2.1.0,<3.0.0,>=1.7.4->fastapi) (0.7.0)\n",
            "Requirement already satisfied: pydantic-core==2.33.2 in /usr/local/lib/python3.11/dist-packages (from pydantic!=1.8,!=1.8.1,!=2.0.0,!=2.0.1,!=2.1.0,<3.0.0,>=1.7.4->fastapi) (2.33.2)\n",
            "Requirement already satisfied: typing-inspection>=0.4.0 in /usr/local/lib/python3.11/dist-packages (from pydantic!=1.8,!=1.8.1,!=2.0.0,!=2.0.1,!=2.1.0,<3.0.0,>=1.7.4->fastapi) (0.4.0)\n",
            "Requirement already satisfied: anyio<5,>=3.6.2 in /usr/local/lib/python3.11/dist-packages (from starlette<0.47.0,>=0.40.0->fastapi) (4.9.0)\n",
            "Requirement already satisfied: idna>=2.8 in /usr/local/lib/python3.11/dist-packages (from anyio<5,>=3.6.2->starlette<0.47.0,>=0.40.0->fastapi) (3.10)\n",
            "Requirement already satisfied: sniffio>=1.1 in /usr/local/lib/python3.11/dist-packages (from anyio<5,>=3.6.2->starlette<0.47.0,>=0.40.0->fastapi) (1.3.1)\n",
            "Downloading fastapi-0.115.12-py3-none-any.whl (95 kB)\n",
            "\u001b[2K   \u001b[90m━━━━━━━━━━━━━━━━━━━━━━━━━━━━━━━━━━━━━━━━\u001b[0m \u001b[32m95.2/95.2 kB\u001b[0m \u001b[31m5.0 MB/s\u001b[0m eta \u001b[36m0:00:00\u001b[0m\n",
            "\u001b[?25hDownloading uvicorn-0.34.2-py3-none-any.whl (62 kB)\n",
            "\u001b[2K   \u001b[90m━━━━━━━━━━━━━━━━━━━━━━━━━━━━━━━━━━━━━━━━\u001b[0m \u001b[32m62.5/62.5 kB\u001b[0m \u001b[31m2.7 MB/s\u001b[0m eta \u001b[36m0:00:00\u001b[0m\n",
            "\u001b[?25hDownloading starlette-0.46.2-py3-none-any.whl (72 kB)\n",
            "\u001b[2K   \u001b[90m━━━━━━━━━━━━━━━━━━━━━━━━━━━━━━━━━━━━━━━━\u001b[0m \u001b[32m72.0/72.0 kB\u001b[0m \u001b[31m5.7 MB/s\u001b[0m eta \u001b[36m0:00:00\u001b[0m\n",
            "\u001b[?25hInstalling collected packages: uvicorn, starlette, fastapi\n",
            "Successfully installed fastapi-0.115.12 starlette-0.46.2 uvicorn-0.34.2\n"
          ]
        }
      ]
    },
    {
      "cell_type": "code",
      "source": [
        "import torch\n",
        "from transformers import BertTokenizer\n",
        "from fastapi import FastAPI\n",
        "from pydantic import BaseModel\n",
        "import spacy"
      ],
      "metadata": {
        "id": "06nOAVPS1UXA"
      },
      "execution_count": 5,
      "outputs": []
    },
    {
      "cell_type": "markdown",
      "source": [
        "**Data Loading and Preprocessing Functions:**"
      ],
      "metadata": {
        "id": "tLWIKxaGSSY0"
      }
    },
    {
      "cell_type": "code",
      "source": [
        "nlp = spacy.load('en_core_web_sm')"
      ],
      "metadata": {
        "id": "ePbWOdJ_Wcyq"
      },
      "execution_count": 6,
      "outputs": []
    },
    {
      "cell_type": "code",
      "source": [
        "def load_pickle_datset(path):\n",
        "    \"\"\"\n",
        "    Function to load a pickled data\n",
        "    :param path: The path of the data\n",
        "    :return: The loaded object\n",
        "    \"\"\"\n",
        "    return pickle.load(open(path, 'rb'))"
      ],
      "metadata": {
        "id": "V5ba57BvWz0e"
      },
      "execution_count": 7,
      "outputs": []
    },
    {
      "cell_type": "code",
      "source": [
        "def clean_and_lemmatize(text):\n",
        "    \"\"\"\n",
        "    A function that cleans the html tags and lemmatizes the text\n",
        "    :param text: Text to clean\n",
        "    :return: Cleaned text\n",
        "    \"\"\"\n",
        "    if text.strip():\n",
        "        text = BeautifulSoup(text, \"lxml\").text\n",
        "        doc = nlp(text)\n",
        "        lemmatized_list = [token.lemma_ for token in doc]\n",
        "        return ' '.join(lemmatized_list)\n",
        "    else:\n",
        "        return ''"
      ],
      "metadata": {
        "id": "LTZ790W7W1Pk"
      },
      "execution_count": 8,
      "outputs": []
    },
    {
      "cell_type": "code",
      "source": [
        "def save_as_pickle(data, path):\n",
        "    \"\"\"\n",
        "    Pickling function\n",
        "    :param data: data to pickle\n",
        "    :param path: Path to save\n",
        "    :return: None\n",
        "    \"\"\"\n",
        "    with open(path, 'wb') as wr:\n",
        "        pickle.dump(data, wr)"
      ],
      "metadata": {
        "id": "oGrstdqyW2gq"
      },
      "execution_count": 9,
      "outputs": []
    },
    {
      "cell_type": "code",
      "source": [
        "def binarize_labels(label):\n",
        "    \"\"\"\n",
        "    A function to binarize the labels\n",
        "    :param label: Label as list of text\n",
        "    :return: 1/0 label\n",
        "    \"\"\"\n",
        "    return 1 if label == 'positive' else 0"
      ],
      "metadata": {
        "id": "zFY7nHZleQ5A"
      },
      "execution_count": 10,
      "outputs": []
    },
    {
      "cell_type": "markdown",
      "source": [
        "**Dataset Class**"
      ],
      "metadata": {
        "id": "6vODs6BPXoAn"
      }
    },
    {
      "cell_type": "code",
      "source": [
        "class MovieDataset(Dataset):\n",
        "    def __init__(self, path):\n",
        "        \"\"\"\n",
        "        This is the heart of the Dataset class.\n",
        "        1. Loading the data\n",
        "        2. Tokenizing the text\n",
        "        3. Padding\n",
        "        4. Converting to ids\n",
        "        5. Converting to tensors\n",
        "        :param path: Path of the dataset\n",
        "        \"\"\"\n",
        "        self.tokenizer = BertTokenizer.from_pretrained('bert-base-uncased')\n",
        "        MAX_LEN = 512\n",
        "        data = load_pickle_datset(path)\n",
        "        self.x = data['review'].tolist()\n",
        "        self.input_lengths = []\n",
        "\n",
        "        for i, v in enumerate(self.x):\n",
        "            truncated = self.tokenizer.tokenize(v)[:MAX_LEN - 2]\n",
        "            self.input_lengths.append(len(truncated) + 2)\n",
        "            v = ['[CLS]'] + truncated + ['[SEP]']\n",
        "            v = v + ['[PAD]'] * (MAX_LEN - len(v))\n",
        "            self.x[i] = self.tokenizer.convert_tokens_to_ids(v)\n",
        "\n",
        "        self.x = torch.tensor(self.x)\n",
        "        self.y = torch.tensor(data['sentiment'].values)\n",
        "        self.input_lengths = torch.tensor(self.input_lengths)\n",
        "\n",
        "    def __len__(self):\n",
        "        return len(self.x)\n",
        "\n",
        "    def __getitem__(self, idx):\n",
        "        if torch.is_tensor(idx):\n",
        "            idx = idx.tolist()\n",
        "        return self.x[idx], self.y[idx], self.input_lengths[idx]"
      ],
      "metadata": {
        "id": "vlMEfjN5XoO1"
      },
      "execution_count": 11,
      "outputs": []
    },
    {
      "cell_type": "markdown",
      "source": [
        "**LSTMModel**"
      ],
      "metadata": {
        "id": "QhqKQ6viUCBb"
      }
    },
    {
      "cell_type": "code",
      "source": [
        "import torch.nn as nn\n",
        "\n",
        "class LSTMModel(nn.Module):\n",
        "    def __init__(self, vocab_size, embed_size, lstm_out, lstm_layers, out_dim, dropout_lstm, dropout):\n",
        "        super(LSTMModel, self).__init__()\n",
        "        self.embedding = nn.Embedding(vocab_size, embed_size)\n",
        "        self.bilstm = nn.LSTM(input_size=embed_size, hidden_size=lstm_out, num_layers=lstm_layers, batch_first=True,\n",
        "                              dropout=dropout_lstm, bidirectional=True)\n",
        "        self.dense1 = nn.Linear(lstm_out * 2, 20)\n",
        "        self.dense2 = nn.Linear(20, 10)\n",
        "        self.output = nn.Linear(10, out_dim)\n",
        "        self.leaky_relu = nn.LeakyReLU()\n",
        "        self.sigmoid = nn.Sigmoid()\n",
        "\n",
        "        self.drop1 = nn.Dropout(dropout)\n",
        "        self.drop2 = nn.Dropout(dropout)\n",
        "\n",
        "    def forward(self, input_ids, input_lengths, targets=None):\n",
        "        x = self.embedding(input_ids)\n",
        "        x = self.drop1(x)\n",
        "        packed_x = nn.utils.rnn.pack_padded_sequence(x, input_lengths, batch_first=True, enforce_sorted=False)\n",
        "        output, (h_n, c_n) = self.bilstm(packed_x)\n",
        "        output_unpacked, output_lengths = nn.utils.rnn.pad_packed_sequence(output, batch_first=True)\n",
        "        out = output_unpacked[:, 0, :]\n",
        "        out = self.leaky_relu(out)\n",
        "        out = self.leaky_relu(self.drop2(self.dense1(out)))\n",
        "        out = self.leaky_relu(self.drop2(self.dense2(out)))\n",
        "        out = self.output(out)\n",
        "        out = self.sigmoid(out)\n",
        "        out = out.view(-1)\n",
        "        if targets is not None:\n",
        "            criterion = nn.BCELoss()\n",
        "            loss = criterion(out, targets.float())\n",
        "            return out, loss\n",
        "        else:\n",
        "            return out,"
      ],
      "metadata": {
        "id": "aKBzTaRRXwY4"
      },
      "execution_count": 43,
      "outputs": []
    },
    {
      "cell_type": "markdown",
      "source": [
        "**Training**"
      ],
      "metadata": {
        "id": "XNxUit8sX1C2"
      }
    },
    {
      "cell_type": "code",
      "source": [
        "def train_step(model, batch, optimizer):\n",
        "    model.train()\n",
        "    optimizer.zero_grad()\n",
        "    input_ids, targets, input_lengths = batch\n",
        "    out, loss = model(input_ids=input_ids.to(device),\n",
        "                      input_lengths=input_lengths.tolist(),\n",
        "                      targets=targets.to(device))\n",
        "    loss.backward()\n",
        "    optimizer.step()\n",
        "    return loss.item()"
      ],
      "metadata": {
        "id": "7SyURhsDX2L-"
      },
      "execution_count": 13,
      "outputs": []
    },
    {
      "cell_type": "code",
      "source": [
        "def eval_step(model, batch):\n",
        "    model.eval()\n",
        "    input_ids, targets, input_lengths = batch\n",
        "    out, loss = model(input_ids=input_ids.to(device),\n",
        "                      input_lengths=input_lengths.tolist(),\n",
        "                      targets=targets.to(device))\n",
        "    return loss.item()"
      ],
      "metadata": {
        "id": "bEg9ktdGX8dD"
      },
      "execution_count": 14,
      "outputs": []
    },
    {
      "cell_type": "code",
      "source": [
        "def predicting(model, batch):\n",
        "    model.eval()\n",
        "    input_ids, _, input_lengths = batch\n",
        "    out, = model(input_ids=input_ids.to(device),\n",
        "                 input_lengths=input_lengths.tolist())\n",
        "    return out"
      ],
      "metadata": {
        "id": "FP50MUrGX-H8"
      },
      "execution_count": 15,
      "outputs": []
    },
    {
      "cell_type": "code",
      "source": [
        "def get_class(t):\n",
        "    return (t >= 0.5) * 1"
      ],
      "metadata": {
        "id": "qt_Wzc6dX_cF"
      },
      "execution_count": 16,
      "outputs": []
    },
    {
      "cell_type": "code",
      "source": [
        "def save_model(model, epoch, optimizer, loss, path):\n",
        "    torch.save({'epoch': epoch,\n",
        "                'model_state_dict': model.state_dict(),\n",
        "                'optimizer_state_dict': optimizer.state_dict(),\n",
        "                'loss': loss}, path)"
      ],
      "metadata": {
        "id": "4lZdzcLyYBQM"
      },
      "execution_count": 17,
      "outputs": []
    },
    {
      "cell_type": "markdown",
      "source": [],
      "metadata": {
        "id": "H9kZS90_d2Vx"
      }
    },
    {
      "cell_type": "code",
      "source": [
        "from google.colab import files\n",
        "uploaded = files.upload()"
      ],
      "metadata": {
        "colab": {
          "base_uri": "https://localhost:8080/",
          "height": 73
        },
        "id": "v0M3Z3fYYibF",
        "outputId": "9662e5c0-b2df-42fa-d2ec-fc0d0a4a6744"
      },
      "execution_count": 18,
      "outputs": [
        {
          "output_type": "display_data",
          "data": {
            "text/plain": [
              "<IPython.core.display.HTML object>"
            ],
            "text/html": [
              "\n",
              "     <input type=\"file\" id=\"files-09ff55b4-473c-431c-9b97-cf097c26863c\" name=\"files[]\" multiple disabled\n",
              "        style=\"border:none\" />\n",
              "     <output id=\"result-09ff55b4-473c-431c-9b97-cf097c26863c\">\n",
              "      Upload widget is only available when the cell has been executed in the\n",
              "      current browser session. Please rerun this cell to enable.\n",
              "      </output>\n",
              "      <script>// Copyright 2017 Google LLC\n",
              "//\n",
              "// Licensed under the Apache License, Version 2.0 (the \"License\");\n",
              "// you may not use this file except in compliance with the License.\n",
              "// You may obtain a copy of the License at\n",
              "//\n",
              "//      http://www.apache.org/licenses/LICENSE-2.0\n",
              "//\n",
              "// Unless required by applicable law or agreed to in writing, software\n",
              "// distributed under the License is distributed on an \"AS IS\" BASIS,\n",
              "// WITHOUT WARRANTIES OR CONDITIONS OF ANY KIND, either express or implied.\n",
              "// See the License for the specific language governing permissions and\n",
              "// limitations under the License.\n",
              "\n",
              "/**\n",
              " * @fileoverview Helpers for google.colab Python module.\n",
              " */\n",
              "(function(scope) {\n",
              "function span(text, styleAttributes = {}) {\n",
              "  const element = document.createElement('span');\n",
              "  element.textContent = text;\n",
              "  for (const key of Object.keys(styleAttributes)) {\n",
              "    element.style[key] = styleAttributes[key];\n",
              "  }\n",
              "  return element;\n",
              "}\n",
              "\n",
              "// Max number of bytes which will be uploaded at a time.\n",
              "const MAX_PAYLOAD_SIZE = 100 * 1024;\n",
              "\n",
              "function _uploadFiles(inputId, outputId) {\n",
              "  const steps = uploadFilesStep(inputId, outputId);\n",
              "  const outputElement = document.getElementById(outputId);\n",
              "  // Cache steps on the outputElement to make it available for the next call\n",
              "  // to uploadFilesContinue from Python.\n",
              "  outputElement.steps = steps;\n",
              "\n",
              "  return _uploadFilesContinue(outputId);\n",
              "}\n",
              "\n",
              "// This is roughly an async generator (not supported in the browser yet),\n",
              "// where there are multiple asynchronous steps and the Python side is going\n",
              "// to poll for completion of each step.\n",
              "// This uses a Promise to block the python side on completion of each step,\n",
              "// then passes the result of the previous step as the input to the next step.\n",
              "function _uploadFilesContinue(outputId) {\n",
              "  const outputElement = document.getElementById(outputId);\n",
              "  const steps = outputElement.steps;\n",
              "\n",
              "  const next = steps.next(outputElement.lastPromiseValue);\n",
              "  return Promise.resolve(next.value.promise).then((value) => {\n",
              "    // Cache the last promise value to make it available to the next\n",
              "    // step of the generator.\n",
              "    outputElement.lastPromiseValue = value;\n",
              "    return next.value.response;\n",
              "  });\n",
              "}\n",
              "\n",
              "/**\n",
              " * Generator function which is called between each async step of the upload\n",
              " * process.\n",
              " * @param {string} inputId Element ID of the input file picker element.\n",
              " * @param {string} outputId Element ID of the output display.\n",
              " * @return {!Iterable<!Object>} Iterable of next steps.\n",
              " */\n",
              "function* uploadFilesStep(inputId, outputId) {\n",
              "  const inputElement = document.getElementById(inputId);\n",
              "  inputElement.disabled = false;\n",
              "\n",
              "  const outputElement = document.getElementById(outputId);\n",
              "  outputElement.innerHTML = '';\n",
              "\n",
              "  const pickedPromise = new Promise((resolve) => {\n",
              "    inputElement.addEventListener('change', (e) => {\n",
              "      resolve(e.target.files);\n",
              "    });\n",
              "  });\n",
              "\n",
              "  const cancel = document.createElement('button');\n",
              "  inputElement.parentElement.appendChild(cancel);\n",
              "  cancel.textContent = 'Cancel upload';\n",
              "  const cancelPromise = new Promise((resolve) => {\n",
              "    cancel.onclick = () => {\n",
              "      resolve(null);\n",
              "    };\n",
              "  });\n",
              "\n",
              "  // Wait for the user to pick the files.\n",
              "  const files = yield {\n",
              "    promise: Promise.race([pickedPromise, cancelPromise]),\n",
              "    response: {\n",
              "      action: 'starting',\n",
              "    }\n",
              "  };\n",
              "\n",
              "  cancel.remove();\n",
              "\n",
              "  // Disable the input element since further picks are not allowed.\n",
              "  inputElement.disabled = true;\n",
              "\n",
              "  if (!files) {\n",
              "    return {\n",
              "      response: {\n",
              "        action: 'complete',\n",
              "      }\n",
              "    };\n",
              "  }\n",
              "\n",
              "  for (const file of files) {\n",
              "    const li = document.createElement('li');\n",
              "    li.append(span(file.name, {fontWeight: 'bold'}));\n",
              "    li.append(span(\n",
              "        `(${file.type || 'n/a'}) - ${file.size} bytes, ` +\n",
              "        `last modified: ${\n",
              "            file.lastModifiedDate ? file.lastModifiedDate.toLocaleDateString() :\n",
              "                                    'n/a'} - `));\n",
              "    const percent = span('0% done');\n",
              "    li.appendChild(percent);\n",
              "\n",
              "    outputElement.appendChild(li);\n",
              "\n",
              "    const fileDataPromise = new Promise((resolve) => {\n",
              "      const reader = new FileReader();\n",
              "      reader.onload = (e) => {\n",
              "        resolve(e.target.result);\n",
              "      };\n",
              "      reader.readAsArrayBuffer(file);\n",
              "    });\n",
              "    // Wait for the data to be ready.\n",
              "    let fileData = yield {\n",
              "      promise: fileDataPromise,\n",
              "      response: {\n",
              "        action: 'continue',\n",
              "      }\n",
              "    };\n",
              "\n",
              "    // Use a chunked sending to avoid message size limits. See b/62115660.\n",
              "    let position = 0;\n",
              "    do {\n",
              "      const length = Math.min(fileData.byteLength - position, MAX_PAYLOAD_SIZE);\n",
              "      const chunk = new Uint8Array(fileData, position, length);\n",
              "      position += length;\n",
              "\n",
              "      const base64 = btoa(String.fromCharCode.apply(null, chunk));\n",
              "      yield {\n",
              "        response: {\n",
              "          action: 'append',\n",
              "          file: file.name,\n",
              "          data: base64,\n",
              "        },\n",
              "      };\n",
              "\n",
              "      let percentDone = fileData.byteLength === 0 ?\n",
              "          100 :\n",
              "          Math.round((position / fileData.byteLength) * 100);\n",
              "      percent.textContent = `${percentDone}% done`;\n",
              "\n",
              "    } while (position < fileData.byteLength);\n",
              "  }\n",
              "\n",
              "  // All done.\n",
              "  yield {\n",
              "    response: {\n",
              "      action: 'complete',\n",
              "    }\n",
              "  };\n",
              "}\n",
              "\n",
              "scope.google = scope.google || {};\n",
              "scope.google.colab = scope.google.colab || {};\n",
              "scope.google.colab._files = {\n",
              "  _uploadFiles,\n",
              "  _uploadFilesContinue,\n",
              "};\n",
              "})(self);\n",
              "</script> "
            ]
          },
          "metadata": {}
        },
        {
          "output_type": "stream",
          "name": "stdout",
          "text": [
            "Saving IMDB Dataset.csv to IMDB Dataset.csv\n"
          ]
        }
      ]
    },
    {
      "cell_type": "code",
      "source": [
        "df = pd.read_csv('IMDB Dataset.csv')"
      ],
      "metadata": {
        "id": "urr39xLycDCt"
      },
      "execution_count": 19,
      "outputs": []
    },
    {
      "cell_type": "code",
      "source": [
        "df_sample = df.sample(n=5000, random_state=42)"
      ],
      "metadata": {
        "id": "9Kp1nqPBeCi5"
      },
      "execution_count": 20,
      "outputs": []
    },
    {
      "cell_type": "code",
      "source": [
        "df_sample.head()"
      ],
      "metadata": {
        "colab": {
          "base_uri": "https://localhost:8080/",
          "height": 206
        },
        "id": "Ie5VG-_qcKSY",
        "outputId": "1013fd56-bd9c-4189-d92a-94ebee9448fe"
      },
      "execution_count": 21,
      "outputs": [
        {
          "output_type": "execute_result",
          "data": {
            "text/plain": [
              "                                                  review sentiment\n",
              "33553  I really liked this Summerslam due to the look...  positive\n",
              "9427   Not many television shows appeal to quite as m...  positive\n",
              "199    The film quickly gets to a major chase scene w...  negative\n",
              "12447  Jane Austen would definitely approve of this o...  positive\n",
              "39489  Expectations were somewhat high for me when I ...  negative"
            ],
            "text/html": [
              "\n",
              "  <div id=\"df-b58c31aa-794d-4386-89d2-56265efca9f9\" class=\"colab-df-container\">\n",
              "    <div>\n",
              "<style scoped>\n",
              "    .dataframe tbody tr th:only-of-type {\n",
              "        vertical-align: middle;\n",
              "    }\n",
              "\n",
              "    .dataframe tbody tr th {\n",
              "        vertical-align: top;\n",
              "    }\n",
              "\n",
              "    .dataframe thead th {\n",
              "        text-align: right;\n",
              "    }\n",
              "</style>\n",
              "<table border=\"1\" class=\"dataframe\">\n",
              "  <thead>\n",
              "    <tr style=\"text-align: right;\">\n",
              "      <th></th>\n",
              "      <th>review</th>\n",
              "      <th>sentiment</th>\n",
              "    </tr>\n",
              "  </thead>\n",
              "  <tbody>\n",
              "    <tr>\n",
              "      <th>33553</th>\n",
              "      <td>I really liked this Summerslam due to the look...</td>\n",
              "      <td>positive</td>\n",
              "    </tr>\n",
              "    <tr>\n",
              "      <th>9427</th>\n",
              "      <td>Not many television shows appeal to quite as m...</td>\n",
              "      <td>positive</td>\n",
              "    </tr>\n",
              "    <tr>\n",
              "      <th>199</th>\n",
              "      <td>The film quickly gets to a major chase scene w...</td>\n",
              "      <td>negative</td>\n",
              "    </tr>\n",
              "    <tr>\n",
              "      <th>12447</th>\n",
              "      <td>Jane Austen would definitely approve of this o...</td>\n",
              "      <td>positive</td>\n",
              "    </tr>\n",
              "    <tr>\n",
              "      <th>39489</th>\n",
              "      <td>Expectations were somewhat high for me when I ...</td>\n",
              "      <td>negative</td>\n",
              "    </tr>\n",
              "  </tbody>\n",
              "</table>\n",
              "</div>\n",
              "    <div class=\"colab-df-buttons\">\n",
              "\n",
              "  <div class=\"colab-df-container\">\n",
              "    <button class=\"colab-df-convert\" onclick=\"convertToInteractive('df-b58c31aa-794d-4386-89d2-56265efca9f9')\"\n",
              "            title=\"Convert this dataframe to an interactive table.\"\n",
              "            style=\"display:none;\">\n",
              "\n",
              "  <svg xmlns=\"http://www.w3.org/2000/svg\" height=\"24px\" viewBox=\"0 -960 960 960\">\n",
              "    <path d=\"M120-120v-720h720v720H120Zm60-500h600v-160H180v160Zm220 220h160v-160H400v160Zm0 220h160v-160H400v160ZM180-400h160v-160H180v160Zm440 0h160v-160H620v160ZM180-180h160v-160H180v160Zm440 0h160v-160H620v160Z\"/>\n",
              "  </svg>\n",
              "    </button>\n",
              "\n",
              "  <style>\n",
              "    .colab-df-container {\n",
              "      display:flex;\n",
              "      gap: 12px;\n",
              "    }\n",
              "\n",
              "    .colab-df-convert {\n",
              "      background-color: #E8F0FE;\n",
              "      border: none;\n",
              "      border-radius: 50%;\n",
              "      cursor: pointer;\n",
              "      display: none;\n",
              "      fill: #1967D2;\n",
              "      height: 32px;\n",
              "      padding: 0 0 0 0;\n",
              "      width: 32px;\n",
              "    }\n",
              "\n",
              "    .colab-df-convert:hover {\n",
              "      background-color: #E2EBFA;\n",
              "      box-shadow: 0px 1px 2px rgba(60, 64, 67, 0.3), 0px 1px 3px 1px rgba(60, 64, 67, 0.15);\n",
              "      fill: #174EA6;\n",
              "    }\n",
              "\n",
              "    .colab-df-buttons div {\n",
              "      margin-bottom: 4px;\n",
              "    }\n",
              "\n",
              "    [theme=dark] .colab-df-convert {\n",
              "      background-color: #3B4455;\n",
              "      fill: #D2E3FC;\n",
              "    }\n",
              "\n",
              "    [theme=dark] .colab-df-convert:hover {\n",
              "      background-color: #434B5C;\n",
              "      box-shadow: 0px 1px 3px 1px rgba(0, 0, 0, 0.15);\n",
              "      filter: drop-shadow(0px 1px 2px rgba(0, 0, 0, 0.3));\n",
              "      fill: #FFFFFF;\n",
              "    }\n",
              "  </style>\n",
              "\n",
              "    <script>\n",
              "      const buttonEl =\n",
              "        document.querySelector('#df-b58c31aa-794d-4386-89d2-56265efca9f9 button.colab-df-convert');\n",
              "      buttonEl.style.display =\n",
              "        google.colab.kernel.accessAllowed ? 'block' : 'none';\n",
              "\n",
              "      async function convertToInteractive(key) {\n",
              "        const element = document.querySelector('#df-b58c31aa-794d-4386-89d2-56265efca9f9');\n",
              "        const dataTable =\n",
              "          await google.colab.kernel.invokeFunction('convertToInteractive',\n",
              "                                                    [key], {});\n",
              "        if (!dataTable) return;\n",
              "\n",
              "        const docLinkHtml = 'Like what you see? Visit the ' +\n",
              "          '<a target=\"_blank\" href=https://colab.research.google.com/notebooks/data_table.ipynb>data table notebook</a>'\n",
              "          + ' to learn more about interactive tables.';\n",
              "        element.innerHTML = '';\n",
              "        dataTable['output_type'] = 'display_data';\n",
              "        await google.colab.output.renderOutput(dataTable, element);\n",
              "        const docLink = document.createElement('div');\n",
              "        docLink.innerHTML = docLinkHtml;\n",
              "        element.appendChild(docLink);\n",
              "      }\n",
              "    </script>\n",
              "  </div>\n",
              "\n",
              "\n",
              "    <div id=\"df-75dede7e-e62d-420e-af6e-27d2a1e5517c\">\n",
              "      <button class=\"colab-df-quickchart\" onclick=\"quickchart('df-75dede7e-e62d-420e-af6e-27d2a1e5517c')\"\n",
              "                title=\"Suggest charts\"\n",
              "                style=\"display:none;\">\n",
              "\n",
              "<svg xmlns=\"http://www.w3.org/2000/svg\" height=\"24px\"viewBox=\"0 0 24 24\"\n",
              "     width=\"24px\">\n",
              "    <g>\n",
              "        <path d=\"M19 3H5c-1.1 0-2 .9-2 2v14c0 1.1.9 2 2 2h14c1.1 0 2-.9 2-2V5c0-1.1-.9-2-2-2zM9 17H7v-7h2v7zm4 0h-2V7h2v10zm4 0h-2v-4h2v4z\"/>\n",
              "    </g>\n",
              "</svg>\n",
              "      </button>\n",
              "\n",
              "<style>\n",
              "  .colab-df-quickchart {\n",
              "      --bg-color: #E8F0FE;\n",
              "      --fill-color: #1967D2;\n",
              "      --hover-bg-color: #E2EBFA;\n",
              "      --hover-fill-color: #174EA6;\n",
              "      --disabled-fill-color: #AAA;\n",
              "      --disabled-bg-color: #DDD;\n",
              "  }\n",
              "\n",
              "  [theme=dark] .colab-df-quickchart {\n",
              "      --bg-color: #3B4455;\n",
              "      --fill-color: #D2E3FC;\n",
              "      --hover-bg-color: #434B5C;\n",
              "      --hover-fill-color: #FFFFFF;\n",
              "      --disabled-bg-color: #3B4455;\n",
              "      --disabled-fill-color: #666;\n",
              "  }\n",
              "\n",
              "  .colab-df-quickchart {\n",
              "    background-color: var(--bg-color);\n",
              "    border: none;\n",
              "    border-radius: 50%;\n",
              "    cursor: pointer;\n",
              "    display: none;\n",
              "    fill: var(--fill-color);\n",
              "    height: 32px;\n",
              "    padding: 0;\n",
              "    width: 32px;\n",
              "  }\n",
              "\n",
              "  .colab-df-quickchart:hover {\n",
              "    background-color: var(--hover-bg-color);\n",
              "    box-shadow: 0 1px 2px rgba(60, 64, 67, 0.3), 0 1px 3px 1px rgba(60, 64, 67, 0.15);\n",
              "    fill: var(--button-hover-fill-color);\n",
              "  }\n",
              "\n",
              "  .colab-df-quickchart-complete:disabled,\n",
              "  .colab-df-quickchart-complete:disabled:hover {\n",
              "    background-color: var(--disabled-bg-color);\n",
              "    fill: var(--disabled-fill-color);\n",
              "    box-shadow: none;\n",
              "  }\n",
              "\n",
              "  .colab-df-spinner {\n",
              "    border: 2px solid var(--fill-color);\n",
              "    border-color: transparent;\n",
              "    border-bottom-color: var(--fill-color);\n",
              "    animation:\n",
              "      spin 1s steps(1) infinite;\n",
              "  }\n",
              "\n",
              "  @keyframes spin {\n",
              "    0% {\n",
              "      border-color: transparent;\n",
              "      border-bottom-color: var(--fill-color);\n",
              "      border-left-color: var(--fill-color);\n",
              "    }\n",
              "    20% {\n",
              "      border-color: transparent;\n",
              "      border-left-color: var(--fill-color);\n",
              "      border-top-color: var(--fill-color);\n",
              "    }\n",
              "    30% {\n",
              "      border-color: transparent;\n",
              "      border-left-color: var(--fill-color);\n",
              "      border-top-color: var(--fill-color);\n",
              "      border-right-color: var(--fill-color);\n",
              "    }\n",
              "    40% {\n",
              "      border-color: transparent;\n",
              "      border-right-color: var(--fill-color);\n",
              "      border-top-color: var(--fill-color);\n",
              "    }\n",
              "    60% {\n",
              "      border-color: transparent;\n",
              "      border-right-color: var(--fill-color);\n",
              "    }\n",
              "    80% {\n",
              "      border-color: transparent;\n",
              "      border-right-color: var(--fill-color);\n",
              "      border-bottom-color: var(--fill-color);\n",
              "    }\n",
              "    90% {\n",
              "      border-color: transparent;\n",
              "      border-bottom-color: var(--fill-color);\n",
              "    }\n",
              "  }\n",
              "</style>\n",
              "\n",
              "      <script>\n",
              "        async function quickchart(key) {\n",
              "          const quickchartButtonEl =\n",
              "            document.querySelector('#' + key + ' button');\n",
              "          quickchartButtonEl.disabled = true;  // To prevent multiple clicks.\n",
              "          quickchartButtonEl.classList.add('colab-df-spinner');\n",
              "          try {\n",
              "            const charts = await google.colab.kernel.invokeFunction(\n",
              "                'suggestCharts', [key], {});\n",
              "          } catch (error) {\n",
              "            console.error('Error during call to suggestCharts:', error);\n",
              "          }\n",
              "          quickchartButtonEl.classList.remove('colab-df-spinner');\n",
              "          quickchartButtonEl.classList.add('colab-df-quickchart-complete');\n",
              "        }\n",
              "        (() => {\n",
              "          let quickchartButtonEl =\n",
              "            document.querySelector('#df-75dede7e-e62d-420e-af6e-27d2a1e5517c button');\n",
              "          quickchartButtonEl.style.display =\n",
              "            google.colab.kernel.accessAllowed ? 'block' : 'none';\n",
              "        })();\n",
              "      </script>\n",
              "    </div>\n",
              "\n",
              "    </div>\n",
              "  </div>\n"
            ],
            "application/vnd.google.colaboratory.intrinsic+json": {
              "type": "dataframe",
              "variable_name": "df_sample",
              "summary": "{\n  \"name\": \"df_sample\",\n  \"rows\": 5000,\n  \"fields\": [\n    {\n      \"column\": \"review\",\n      \"properties\": {\n        \"dtype\": \"string\",\n        \"num_unique_values\": 4993,\n        \"samples\": [\n          \"This movie is the first time movie experience for several people in the cast. All of them are experienced actors and have played in several TV series and plays. Sahan Gokbakar is a well known comedian in Turkey. It's kind of strange to see him in a thriller, while he is at the peak of his comedy career in Turkey. This movie is Togan Gokbakar's first long shot and pretty much the first experience as a director. But they all did a good job. We are happy to see such enthusiastic young cast. They seem very promising for the future of the Turkish film Industry. Doga Rutkay being long time sweetheart of Sahan Gokbakar, is also a talented actress, who is known for her recent play in \\\"number 27\\\" theatrical play and several TV series.\",\n          \"I have seen this movie 4 times in 5 months and i never get tired of it just because it is perfect. And it has also got the best film music ever and the best supporting roles ever written for a movie. I mean you just have to love Robert Duval , Marlon Brando , Martin Sheen and Lauerence Fishburne in this movie but specially Duval. I can not believe that Kramer vs. Kramer did win an Oscar in stead of this amazing war movie. So this is my conclusion if you take the director of the worlds greatest movie ( The Godfather ) and the best of Hollywood actors you can only succeed. Now I just have to writhe something to get this preview so do not read this except the last line. This movie rules !!!!!!!!!!!!!!!!!\",\n          \"This is a gem. As a Film Four production - the anticipated quality was indeed delivered. Shot with great style that reminded me some Errol Morris films, well arranged and simply gripping. It's long yet horrifying to the point it's excruciating. We know something bad happened (one can guess by the lack of participation of a person in the interviews) but we are compelled to see it, a bit like a car accident in slow motion. The story spans most conceivable aspects and unlike some documentaries did not try and refrain from showing the grimmer sides of the stories, as also dealing with the guilt of the people Don left behind him, wondering why they didn't stop him in time. It took me a few hours to get out of the melancholy that gripped me after seeing this very-well made documentary.\"\n        ],\n        \"semantic_type\": \"\",\n        \"description\": \"\"\n      }\n    },\n    {\n      \"column\": \"sentiment\",\n      \"properties\": {\n        \"dtype\": \"category\",\n        \"num_unique_values\": 2,\n        \"samples\": [\n          \"negative\",\n          \"positive\"\n        ],\n        \"semantic_type\": \"\",\n        \"description\": \"\"\n      }\n    }\n  ]\n}"
            }
          },
          "metadata": {},
          "execution_count": 21
        }
      ]
    },
    {
      "cell_type": "code",
      "source": [
        "df_sample['review'] = df_sample['review'].apply(clean_and_lemmatize)"
      ],
      "metadata": {
        "id": "8eHADBAbd27i"
      },
      "execution_count": 22,
      "outputs": []
    },
    {
      "cell_type": "code",
      "source": [
        "df_sample['sentiment'] = df_sample['sentiment'].apply(binarize_labels)\n",
        "print(df.head())"
      ],
      "metadata": {
        "colab": {
          "base_uri": "https://localhost:8080/"
        },
        "id": "eLgH3MCleKq_",
        "outputId": "e15122dd-b4e0-42ce-91e9-856df073e080"
      },
      "execution_count": 23,
      "outputs": [
        {
          "output_type": "stream",
          "name": "stdout",
          "text": [
            "                                              review sentiment\n",
            "0  One of the other reviewers has mentioned that ...  positive\n",
            "1  A wonderful little production. <br /><br />The...  positive\n",
            "2  I thought this was a wonderful way to spend ti...  positive\n",
            "3  Basically there's a family where a little boy ...  negative\n",
            "4  Petter Mattei's \"Love in the Time of Money\" is...  positive\n"
          ]
        }
      ]
    },
    {
      "cell_type": "code",
      "source": [
        "train_df, test_df = train_test_split(df_sample, test_size=0.2, stratify=df_sample['sentiment'])"
      ],
      "metadata": {
        "id": "4raefH3kfQ5H"
      },
      "execution_count": 24,
      "outputs": []
    },
    {
      "cell_type": "code",
      "source": [
        "with open('train_15K.pkl', 'wb') as f:\n",
        "    pickle.dump(train_df, f)"
      ],
      "metadata": {
        "id": "XorCqzsFfUcM"
      },
      "execution_count": 25,
      "outputs": []
    },
    {
      "cell_type": "code",
      "source": [
        "with open('test_15K.pkl', 'wb') as f:\n",
        "    pickle.dump(test_df, f)"
      ],
      "metadata": {
        "id": "SDuUtE4-fcVY"
      },
      "execution_count": 26,
      "outputs": []
    },
    {
      "cell_type": "code",
      "source": [
        "print(\"Train and Test files saved successfully.\")"
      ],
      "metadata": {
        "colab": {
          "base_uri": "https://localhost:8080/"
        },
        "id": "OEf1Q8dxfeOF",
        "outputId": "fad175f4-acdc-46e9-cdfa-299eda89c937"
      },
      "execution_count": 27,
      "outputs": [
        {
          "output_type": "stream",
          "name": "stdout",
          "text": [
            "Train and Test files saved successfully.\n"
          ]
        }
      ]
    },
    {
      "cell_type": "code",
      "source": [
        "df_sample"
      ],
      "metadata": {
        "colab": {
          "base_uri": "https://localhost:8080/",
          "height": 423
        },
        "id": "ZbsdTjRife8B",
        "outputId": "2655d5b0-d3ea-4593-c143-3f3a5d897862"
      },
      "execution_count": 28,
      "outputs": [
        {
          "output_type": "execute_result",
          "data": {
            "text/plain": [
              "                                                  review  sentiment\n",
              "33553  I really like this Summerslam due to the look ...          1\n",
              "9427   not many television show appeal to quite as ma...          1\n",
              "199    the film quickly get to a major chase scene wi...          0\n",
              "12447  Jane Austen would definitely approve of this o...          1\n",
              "39489  expectation be somewhat high for I when I go t...          0\n",
              "...                                                  ...        ...\n",
              "39885  one of eastwood 's good movie after he have se...          1\n",
              "17566  my blurred childhood memory have keep the echo...          0\n",
              "16062  I love Zombie - Movies and I love amateur - pr...          0\n",
              "48445  Chan be in New York and he get involve with an...          1\n",
              "20382  my wife and I both think this film a water - d...          0\n",
              "\n",
              "[5000 rows x 2 columns]"
            ],
            "text/html": [
              "\n",
              "  <div id=\"df-993dfad0-28ae-44a2-a9d8-9ef8aeeed1e1\" class=\"colab-df-container\">\n",
              "    <div>\n",
              "<style scoped>\n",
              "    .dataframe tbody tr th:only-of-type {\n",
              "        vertical-align: middle;\n",
              "    }\n",
              "\n",
              "    .dataframe tbody tr th {\n",
              "        vertical-align: top;\n",
              "    }\n",
              "\n",
              "    .dataframe thead th {\n",
              "        text-align: right;\n",
              "    }\n",
              "</style>\n",
              "<table border=\"1\" class=\"dataframe\">\n",
              "  <thead>\n",
              "    <tr style=\"text-align: right;\">\n",
              "      <th></th>\n",
              "      <th>review</th>\n",
              "      <th>sentiment</th>\n",
              "    </tr>\n",
              "  </thead>\n",
              "  <tbody>\n",
              "    <tr>\n",
              "      <th>33553</th>\n",
              "      <td>I really like this Summerslam due to the look ...</td>\n",
              "      <td>1</td>\n",
              "    </tr>\n",
              "    <tr>\n",
              "      <th>9427</th>\n",
              "      <td>not many television show appeal to quite as ma...</td>\n",
              "      <td>1</td>\n",
              "    </tr>\n",
              "    <tr>\n",
              "      <th>199</th>\n",
              "      <td>the film quickly get to a major chase scene wi...</td>\n",
              "      <td>0</td>\n",
              "    </tr>\n",
              "    <tr>\n",
              "      <th>12447</th>\n",
              "      <td>Jane Austen would definitely approve of this o...</td>\n",
              "      <td>1</td>\n",
              "    </tr>\n",
              "    <tr>\n",
              "      <th>39489</th>\n",
              "      <td>expectation be somewhat high for I when I go t...</td>\n",
              "      <td>0</td>\n",
              "    </tr>\n",
              "    <tr>\n",
              "      <th>...</th>\n",
              "      <td>...</td>\n",
              "      <td>...</td>\n",
              "    </tr>\n",
              "    <tr>\n",
              "      <th>39885</th>\n",
              "      <td>one of eastwood 's good movie after he have se...</td>\n",
              "      <td>1</td>\n",
              "    </tr>\n",
              "    <tr>\n",
              "      <th>17566</th>\n",
              "      <td>my blurred childhood memory have keep the echo...</td>\n",
              "      <td>0</td>\n",
              "    </tr>\n",
              "    <tr>\n",
              "      <th>16062</th>\n",
              "      <td>I love Zombie - Movies and I love amateur - pr...</td>\n",
              "      <td>0</td>\n",
              "    </tr>\n",
              "    <tr>\n",
              "      <th>48445</th>\n",
              "      <td>Chan be in New York and he get involve with an...</td>\n",
              "      <td>1</td>\n",
              "    </tr>\n",
              "    <tr>\n",
              "      <th>20382</th>\n",
              "      <td>my wife and I both think this film a water - d...</td>\n",
              "      <td>0</td>\n",
              "    </tr>\n",
              "  </tbody>\n",
              "</table>\n",
              "<p>5000 rows × 2 columns</p>\n",
              "</div>\n",
              "    <div class=\"colab-df-buttons\">\n",
              "\n",
              "  <div class=\"colab-df-container\">\n",
              "    <button class=\"colab-df-convert\" onclick=\"convertToInteractive('df-993dfad0-28ae-44a2-a9d8-9ef8aeeed1e1')\"\n",
              "            title=\"Convert this dataframe to an interactive table.\"\n",
              "            style=\"display:none;\">\n",
              "\n",
              "  <svg xmlns=\"http://www.w3.org/2000/svg\" height=\"24px\" viewBox=\"0 -960 960 960\">\n",
              "    <path d=\"M120-120v-720h720v720H120Zm60-500h600v-160H180v160Zm220 220h160v-160H400v160Zm0 220h160v-160H400v160ZM180-400h160v-160H180v160Zm440 0h160v-160H620v160ZM180-180h160v-160H180v160Zm440 0h160v-160H620v160Z\"/>\n",
              "  </svg>\n",
              "    </button>\n",
              "\n",
              "  <style>\n",
              "    .colab-df-container {\n",
              "      display:flex;\n",
              "      gap: 12px;\n",
              "    }\n",
              "\n",
              "    .colab-df-convert {\n",
              "      background-color: #E8F0FE;\n",
              "      border: none;\n",
              "      border-radius: 50%;\n",
              "      cursor: pointer;\n",
              "      display: none;\n",
              "      fill: #1967D2;\n",
              "      height: 32px;\n",
              "      padding: 0 0 0 0;\n",
              "      width: 32px;\n",
              "    }\n",
              "\n",
              "    .colab-df-convert:hover {\n",
              "      background-color: #E2EBFA;\n",
              "      box-shadow: 0px 1px 2px rgba(60, 64, 67, 0.3), 0px 1px 3px 1px rgba(60, 64, 67, 0.15);\n",
              "      fill: #174EA6;\n",
              "    }\n",
              "\n",
              "    .colab-df-buttons div {\n",
              "      margin-bottom: 4px;\n",
              "    }\n",
              "\n",
              "    [theme=dark] .colab-df-convert {\n",
              "      background-color: #3B4455;\n",
              "      fill: #D2E3FC;\n",
              "    }\n",
              "\n",
              "    [theme=dark] .colab-df-convert:hover {\n",
              "      background-color: #434B5C;\n",
              "      box-shadow: 0px 1px 3px 1px rgba(0, 0, 0, 0.15);\n",
              "      filter: drop-shadow(0px 1px 2px rgba(0, 0, 0, 0.3));\n",
              "      fill: #FFFFFF;\n",
              "    }\n",
              "  </style>\n",
              "\n",
              "    <script>\n",
              "      const buttonEl =\n",
              "        document.querySelector('#df-993dfad0-28ae-44a2-a9d8-9ef8aeeed1e1 button.colab-df-convert');\n",
              "      buttonEl.style.display =\n",
              "        google.colab.kernel.accessAllowed ? 'block' : 'none';\n",
              "\n",
              "      async function convertToInteractive(key) {\n",
              "        const element = document.querySelector('#df-993dfad0-28ae-44a2-a9d8-9ef8aeeed1e1');\n",
              "        const dataTable =\n",
              "          await google.colab.kernel.invokeFunction('convertToInteractive',\n",
              "                                                    [key], {});\n",
              "        if (!dataTable) return;\n",
              "\n",
              "        const docLinkHtml = 'Like what you see? Visit the ' +\n",
              "          '<a target=\"_blank\" href=https://colab.research.google.com/notebooks/data_table.ipynb>data table notebook</a>'\n",
              "          + ' to learn more about interactive tables.';\n",
              "        element.innerHTML = '';\n",
              "        dataTable['output_type'] = 'display_data';\n",
              "        await google.colab.output.renderOutput(dataTable, element);\n",
              "        const docLink = document.createElement('div');\n",
              "        docLink.innerHTML = docLinkHtml;\n",
              "        element.appendChild(docLink);\n",
              "      }\n",
              "    </script>\n",
              "  </div>\n",
              "\n",
              "\n",
              "    <div id=\"df-8ef6809a-c973-462b-bc63-f2fce9070181\">\n",
              "      <button class=\"colab-df-quickchart\" onclick=\"quickchart('df-8ef6809a-c973-462b-bc63-f2fce9070181')\"\n",
              "                title=\"Suggest charts\"\n",
              "                style=\"display:none;\">\n",
              "\n",
              "<svg xmlns=\"http://www.w3.org/2000/svg\" height=\"24px\"viewBox=\"0 0 24 24\"\n",
              "     width=\"24px\">\n",
              "    <g>\n",
              "        <path d=\"M19 3H5c-1.1 0-2 .9-2 2v14c0 1.1.9 2 2 2h14c1.1 0 2-.9 2-2V5c0-1.1-.9-2-2-2zM9 17H7v-7h2v7zm4 0h-2V7h2v10zm4 0h-2v-4h2v4z\"/>\n",
              "    </g>\n",
              "</svg>\n",
              "      </button>\n",
              "\n",
              "<style>\n",
              "  .colab-df-quickchart {\n",
              "      --bg-color: #E8F0FE;\n",
              "      --fill-color: #1967D2;\n",
              "      --hover-bg-color: #E2EBFA;\n",
              "      --hover-fill-color: #174EA6;\n",
              "      --disabled-fill-color: #AAA;\n",
              "      --disabled-bg-color: #DDD;\n",
              "  }\n",
              "\n",
              "  [theme=dark] .colab-df-quickchart {\n",
              "      --bg-color: #3B4455;\n",
              "      --fill-color: #D2E3FC;\n",
              "      --hover-bg-color: #434B5C;\n",
              "      --hover-fill-color: #FFFFFF;\n",
              "      --disabled-bg-color: #3B4455;\n",
              "      --disabled-fill-color: #666;\n",
              "  }\n",
              "\n",
              "  .colab-df-quickchart {\n",
              "    background-color: var(--bg-color);\n",
              "    border: none;\n",
              "    border-radius: 50%;\n",
              "    cursor: pointer;\n",
              "    display: none;\n",
              "    fill: var(--fill-color);\n",
              "    height: 32px;\n",
              "    padding: 0;\n",
              "    width: 32px;\n",
              "  }\n",
              "\n",
              "  .colab-df-quickchart:hover {\n",
              "    background-color: var(--hover-bg-color);\n",
              "    box-shadow: 0 1px 2px rgba(60, 64, 67, 0.3), 0 1px 3px 1px rgba(60, 64, 67, 0.15);\n",
              "    fill: var(--button-hover-fill-color);\n",
              "  }\n",
              "\n",
              "  .colab-df-quickchart-complete:disabled,\n",
              "  .colab-df-quickchart-complete:disabled:hover {\n",
              "    background-color: var(--disabled-bg-color);\n",
              "    fill: var(--disabled-fill-color);\n",
              "    box-shadow: none;\n",
              "  }\n",
              "\n",
              "  .colab-df-spinner {\n",
              "    border: 2px solid var(--fill-color);\n",
              "    border-color: transparent;\n",
              "    border-bottom-color: var(--fill-color);\n",
              "    animation:\n",
              "      spin 1s steps(1) infinite;\n",
              "  }\n",
              "\n",
              "  @keyframes spin {\n",
              "    0% {\n",
              "      border-color: transparent;\n",
              "      border-bottom-color: var(--fill-color);\n",
              "      border-left-color: var(--fill-color);\n",
              "    }\n",
              "    20% {\n",
              "      border-color: transparent;\n",
              "      border-left-color: var(--fill-color);\n",
              "      border-top-color: var(--fill-color);\n",
              "    }\n",
              "    30% {\n",
              "      border-color: transparent;\n",
              "      border-left-color: var(--fill-color);\n",
              "      border-top-color: var(--fill-color);\n",
              "      border-right-color: var(--fill-color);\n",
              "    }\n",
              "    40% {\n",
              "      border-color: transparent;\n",
              "      border-right-color: var(--fill-color);\n",
              "      border-top-color: var(--fill-color);\n",
              "    }\n",
              "    60% {\n",
              "      border-color: transparent;\n",
              "      border-right-color: var(--fill-color);\n",
              "    }\n",
              "    80% {\n",
              "      border-color: transparent;\n",
              "      border-right-color: var(--fill-color);\n",
              "      border-bottom-color: var(--fill-color);\n",
              "    }\n",
              "    90% {\n",
              "      border-color: transparent;\n",
              "      border-bottom-color: var(--fill-color);\n",
              "    }\n",
              "  }\n",
              "</style>\n",
              "\n",
              "      <script>\n",
              "        async function quickchart(key) {\n",
              "          const quickchartButtonEl =\n",
              "            document.querySelector('#' + key + ' button');\n",
              "          quickchartButtonEl.disabled = true;  // To prevent multiple clicks.\n",
              "          quickchartButtonEl.classList.add('colab-df-spinner');\n",
              "          try {\n",
              "            const charts = await google.colab.kernel.invokeFunction(\n",
              "                'suggestCharts', [key], {});\n",
              "          } catch (error) {\n",
              "            console.error('Error during call to suggestCharts:', error);\n",
              "          }\n",
              "          quickchartButtonEl.classList.remove('colab-df-spinner');\n",
              "          quickchartButtonEl.classList.add('colab-df-quickchart-complete');\n",
              "        }\n",
              "        (() => {\n",
              "          let quickchartButtonEl =\n",
              "            document.querySelector('#df-8ef6809a-c973-462b-bc63-f2fce9070181 button');\n",
              "          quickchartButtonEl.style.display =\n",
              "            google.colab.kernel.accessAllowed ? 'block' : 'none';\n",
              "        })();\n",
              "      </script>\n",
              "    </div>\n",
              "\n",
              "  <div id=\"id_097c9c1c-5af8-4b13-a4f0-420857830d21\">\n",
              "    <style>\n",
              "      .colab-df-generate {\n",
              "        background-color: #E8F0FE;\n",
              "        border: none;\n",
              "        border-radius: 50%;\n",
              "        cursor: pointer;\n",
              "        display: none;\n",
              "        fill: #1967D2;\n",
              "        height: 32px;\n",
              "        padding: 0 0 0 0;\n",
              "        width: 32px;\n",
              "      }\n",
              "\n",
              "      .colab-df-generate:hover {\n",
              "        background-color: #E2EBFA;\n",
              "        box-shadow: 0px 1px 2px rgba(60, 64, 67, 0.3), 0px 1px 3px 1px rgba(60, 64, 67, 0.15);\n",
              "        fill: #174EA6;\n",
              "      }\n",
              "\n",
              "      [theme=dark] .colab-df-generate {\n",
              "        background-color: #3B4455;\n",
              "        fill: #D2E3FC;\n",
              "      }\n",
              "\n",
              "      [theme=dark] .colab-df-generate:hover {\n",
              "        background-color: #434B5C;\n",
              "        box-shadow: 0px 1px 3px 1px rgba(0, 0, 0, 0.15);\n",
              "        filter: drop-shadow(0px 1px 2px rgba(0, 0, 0, 0.3));\n",
              "        fill: #FFFFFF;\n",
              "      }\n",
              "    </style>\n",
              "    <button class=\"colab-df-generate\" onclick=\"generateWithVariable('df_sample')\"\n",
              "            title=\"Generate code using this dataframe.\"\n",
              "            style=\"display:none;\">\n",
              "\n",
              "  <svg xmlns=\"http://www.w3.org/2000/svg\" height=\"24px\"viewBox=\"0 0 24 24\"\n",
              "       width=\"24px\">\n",
              "    <path d=\"M7,19H8.4L18.45,9,17,7.55,7,17.6ZM5,21V16.75L18.45,3.32a2,2,0,0,1,2.83,0l1.4,1.43a1.91,1.91,0,0,1,.58,1.4,1.91,1.91,0,0,1-.58,1.4L9.25,21ZM18.45,9,17,7.55Zm-12,3A5.31,5.31,0,0,0,4.9,8.1,5.31,5.31,0,0,0,1,6.5,5.31,5.31,0,0,0,4.9,4.9,5.31,5.31,0,0,0,6.5,1,5.31,5.31,0,0,0,8.1,4.9,5.31,5.31,0,0,0,12,6.5,5.46,5.46,0,0,0,6.5,12Z\"/>\n",
              "  </svg>\n",
              "    </button>\n",
              "    <script>\n",
              "      (() => {\n",
              "      const buttonEl =\n",
              "        document.querySelector('#id_097c9c1c-5af8-4b13-a4f0-420857830d21 button.colab-df-generate');\n",
              "      buttonEl.style.display =\n",
              "        google.colab.kernel.accessAllowed ? 'block' : 'none';\n",
              "\n",
              "      buttonEl.onclick = () => {\n",
              "        google.colab.notebook.generateWithVariable('df_sample');\n",
              "      }\n",
              "      })();\n",
              "    </script>\n",
              "  </div>\n",
              "\n",
              "    </div>\n",
              "  </div>\n"
            ],
            "application/vnd.google.colaboratory.intrinsic+json": {
              "type": "dataframe",
              "variable_name": "df_sample",
              "summary": "{\n  \"name\": \"df_sample\",\n  \"rows\": 5000,\n  \"fields\": [\n    {\n      \"column\": \"review\",\n      \"properties\": {\n        \"dtype\": \"string\",\n        \"num_unique_values\": 4993,\n        \"samples\": [\n          \"this movie be the first time movie experience for several people in the cast . all of they be experience actor and have play in several tv series and play . Sahan Gokbakar be a well know comedian in Turkey . it be kind of strange to see he in a thriller , while he be at the peak of his comedy career in Turkey . this movie be Togan Gokbakar 's first long shot and pretty much the first experience as a director . but they all do a good job . we be happy to see such enthusiastic young cast . they seem very promising for the future of the turkish film industry . Doga Rutkay be long time sweetheart of Sahan Gokbakar , be also a talented actress , who be know for her recent play in \\\" number 27 \\\" theatrical play and several tv series .\",\n          \"I have see this movie 4 time in 5 month and I never get tired of it just because it be perfect . and it have also get the good film music ever and the well supporting role ever write for a movie . I mean you just have to love Robert Duval , Marlon Brando , Martin Sheen and Lauerence Fishburne in this movie but specially Duval . I can not believe that Kramer vs. Kramer do win an Oscar in stead of this amazing war movie . so this be my conclusion if you take the director of the world great movie ( the Godfather ) and the good of Hollywood actor you can only succeed . now I just have to writhe something to get this preview so do not read this except the last line . this movie rule ! ! ! ! ! ! ! ! ! ! ! ! ! ! ! ! !\",\n          \"this be a gem . as a Film Four production - the anticipated quality be indeed deliver . Shot with great style that remind I some Errol Morris film , well arrange and simply grip . it be long yet horrify to the point it be excruciating . we know something bad happen ( one can guess by the lack of participation of a person in the interview ) but we be compel to see it , a bit like a car accident in slow motion . the story span most conceivable aspect and unlike some documentary do not try and refrain from show the grimmer side of the story , as also deal with the guilt of the people Don leave behind he , wonder why they do not stop he in time . it take I a few hour to get out of the melancholy that grip I after see this very - well make documentary .\"\n        ],\n        \"semantic_type\": \"\",\n        \"description\": \"\"\n      }\n    },\n    {\n      \"column\": \"sentiment\",\n      \"properties\": {\n        \"dtype\": \"number\",\n        \"std\": 0,\n        \"min\": 0,\n        \"max\": 1,\n        \"num_unique_values\": 2,\n        \"samples\": [\n          0,\n          1\n        ],\n        \"semantic_type\": \"\",\n        \"description\": \"\"\n      }\n    }\n  ]\n}"
            }
          },
          "metadata": {},
          "execution_count": 28
        }
      ]
    },
    {
      "cell_type": "markdown",
      "source": [
        "**Main Script** --> Running the Model"
      ],
      "metadata": {
        "id": "DB0bCA-fS9tr"
      }
    },
    {
      "cell_type": "code",
      "source": [
        "import os\n",
        "os.makedirs('models', exist_ok=True)"
      ],
      "metadata": {
        "id": "JmtPHVOzjSuE"
      },
      "execution_count": 29,
      "outputs": []
    },
    {
      "cell_type": "code",
      "source": [
        "import os\n",
        "print(os.listdir())"
      ],
      "metadata": {
        "colab": {
          "base_uri": "https://localhost:8080/"
        },
        "id": "PThBxdULaXoL",
        "outputId": "2a1ae989-27d8-45fd-eede-6d1072331f0a"
      },
      "execution_count": 30,
      "outputs": [
        {
          "output_type": "stream",
          "name": "stdout",
          "text": [
            "['.config', 'test_15K.pkl', 'train_15K.pkl', 'IMDB Dataset.csv', 'models', 'sample_data']\n"
          ]
        }
      ]
    },
    {
      "cell_type": "code",
      "source": [
        "from torch.utils.data import DataLoader"
      ],
      "metadata": {
        "id": "zzOLF-9a4La7"
      },
      "execution_count": 31,
      "outputs": []
    },
    {
      "cell_type": "code",
      "source": [
        "import os\n",
        "\n",
        "if __name__ == '__main__':\n",
        "    warnings.filterwarnings(\"ignore\")\n",
        "\n",
        "    os.makedirs('models', exist_ok=True)\n",
        "\n",
        "    train_dataset = MovieDataset('train_15K.pkl')\n",
        "    train_dataloader = DataLoader(train_dataset, batch_size=512, shuffle=True, num_workers=1)\n",
        "\n",
        "    eval_dataset = MovieDataset('test_15K.pkl')\n",
        "    eval_dataloader = DataLoader(eval_dataset, batch_size=512, shuffle=True, num_workers=1)\n",
        "\n",
        "    device = torch.device(\"cuda\" if torch.cuda.is_available() else \"cpu\")\n",
        "\n",
        "    model = LSTMModel(vocab_size=train_dataset.tokenizer.vocab_size,\n",
        "                      embed_size=50,\n",
        "                      lstm_out=50,\n",
        "                      lstm_layers=2,\n",
        "                      out_dim=1,\n",
        "                      dropout_lstm=0.6,\n",
        "                      dropout=0.6)\n",
        "    model.to(device)\n",
        "\n",
        "    optimizer = torch.optim.Adam(model.parameters(), lr=5e-3)\n",
        "    min_eval_loss = float('inf')\n",
        "\n",
        "    for epoch in range(1000):\n",
        "        running_train_loss = 0.0\n",
        "        model.train()\n",
        "\n",
        "        # Training loop\n",
        "        for batch in tqdm(train_dataloader, total=len(train_dataloader), desc=f\"Epoch {epoch+1} Training\"):\n",
        "            running_train_loss += train_step(model, batch, optimizer)\n",
        "\n",
        "        if (epoch + 1) % 5 == 0:\n",
        "            print(f'Epoch {epoch+1} || Train Loss: {running_train_loss}')\n",
        "\n",
        "        # Validation loop\n",
        "        if (epoch + 1) % 10 == 0:\n",
        "            model.eval()\n",
        "            running_eval_loss = 0.0\n",
        "            with torch.no_grad():\n",
        "                for batch in tqdm(eval_dataloader, total=len(eval_dataloader), desc=f\"Epoch {epoch+1} Validation\"):\n",
        "                    running_eval_loss += eval_step(model, batch)\n",
        "\n",
        "            print(f'Epoch {epoch+1} || Eval Loss: {running_eval_loss}')\n",
        "\n",
        "            if running_eval_loss < min_eval_loss:\n",
        "                min_eval_loss = running_eval_loss\n",
        "                save_model(model=model, epoch=epoch + 1, optimizer=optimizer,\n",
        "                           loss=min_eval_loss, path=f'models/model-{epoch + 1}.pt')\n",
        "\n",
        "            torch.cuda.empty_cache()\n",
        "        if (epoch + 1) % 50 == 0:\n",
        "            torch.cuda.empty_cache()\n",
        "\n",
        "    print(\"Training completed!\")"
      ],
      "metadata": {
        "colab": {
          "base_uri": "https://localhost:8080/",
          "height": 1000,
          "referenced_widgets": [
            "11a4c377248d413db81d101f76c6ee00",
            "05ab13b96e824a32844497d28cec709d",
            "a4dbadefbce149839a2eb80e8aafbd31",
            "7077d95e30824c10a1d108673095bcc6",
            "c88932d11ab54d24982ea59cc1ec881b",
            "97ab2abe226c4677b98f61193b7c92b3",
            "d00cafd311cb456eb1ccaf09f959dffb",
            "5aaaca2ea1a94dffaf697bcd1d1219d2",
            "6e925bf417a54242b1e285a0c74f7dfe",
            "d6c3379fa01b47088f4a97c7c9c8317e",
            "3876ab2e89ec4ed1b2b9b8a26c388483",
            "42116ceffb89441e993dce5c7aeb541b",
            "ba11c48817184169b15363c36c6543df",
            "cc97980e25cf4e59b1133a918d260d8a",
            "6660b58d8994492e8d2b6d6b76ae7a36",
            "fa5e8d6552084063a91f557f0eabb8ca",
            "d83a465458a143bb83df7d400bf7e404",
            "9ad6e4c06bb64fae95e2fc7647341326",
            "d8502a22f3ec4c8680ddfee67bf22f6c",
            "33aa29712b5949cca4ac197f3793bfc0",
            "10511e6e2cdc47e6b4ca4cd847d8ce91",
            "fd5dcf9abed64e51a4497a78fea692dd",
            "cf67737c047f4effb8b5ce9b8418bfde",
            "dbf4a5d6871c4486a0883e61c0f89f88",
            "cf8d676c5906441bacd43689ce5fbeae",
            "ce096c92bce5481b976bb9043908af36",
            "cb525348eecf4422ae73d155a7067d1a",
            "bbd2f688c0d64d5bada8a2375f875f2c",
            "9c307426655044278327cc18005f932e",
            "074d30bb4b2645369ee10433f3a90b2e",
            "26ab71d94fce45e99959fad6d342014a",
            "a7961b84ce374998a2e4ae90d781f96f",
            "691bc2fe5afa4bd48b722baa673d79a4",
            "6ce41ed80cd642fabbbe84bb70e38b1c",
            "1a0deec7298847abb0cd7e6ec4dc7b76",
            "cc6446e8cadc40e3bf1f9dfbcb4ea31e",
            "8747b682fad147f88ecd4b0c6687b112",
            "dc71acdb808b425289ea28502c224fc4",
            "dc7c24b77ceb48a79e0fe039281393a4",
            "0a65dee8f15f4cc895980c155c8a1d52",
            "44a427dcb5514c168773921b5bfb11f6",
            "72fca633a0264b899171e664d4028173",
            "1093c88529944e74a4c527d26c753694",
            "f761b95c44e1456597f0cb4af5d1b806"
          ]
        },
        "id": "EGjiMGHqYGvN",
        "outputId": "2a8c8684-dbed-43a3-f451-86402986066a"
      },
      "execution_count": 32,
      "outputs": [
        {
          "output_type": "display_data",
          "data": {
            "text/plain": [
              "tokenizer_config.json:   0%|          | 0.00/48.0 [00:00<?, ?B/s]"
            ],
            "application/vnd.jupyter.widget-view+json": {
              "version_major": 2,
              "version_minor": 0,
              "model_id": "11a4c377248d413db81d101f76c6ee00"
            }
          },
          "metadata": {}
        },
        {
          "output_type": "display_data",
          "data": {
            "text/plain": [
              "vocab.txt:   0%|          | 0.00/232k [00:00<?, ?B/s]"
            ],
            "application/vnd.jupyter.widget-view+json": {
              "version_major": 2,
              "version_minor": 0,
              "model_id": "42116ceffb89441e993dce5c7aeb541b"
            }
          },
          "metadata": {}
        },
        {
          "output_type": "display_data",
          "data": {
            "text/plain": [
              "tokenizer.json:   0%|          | 0.00/466k [00:00<?, ?B/s]"
            ],
            "application/vnd.jupyter.widget-view+json": {
              "version_major": 2,
              "version_minor": 0,
              "model_id": "cf67737c047f4effb8b5ce9b8418bfde"
            }
          },
          "metadata": {}
        },
        {
          "output_type": "display_data",
          "data": {
            "text/plain": [
              "config.json:   0%|          | 0.00/570 [00:00<?, ?B/s]"
            ],
            "application/vnd.jupyter.widget-view+json": {
              "version_major": 2,
              "version_minor": 0,
              "model_id": "6ce41ed80cd642fabbbe84bb70e38b1c"
            }
          },
          "metadata": {}
        },
        {
          "output_type": "stream",
          "name": "stderr",
          "text": [
            "Epoch 1 Training: 100%|██████████| 8/8 [00:05<00:00,  1.48it/s]\n",
            "Epoch 2 Training: 100%|██████████| 8/8 [00:04<00:00,  1.77it/s]\n",
            "Epoch 3 Training: 100%|██████████| 8/8 [00:04<00:00,  1.81it/s]\n",
            "Epoch 4 Training: 100%|██████████| 8/8 [00:04<00:00,  1.83it/s]\n",
            "Epoch 5 Training: 100%|██████████| 8/8 [00:04<00:00,  1.80it/s]\n"
          ]
        },
        {
          "output_type": "stream",
          "name": "stdout",
          "text": [
            "Epoch 5 || Train Loss: 5.548904478549957\n"
          ]
        },
        {
          "output_type": "stream",
          "name": "stderr",
          "text": [
            "Epoch 6 Training: 100%|██████████| 8/8 [00:04<00:00,  1.82it/s]\n",
            "Epoch 7 Training: 100%|██████████| 8/8 [00:04<00:00,  1.82it/s]\n",
            "Epoch 8 Training: 100%|██████████| 8/8 [00:04<00:00,  1.77it/s]\n",
            "Epoch 9 Training: 100%|██████████| 8/8 [00:04<00:00,  1.82it/s]\n",
            "Epoch 10 Training: 100%|██████████| 8/8 [00:04<00:00,  1.80it/s]\n"
          ]
        },
        {
          "output_type": "stream",
          "name": "stdout",
          "text": [
            "Epoch 10 || Train Loss: 5.536851346492767\n"
          ]
        },
        {
          "output_type": "stream",
          "name": "stderr",
          "text": [
            "Epoch 10 Validation: 100%|██████████| 2/2 [00:00<00:00,  8.57it/s]\n"
          ]
        },
        {
          "output_type": "stream",
          "name": "stdout",
          "text": [
            "Epoch 10 || Eval Loss: 1.3728331327438354\n"
          ]
        },
        {
          "output_type": "stream",
          "name": "stderr",
          "text": [
            "Epoch 11 Training: 100%|██████████| 8/8 [00:04<00:00,  1.78it/s]\n",
            "Epoch 12 Training: 100%|██████████| 8/8 [00:04<00:00,  1.83it/s]\n",
            "Epoch 13 Training: 100%|██████████| 8/8 [00:04<00:00,  1.76it/s]\n",
            "Epoch 14 Training: 100%|██████████| 8/8 [00:04<00:00,  1.82it/s]\n",
            "Epoch 15 Training: 100%|██████████| 8/8 [00:04<00:00,  1.83it/s]\n"
          ]
        },
        {
          "output_type": "stream",
          "name": "stdout",
          "text": [
            "Epoch 15 || Train Loss: 5.392114162445068\n"
          ]
        },
        {
          "output_type": "stream",
          "name": "stderr",
          "text": [
            "Epoch 16 Training: 100%|██████████| 8/8 [00:04<00:00,  1.76it/s]\n",
            "Epoch 17 Training: 100%|██████████| 8/8 [00:04<00:00,  1.82it/s]\n",
            "Epoch 18 Training: 100%|██████████| 8/8 [00:04<00:00,  1.80it/s]\n",
            "Epoch 19 Training: 100%|██████████| 8/8 [00:04<00:00,  1.73it/s]\n",
            "Epoch 20 Training: 100%|██████████| 8/8 [00:04<00:00,  1.81it/s]\n"
          ]
        },
        {
          "output_type": "stream",
          "name": "stdout",
          "text": [
            "Epoch 20 || Train Loss: 5.133905112743378\n"
          ]
        },
        {
          "output_type": "stream",
          "name": "stderr",
          "text": [
            "Epoch 20 Validation: 100%|██████████| 2/2 [00:00<00:00, 12.58it/s]\n"
          ]
        },
        {
          "output_type": "stream",
          "name": "stdout",
          "text": [
            "Epoch 20 || Eval Loss: 1.3121673464775085\n"
          ]
        },
        {
          "output_type": "stream",
          "name": "stderr",
          "text": [
            "Epoch 21 Training: 100%|██████████| 8/8 [00:04<00:00,  1.76it/s]\n",
            "Epoch 22 Training: 100%|██████████| 8/8 [00:04<00:00,  1.79it/s]\n",
            "Epoch 23 Training: 100%|██████████| 8/8 [00:04<00:00,  1.82it/s]\n",
            "Epoch 24 Training: 100%|██████████| 8/8 [00:04<00:00,  1.77it/s]\n",
            "Epoch 25 Training: 100%|██████████| 8/8 [00:04<00:00,  1.83it/s]\n"
          ]
        },
        {
          "output_type": "stream",
          "name": "stdout",
          "text": [
            "Epoch 25 || Train Loss: 4.500599265098572\n"
          ]
        },
        {
          "output_type": "stream",
          "name": "stderr",
          "text": [
            "Epoch 26 Training: 100%|██████████| 8/8 [00:04<00:00,  1.82it/s]\n",
            "Epoch 27 Training: 100%|██████████| 8/8 [00:04<00:00,  1.80it/s]\n",
            "Epoch 28 Training: 100%|██████████| 8/8 [00:04<00:00,  1.80it/s]\n",
            "Epoch 29 Training: 100%|██████████| 8/8 [00:04<00:00,  1.81it/s]\n",
            "Epoch 30 Training: 100%|██████████| 8/8 [00:04<00:00,  1.78it/s]\n"
          ]
        },
        {
          "output_type": "stream",
          "name": "stdout",
          "text": [
            "Epoch 30 || Train Loss: 4.182304918766022\n"
          ]
        },
        {
          "output_type": "stream",
          "name": "stderr",
          "text": [
            "Epoch 30 Validation: 100%|██████████| 2/2 [00:00<00:00, 12.79it/s]\n"
          ]
        },
        {
          "output_type": "stream",
          "name": "stdout",
          "text": [
            "Epoch 30 || Eval Loss: 1.1050291061401367\n"
          ]
        },
        {
          "output_type": "stream",
          "name": "stderr",
          "text": [
            "Epoch 31 Training: 100%|██████████| 8/8 [00:04<00:00,  1.81it/s]\n",
            "Epoch 32 Training: 100%|██████████| 8/8 [00:04<00:00,  1.77it/s]\n",
            "Epoch 33 Training: 100%|██████████| 8/8 [00:04<00:00,  1.80it/s]\n",
            "Epoch 34 Training: 100%|██████████| 8/8 [00:04<00:00,  1.80it/s]\n",
            "Epoch 35 Training: 100%|██████████| 8/8 [00:04<00:00,  1.77it/s]\n"
          ]
        },
        {
          "output_type": "stream",
          "name": "stdout",
          "text": [
            "Epoch 35 || Train Loss: 3.2065829038619995\n"
          ]
        },
        {
          "output_type": "stream",
          "name": "stderr",
          "text": [
            "Epoch 36 Training: 100%|██████████| 8/8 [00:04<00:00,  1.81it/s]\n",
            "Epoch 37 Training: 100%|██████████| 8/8 [00:04<00:00,  1.80it/s]\n",
            "Epoch 38 Training: 100%|██████████| 8/8 [00:04<00:00,  1.75it/s]\n",
            "Epoch 39 Training: 100%|██████████| 8/8 [00:04<00:00,  1.81it/s]\n",
            "Epoch 40 Training: 100%|██████████| 8/8 [00:04<00:00,  1.78it/s]\n"
          ]
        },
        {
          "output_type": "stream",
          "name": "stdout",
          "text": [
            "Epoch 40 || Train Loss: 2.936409056186676\n"
          ]
        },
        {
          "output_type": "stream",
          "name": "stderr",
          "text": [
            "Epoch 40 Validation: 100%|██████████| 2/2 [00:00<00:00, 11.22it/s]\n"
          ]
        },
        {
          "output_type": "stream",
          "name": "stdout",
          "text": [
            "Epoch 40 || Eval Loss: 1.2634701132774353\n"
          ]
        },
        {
          "output_type": "stream",
          "name": "stderr",
          "text": [
            "Epoch 41 Training: 100%|██████████| 8/8 [00:04<00:00,  1.81it/s]\n",
            "Epoch 42 Training: 100%|██████████| 8/8 [00:04<00:00,  1.82it/s]\n",
            "Epoch 43 Training: 100%|██████████| 8/8 [00:04<00:00,  1.77it/s]\n",
            "Epoch 44 Training: 100%|██████████| 8/8 [00:04<00:00,  1.82it/s]\n",
            "Epoch 45 Training: 100%|██████████| 8/8 [00:04<00:00,  1.82it/s]\n"
          ]
        },
        {
          "output_type": "stream",
          "name": "stdout",
          "text": [
            "Epoch 45 || Train Loss: 2.3909959197044373\n"
          ]
        },
        {
          "output_type": "stream",
          "name": "stderr",
          "text": [
            "Epoch 46 Training: 100%|██████████| 8/8 [00:04<00:00,  1.75it/s]\n",
            "Epoch 47 Training: 100%|██████████| 8/8 [00:04<00:00,  1.83it/s]\n",
            "Epoch 48 Training: 100%|██████████| 8/8 [00:04<00:00,  1.78it/s]\n",
            "Epoch 49 Training: 100%|██████████| 8/8 [00:04<00:00,  1.79it/s]\n",
            "Epoch 50 Training: 100%|██████████| 8/8 [00:04<00:00,  1.80it/s]\n"
          ]
        },
        {
          "output_type": "stream",
          "name": "stdout",
          "text": [
            "Epoch 50 || Train Loss: 2.608422487974167\n"
          ]
        },
        {
          "output_type": "stream",
          "name": "stderr",
          "text": [
            "Epoch 50 Validation: 100%|██████████| 2/2 [00:00<00:00, 12.39it/s]\n"
          ]
        },
        {
          "output_type": "stream",
          "name": "stdout",
          "text": [
            "Epoch 50 || Eval Loss: 1.6872779726982117\n"
          ]
        },
        {
          "output_type": "stream",
          "name": "stderr",
          "text": [
            "Epoch 51 Training: 100%|██████████| 8/8 [00:04<00:00,  1.76it/s]\n",
            "Epoch 52 Training: 100%|██████████| 8/8 [00:04<00:00,  1.83it/s]\n",
            "Epoch 53 Training: 100%|██████████| 8/8 [00:04<00:00,  1.79it/s]\n",
            "Epoch 54 Training: 100%|██████████| 8/8 [00:04<00:00,  1.76it/s]\n",
            "Epoch 55 Training: 100%|██████████| 8/8 [00:04<00:00,  1.83it/s]\n"
          ]
        },
        {
          "output_type": "stream",
          "name": "stdout",
          "text": [
            "Epoch 55 || Train Loss: 2.057370662689209\n"
          ]
        },
        {
          "output_type": "stream",
          "name": "stderr",
          "text": [
            "Epoch 56 Training: 100%|██████████| 8/8 [00:04<00:00,  1.79it/s]\n",
            "Epoch 57 Training: 100%|██████████| 8/8 [00:04<00:00,  1.77it/s]\n",
            "Epoch 58 Training: 100%|██████████| 8/8 [00:04<00:00,  1.82it/s]\n",
            "Epoch 59 Training: 100%|██████████| 8/8 [00:04<00:00,  1.75it/s]\n",
            "Epoch 60 Training: 100%|██████████| 8/8 [00:04<00:00,  1.80it/s]\n"
          ]
        },
        {
          "output_type": "stream",
          "name": "stdout",
          "text": [
            "Epoch 60 || Train Loss: 1.7442870736122131\n"
          ]
        },
        {
          "output_type": "stream",
          "name": "stderr",
          "text": [
            "Epoch 60 Validation: 100%|██████████| 2/2 [00:00<00:00, 12.71it/s]\n"
          ]
        },
        {
          "output_type": "stream",
          "name": "stdout",
          "text": [
            "Epoch 60 || Eval Loss: 2.300892472267151\n"
          ]
        },
        {
          "output_type": "stream",
          "name": "stderr",
          "text": [
            "Epoch 61 Training: 100%|██████████| 8/8 [00:04<00:00,  1.81it/s]\n",
            "Epoch 62 Training: 100%|██████████| 8/8 [00:04<00:00,  1.76it/s]\n",
            "Epoch 63 Training: 100%|██████████| 8/8 [00:04<00:00,  1.82it/s]\n",
            "Epoch 64 Training: 100%|██████████| 8/8 [00:04<00:00,  1.79it/s]\n",
            "Epoch 65 Training: 100%|██████████| 8/8 [00:04<00:00,  1.76it/s]\n"
          ]
        },
        {
          "output_type": "stream",
          "name": "stdout",
          "text": [
            "Epoch 65 || Train Loss: 1.4204900115728378\n"
          ]
        },
        {
          "output_type": "stream",
          "name": "stderr",
          "text": [
            "Epoch 66 Training: 100%|██████████| 8/8 [00:04<00:00,  1.80it/s]\n",
            "Epoch 67 Training: 100%|██████████| 8/8 [00:04<00:00,  1.77it/s]\n",
            "Epoch 68 Training: 100%|██████████| 8/8 [00:04<00:00,  1.82it/s]\n",
            "Epoch 69 Training: 100%|██████████| 8/8 [00:04<00:00,  1.81it/s]\n",
            "Epoch 70 Training: 100%|██████████| 8/8 [00:04<00:00,  1.75it/s]\n"
          ]
        },
        {
          "output_type": "stream",
          "name": "stdout",
          "text": [
            "Epoch 70 || Train Loss: 1.5693923234939575\n"
          ]
        },
        {
          "output_type": "stream",
          "name": "stderr",
          "text": [
            "Epoch 70 Validation: 100%|██████████| 2/2 [00:00<00:00, 12.48it/s]\n"
          ]
        },
        {
          "output_type": "stream",
          "name": "stdout",
          "text": [
            "Epoch 70 || Eval Loss: 1.8550999760627747\n"
          ]
        },
        {
          "output_type": "stream",
          "name": "stderr",
          "text": [
            "Epoch 71 Training: 100%|██████████| 8/8 [00:04<00:00,  1.81it/s]\n",
            "Epoch 72 Training: 100%|██████████| 8/8 [00:04<00:00,  1.78it/s]\n",
            "Epoch 73 Training: 100%|██████████| 8/8 [00:04<00:00,  1.77it/s]\n",
            "Epoch 74 Training: 100%|██████████| 8/8 [00:04<00:00,  1.80it/s]\n",
            "Epoch 75 Training: 100%|██████████| 8/8 [00:04<00:00,  1.73it/s]\n"
          ]
        },
        {
          "output_type": "stream",
          "name": "stdout",
          "text": [
            "Epoch 75 || Train Loss: 1.3067289739847183\n"
          ]
        },
        {
          "output_type": "stream",
          "name": "stderr",
          "text": [
            "Epoch 76 Training: 100%|██████████| 8/8 [00:04<00:00,  1.82it/s]\n",
            "Epoch 77 Training: 100%|██████████| 8/8 [00:04<00:00,  1.81it/s]\n",
            "Epoch 78 Training: 100%|██████████| 8/8 [00:04<00:00,  1.77it/s]\n",
            "Epoch 79 Training: 100%|██████████| 8/8 [00:04<00:00,  1.81it/s]\n",
            "Epoch 80 Training: 100%|██████████| 8/8 [00:04<00:00,  1.83it/s]\n"
          ]
        },
        {
          "output_type": "stream",
          "name": "stdout",
          "text": [
            "Epoch 80 || Train Loss: 1.346925675868988\n"
          ]
        },
        {
          "output_type": "stream",
          "name": "stderr",
          "text": [
            "Epoch 80 Validation: 100%|██████████| 2/2 [00:00<00:00,  8.67it/s]\n"
          ]
        },
        {
          "output_type": "stream",
          "name": "stdout",
          "text": [
            "Epoch 80 || Eval Loss: 2.676393747329712\n"
          ]
        },
        {
          "output_type": "stream",
          "name": "stderr",
          "text": [
            "Epoch 81 Training: 100%|██████████| 8/8 [00:04<00:00,  1.74it/s]\n",
            "Epoch 82 Training: 100%|██████████| 8/8 [00:04<00:00,  1.82it/s]\n",
            "Epoch 83 Training: 100%|██████████| 8/8 [00:04<00:00,  1.78it/s]\n",
            "Epoch 84 Training: 100%|██████████| 8/8 [00:04<00:00,  1.79it/s]\n",
            "Epoch 85 Training: 100%|██████████| 8/8 [00:04<00:00,  1.83it/s]\n"
          ]
        },
        {
          "output_type": "stream",
          "name": "stdout",
          "text": [
            "Epoch 85 || Train Loss: 1.0184059664607048\n"
          ]
        },
        {
          "output_type": "stream",
          "name": "stderr",
          "text": [
            "Epoch 86 Training: 100%|██████████| 8/8 [00:04<00:00,  1.77it/s]\n",
            "Epoch 87 Training: 100%|██████████| 8/8 [00:04<00:00,  1.81it/s]\n",
            "Epoch 88 Training: 100%|██████████| 8/8 [00:04<00:00,  1.80it/s]\n",
            "Epoch 89 Training: 100%|██████████| 8/8 [00:04<00:00,  1.77it/s]\n",
            "Epoch 90 Training: 100%|██████████| 8/8 [00:04<00:00,  1.82it/s]\n"
          ]
        },
        {
          "output_type": "stream",
          "name": "stdout",
          "text": [
            "Epoch 90 || Train Loss: 1.0222508385777473\n"
          ]
        },
        {
          "output_type": "stream",
          "name": "stderr",
          "text": [
            "Epoch 90 Validation: 100%|██████████| 2/2 [00:00<00:00, 12.94it/s]\n"
          ]
        },
        {
          "output_type": "stream",
          "name": "stdout",
          "text": [
            "Epoch 90 || Eval Loss: 4.851450204849243\n"
          ]
        },
        {
          "output_type": "stream",
          "name": "stderr",
          "text": [
            "Epoch 91 Training: 100%|██████████| 8/8 [00:04<00:00,  1.78it/s]\n",
            "Epoch 92 Training: 100%|██████████| 8/8 [00:04<00:00,  1.77it/s]\n",
            "Epoch 93 Training: 100%|██████████| 8/8 [00:04<00:00,  1.81it/s]\n",
            "Epoch 94 Training: 100%|██████████| 8/8 [00:04<00:00,  1.79it/s]\n",
            "Epoch 95 Training: 100%|██████████| 8/8 [00:04<00:00,  1.82it/s]\n"
          ]
        },
        {
          "output_type": "stream",
          "name": "stdout",
          "text": [
            "Epoch 95 || Train Loss: 0.7716211602091789\n"
          ]
        },
        {
          "output_type": "stream",
          "name": "stderr",
          "text": [
            "Epoch 96 Training: 100%|██████████| 8/8 [00:04<00:00,  1.82it/s]\n",
            "Epoch 97 Training: 100%|██████████| 8/8 [00:04<00:00,  1.77it/s]\n",
            "Epoch 98 Training: 100%|██████████| 8/8 [00:04<00:00,  1.81it/s]\n",
            "Epoch 99 Training: 100%|██████████| 8/8 [00:04<00:00,  1.78it/s]\n",
            "Epoch 100 Training: 100%|██████████| 8/8 [00:04<00:00,  1.77it/s]\n"
          ]
        },
        {
          "output_type": "stream",
          "name": "stdout",
          "text": [
            "Epoch 100 || Train Loss: 0.812246523797512\n"
          ]
        },
        {
          "output_type": "stream",
          "name": "stderr",
          "text": [
            "Epoch 100 Validation: 100%|██████████| 2/2 [00:00<00:00, 12.52it/s]\n"
          ]
        },
        {
          "output_type": "stream",
          "name": "stdout",
          "text": [
            "Epoch 100 || Eval Loss: 6.56501841545105\n"
          ]
        },
        {
          "output_type": "stream",
          "name": "stderr",
          "text": [
            "Epoch 101 Training: 100%|██████████| 8/8 [00:04<00:00,  1.81it/s]\n",
            "Epoch 102 Training: 100%|██████████| 8/8 [00:04<00:00,  1.77it/s]\n",
            "Epoch 103 Training: 100%|██████████| 8/8 [00:04<00:00,  1.81it/s]\n",
            "Epoch 104 Training: 100%|██████████| 8/8 [00:04<00:00,  1.81it/s]\n",
            "Epoch 105 Training: 100%|██████████| 8/8 [00:04<00:00,  1.78it/s]\n"
          ]
        },
        {
          "output_type": "stream",
          "name": "stdout",
          "text": [
            "Epoch 105 || Train Loss: 0.7020684629678726\n"
          ]
        },
        {
          "output_type": "stream",
          "name": "stderr",
          "text": [
            "Epoch 106 Training: 100%|██████████| 8/8 [00:04<00:00,  1.81it/s]\n",
            "Epoch 107 Training: 100%|██████████| 8/8 [00:04<00:00,  1.79it/s]\n",
            "Epoch 108 Training: 100%|██████████| 8/8 [00:04<00:00,  1.78it/s]\n",
            "Epoch 109 Training: 100%|██████████| 8/8 [00:04<00:00,  1.82it/s]\n",
            "Epoch 110 Training: 100%|██████████| 8/8 [00:04<00:00,  1.79it/s]\n"
          ]
        },
        {
          "output_type": "stream",
          "name": "stdout",
          "text": [
            "Epoch 110 || Train Loss: 0.7586279585957527\n"
          ]
        },
        {
          "output_type": "stream",
          "name": "stderr",
          "text": [
            "Epoch 110 Validation: 100%|██████████| 2/2 [00:00<00:00,  7.99it/s]\n"
          ]
        },
        {
          "output_type": "stream",
          "name": "stdout",
          "text": [
            "Epoch 110 || Eval Loss: 7.826697587966919\n"
          ]
        },
        {
          "output_type": "stream",
          "name": "stderr",
          "text": [
            "Epoch 111 Training: 100%|██████████| 8/8 [00:04<00:00,  1.81it/s]\n",
            "Epoch 112 Training: 100%|██████████| 8/8 [00:04<00:00,  1.81it/s]\n",
            "Epoch 113 Training: 100%|██████████| 8/8 [00:04<00:00,  1.77it/s]\n",
            "Epoch 114 Training: 100%|██████████| 8/8 [00:04<00:00,  1.83it/s]\n",
            "Epoch 115 Training: 100%|██████████| 8/8 [00:04<00:00,  1.81it/s]\n"
          ]
        },
        {
          "output_type": "stream",
          "name": "stdout",
          "text": [
            "Epoch 115 || Train Loss: 0.585818950086832\n"
          ]
        },
        {
          "output_type": "stream",
          "name": "stderr",
          "text": [
            "Epoch 116 Training: 100%|██████████| 8/8 [00:04<00:00,  1.78it/s]\n",
            "Epoch 117 Training: 100%|██████████| 8/8 [00:04<00:00,  1.82it/s]\n",
            "Epoch 118 Training: 100%|██████████| 8/8 [00:04<00:00,  1.76it/s]\n",
            "Epoch 119 Training: 100%|██████████| 8/8 [00:04<00:00,  1.79it/s]\n",
            "Epoch 120 Training: 100%|██████████| 8/8 [00:04<00:00,  1.81it/s]\n"
          ]
        },
        {
          "output_type": "stream",
          "name": "stdout",
          "text": [
            "Epoch 120 || Train Loss: 0.6925561688840389\n"
          ]
        },
        {
          "output_type": "stream",
          "name": "stderr",
          "text": [
            "Epoch 120 Validation: 100%|██████████| 2/2 [00:00<00:00, 12.40it/s]\n"
          ]
        },
        {
          "output_type": "stream",
          "name": "stdout",
          "text": [
            "Epoch 120 || Eval Loss: 6.261884927749634\n"
          ]
        },
        {
          "output_type": "stream",
          "name": "stderr",
          "text": [
            "Epoch 121 Training: 100%|██████████| 8/8 [00:04<00:00,  1.79it/s]\n",
            "Epoch 122 Training: 100%|██████████| 8/8 [00:04<00:00,  1.79it/s]\n",
            "Epoch 123 Training: 100%|██████████| 8/8 [00:04<00:00,  1.82it/s]\n",
            "Epoch 124 Training: 100%|██████████| 8/8 [00:04<00:00,  1.75it/s]\n",
            "Epoch 125 Training: 100%|██████████| 8/8 [00:04<00:00,  1.83it/s]\n"
          ]
        },
        {
          "output_type": "stream",
          "name": "stdout",
          "text": [
            "Epoch 125 || Train Loss: 0.7180202007293701\n"
          ]
        },
        {
          "output_type": "stream",
          "name": "stderr",
          "text": [
            "Epoch 126 Training: 100%|██████████| 8/8 [00:04<00:00,  1.78it/s]\n",
            "Epoch 127 Training: 100%|██████████| 8/8 [00:04<00:00,  1.75it/s]\n",
            "Epoch 128 Training: 100%|██████████| 8/8 [00:04<00:00,  1.81it/s]\n",
            "Epoch 129 Training: 100%|██████████| 8/8 [00:04<00:00,  1.70it/s]\n",
            "Epoch 130 Training: 100%|██████████| 8/8 [00:04<00:00,  1.80it/s]\n"
          ]
        },
        {
          "output_type": "stream",
          "name": "stdout",
          "text": [
            "Epoch 130 || Train Loss: 0.6291109696030617\n"
          ]
        },
        {
          "output_type": "stream",
          "name": "stderr",
          "text": [
            "Epoch 130 Validation: 100%|██████████| 2/2 [00:00<00:00, 12.40it/s]\n"
          ]
        },
        {
          "output_type": "stream",
          "name": "stdout",
          "text": [
            "Epoch 130 || Eval Loss: 7.611412048339844\n"
          ]
        },
        {
          "output_type": "stream",
          "name": "stderr",
          "text": [
            "Epoch 131 Training: 100%|██████████| 8/8 [00:04<00:00,  1.81it/s]\n",
            "Epoch 132 Training: 100%|██████████| 8/8 [00:04<00:00,  1.73it/s]\n",
            "Epoch 133 Training: 100%|██████████| 8/8 [00:04<00:00,  1.80it/s]\n",
            "Epoch 134 Training: 100%|██████████| 8/8 [00:04<00:00,  1.76it/s]\n",
            "Epoch 135 Training: 100%|██████████| 8/8 [00:04<00:00,  1.78it/s]\n"
          ]
        },
        {
          "output_type": "stream",
          "name": "stdout",
          "text": [
            "Epoch 135 || Train Loss: 0.4770292602479458\n"
          ]
        },
        {
          "output_type": "stream",
          "name": "stderr",
          "text": [
            "Epoch 136 Training: 100%|██████████| 8/8 [00:04<00:00,  1.80it/s]\n",
            "Epoch 137 Training: 100%|██████████| 8/8 [00:04<00:00,  1.70it/s]\n",
            "Epoch 138 Training: 100%|██████████| 8/8 [00:04<00:00,  1.81it/s]\n",
            "Epoch 139 Training: 100%|██████████| 8/8 [00:04<00:00,  1.79it/s]\n",
            "Epoch 140 Training: 100%|██████████| 8/8 [00:04<00:00,  1.73it/s]\n"
          ]
        },
        {
          "output_type": "stream",
          "name": "stdout",
          "text": [
            "Epoch 140 || Train Loss: 0.5341154113411903\n"
          ]
        },
        {
          "output_type": "stream",
          "name": "stderr",
          "text": [
            "Epoch 140 Validation: 100%|██████████| 2/2 [00:00<00:00, 11.55it/s]\n"
          ]
        },
        {
          "output_type": "stream",
          "name": "stdout",
          "text": [
            "Epoch 140 || Eval Loss: 9.853499174118042\n"
          ]
        },
        {
          "output_type": "stream",
          "name": "stderr",
          "text": [
            "Epoch 141 Training: 100%|██████████| 8/8 [00:04<00:00,  1.81it/s]\n",
            "Epoch 142 Training: 100%|██████████| 8/8 [00:04<00:00,  1.78it/s]\n",
            "Epoch 143 Training: 100%|██████████| 8/8 [00:04<00:00,  1.75it/s]\n",
            "Epoch 144 Training: 100%|██████████| 8/8 [00:04<00:00,  1.81it/s]\n",
            "Epoch 145 Training: 100%|██████████| 8/8 [00:04<00:00,  1.77it/s]\n"
          ]
        },
        {
          "output_type": "stream",
          "name": "stdout",
          "text": [
            "Epoch 145 || Train Loss: 1.1196913607418537\n"
          ]
        },
        {
          "output_type": "stream",
          "name": "stderr",
          "text": [
            "Epoch 146 Training: 100%|██████████| 8/8 [00:04<00:00,  1.83it/s]\n",
            "Epoch 147 Training: 100%|██████████| 8/8 [00:04<00:00,  1.80it/s]\n",
            "Epoch 148 Training: 100%|██████████| 8/8 [00:04<00:00,  1.77it/s]\n",
            "Epoch 149 Training: 100%|██████████| 8/8 [00:04<00:00,  1.83it/s]\n",
            "Epoch 150 Training: 100%|██████████| 8/8 [00:04<00:00,  1.79it/s]\n"
          ]
        },
        {
          "output_type": "stream",
          "name": "stdout",
          "text": [
            "Epoch 150 || Train Loss: 0.5282611697912216\n"
          ]
        },
        {
          "output_type": "stream",
          "name": "stderr",
          "text": [
            "Epoch 150 Validation: 100%|██████████| 2/2 [00:00<00:00,  8.72it/s]\n"
          ]
        },
        {
          "output_type": "stream",
          "name": "stdout",
          "text": [
            "Epoch 150 || Eval Loss: 10.954125881195068\n"
          ]
        },
        {
          "output_type": "stream",
          "name": "stderr",
          "text": [
            "Epoch 151 Training: 100%|██████████| 8/8 [00:04<00:00,  1.77it/s]\n",
            "Epoch 152 Training: 100%|██████████| 8/8 [00:04<00:00,  1.82it/s]\n",
            "Epoch 153 Training: 100%|██████████| 8/8 [00:04<00:00,  1.78it/s]\n",
            "Epoch 154 Training: 100%|██████████| 8/8 [00:04<00:00,  1.79it/s]\n",
            "Epoch 155 Training: 100%|██████████| 8/8 [00:04<00:00,  1.82it/s]\n"
          ]
        },
        {
          "output_type": "stream",
          "name": "stdout",
          "text": [
            "Epoch 155 || Train Loss: 0.608846440911293\n"
          ]
        },
        {
          "output_type": "stream",
          "name": "stderr",
          "text": [
            "Epoch 156 Training: 100%|██████████| 8/8 [00:04<00:00,  1.75it/s]\n",
            "Epoch 157 Training: 100%|██████████| 8/8 [00:04<00:00,  1.80it/s]\n",
            "Epoch 158 Training: 100%|██████████| 8/8 [00:04<00:00,  1.83it/s]\n",
            "Epoch 159 Training: 100%|██████████| 8/8 [00:04<00:00,  1.77it/s]\n",
            "Epoch 160 Training: 100%|██████████| 8/8 [00:04<00:00,  1.80it/s]\n"
          ]
        },
        {
          "output_type": "stream",
          "name": "stdout",
          "text": [
            "Epoch 160 || Train Loss: 0.9190842248499393\n"
          ]
        },
        {
          "output_type": "stream",
          "name": "stderr",
          "text": [
            "Epoch 160 Validation: 100%|██████████| 2/2 [00:00<00:00, 12.41it/s]\n"
          ]
        },
        {
          "output_type": "stream",
          "name": "stdout",
          "text": [
            "Epoch 160 || Eval Loss: 13.895820617675781\n"
          ]
        },
        {
          "output_type": "stream",
          "name": "stderr",
          "text": [
            "Epoch 161 Training: 100%|██████████| 8/8 [00:04<00:00,  1.77it/s]\n",
            "Epoch 162 Training: 100%|██████████| 8/8 [00:04<00:00,  1.77it/s]\n",
            "Epoch 163 Training: 100%|██████████| 8/8 [00:04<00:00,  1.83it/s]\n",
            "Epoch 164 Training: 100%|██████████| 8/8 [00:04<00:00,  1.73it/s]\n",
            "Epoch 165 Training: 100%|██████████| 8/8 [00:04<00:00,  1.81it/s]\n"
          ]
        },
        {
          "output_type": "stream",
          "name": "stdout",
          "text": [
            "Epoch 165 || Train Loss: 0.33006560429930687\n"
          ]
        },
        {
          "output_type": "stream",
          "name": "stderr",
          "text": [
            "Epoch 166 Training: 100%|██████████| 8/8 [00:04<00:00,  1.80it/s]\n",
            "Epoch 167 Training: 100%|██████████| 8/8 [00:04<00:00,  1.76it/s]\n",
            "Epoch 168 Training: 100%|██████████| 8/8 [00:04<00:00,  1.80it/s]\n",
            "Epoch 169 Training: 100%|██████████| 8/8 [00:04<00:00,  1.78it/s]\n",
            "Epoch 170 Training: 100%|██████████| 8/8 [00:04<00:00,  1.76it/s]\n"
          ]
        },
        {
          "output_type": "stream",
          "name": "stdout",
          "text": [
            "Epoch 170 || Train Loss: 0.6203557215631008\n"
          ]
        },
        {
          "output_type": "stream",
          "name": "stderr",
          "text": [
            "Epoch 170 Validation: 100%|██████████| 2/2 [00:00<00:00, 12.14it/s]\n"
          ]
        },
        {
          "output_type": "stream",
          "name": "stdout",
          "text": [
            "Epoch 170 || Eval Loss: 8.590097427368164\n"
          ]
        },
        {
          "output_type": "stream",
          "name": "stderr",
          "text": [
            "Epoch 171 Training: 100%|██████████| 8/8 [00:04<00:00,  1.79it/s]\n",
            "Epoch 172 Training: 100%|██████████| 8/8 [00:04<00:00,  1.75it/s]\n",
            "Epoch 173 Training: 100%|██████████| 8/8 [00:04<00:00,  1.82it/s]\n",
            "Epoch 174 Training: 100%|██████████| 8/8 [00:04<00:00,  1.79it/s]\n",
            "Epoch 175 Training: 100%|██████████| 8/8 [00:04<00:00,  1.72it/s]\n"
          ]
        },
        {
          "output_type": "stream",
          "name": "stdout",
          "text": [
            "Epoch 175 || Train Loss: 0.4189990162849426\n"
          ]
        },
        {
          "output_type": "stream",
          "name": "stderr",
          "text": [
            "Epoch 176 Training: 100%|██████████| 8/8 [00:04<00:00,  1.79it/s]\n",
            "Epoch 177 Training: 100%|██████████| 8/8 [00:04<00:00,  1.77it/s]\n",
            "Epoch 178 Training: 100%|██████████| 8/8 [00:04<00:00,  1.77it/s]\n",
            "Epoch 179 Training: 100%|██████████| 8/8 [00:04<00:00,  1.82it/s]\n",
            "Epoch 180 Training: 100%|██████████| 8/8 [00:04<00:00,  1.76it/s]\n"
          ]
        },
        {
          "output_type": "stream",
          "name": "stdout",
          "text": [
            "Epoch 180 || Train Loss: 0.2510663513094187\n"
          ]
        },
        {
          "output_type": "stream",
          "name": "stderr",
          "text": [
            "Epoch 180 Validation: 100%|██████████| 2/2 [00:00<00:00, 12.28it/s]\n"
          ]
        },
        {
          "output_type": "stream",
          "name": "stdout",
          "text": [
            "Epoch 180 || Eval Loss: 7.67739725112915\n"
          ]
        },
        {
          "output_type": "stream",
          "name": "stderr",
          "text": [
            "Epoch 181 Training: 100%|██████████| 8/8 [00:04<00:00,  1.79it/s]\n",
            "Epoch 182 Training: 100%|██████████| 8/8 [00:04<00:00,  1.82it/s]\n",
            "Epoch 183 Training: 100%|██████████| 8/8 [00:04<00:00,  1.78it/s]\n",
            "Epoch 184 Training: 100%|██████████| 8/8 [00:04<00:00,  1.82it/s]\n",
            "Epoch 185 Training: 100%|██████████| 8/8 [00:04<00:00,  1.80it/s]\n"
          ]
        },
        {
          "output_type": "stream",
          "name": "stdout",
          "text": [
            "Epoch 185 || Train Loss: 0.273136917501688\n"
          ]
        },
        {
          "output_type": "stream",
          "name": "stderr",
          "text": [
            "Epoch 186 Training: 100%|██████████| 8/8 [00:04<00:00,  1.75it/s]\n",
            "Epoch 187 Training: 100%|██████████| 8/8 [00:04<00:00,  1.83it/s]\n",
            "Epoch 188 Training: 100%|██████████| 8/8 [00:04<00:00,  1.77it/s]\n",
            "Epoch 189 Training: 100%|██████████| 8/8 [00:04<00:00,  1.79it/s]\n",
            "Epoch 190 Training: 100%|██████████| 8/8 [00:04<00:00,  1.80it/s]\n"
          ]
        },
        {
          "output_type": "stream",
          "name": "stdout",
          "text": [
            "Epoch 190 || Train Loss: 0.20831986609846354\n"
          ]
        },
        {
          "output_type": "stream",
          "name": "stderr",
          "text": [
            "Epoch 190 Validation: 100%|██████████| 2/2 [00:00<00:00, 12.30it/s]\n"
          ]
        },
        {
          "output_type": "stream",
          "name": "stdout",
          "text": [
            "Epoch 190 || Eval Loss: 10.478512287139893\n"
          ]
        },
        {
          "output_type": "stream",
          "name": "stderr",
          "text": [
            "Epoch 191 Training: 100%|██████████| 8/8 [00:04<00:00,  1.76it/s]\n",
            "Epoch 192 Training: 100%|██████████| 8/8 [00:04<00:00,  1.82it/s]\n",
            "Epoch 193 Training: 100%|██████████| 8/8 [00:04<00:00,  1.81it/s]\n",
            "Epoch 194 Training: 100%|██████████| 8/8 [00:04<00:00,  1.76it/s]\n",
            "Epoch 195 Training: 100%|██████████| 8/8 [00:04<00:00,  1.80it/s]\n"
          ]
        },
        {
          "output_type": "stream",
          "name": "stdout",
          "text": [
            "Epoch 195 || Train Loss: 0.6482370719313622\n"
          ]
        },
        {
          "output_type": "stream",
          "name": "stderr",
          "text": [
            "Epoch 196 Training: 100%|██████████| 8/8 [00:04<00:00,  1.79it/s]\n",
            "Epoch 197 Training: 100%|██████████| 8/8 [00:04<00:00,  1.77it/s]\n",
            "Epoch 198 Training: 100%|██████████| 8/8 [00:04<00:00,  1.80it/s]\n",
            "Epoch 199 Training: 100%|██████████| 8/8 [00:04<00:00,  1.77it/s]\n",
            "Epoch 200 Training: 100%|██████████| 8/8 [00:04<00:00,  1.82it/s]\n"
          ]
        },
        {
          "output_type": "stream",
          "name": "stdout",
          "text": [
            "Epoch 200 || Train Loss: 0.198599049821496\n"
          ]
        },
        {
          "output_type": "stream",
          "name": "stderr",
          "text": [
            "Epoch 200 Validation: 100%|██████████| 2/2 [00:00<00:00, 11.78it/s]\n"
          ]
        },
        {
          "output_type": "stream",
          "name": "stdout",
          "text": [
            "Epoch 200 || Eval Loss: 12.573635578155518\n"
          ]
        },
        {
          "output_type": "stream",
          "name": "stderr",
          "text": [
            "Epoch 201 Training: 100%|██████████| 8/8 [00:04<00:00,  1.80it/s]\n",
            "Epoch 202 Training: 100%|██████████| 8/8 [00:04<00:00,  1.77it/s]\n",
            "Epoch 203 Training: 100%|██████████| 8/8 [00:04<00:00,  1.79it/s]\n",
            "Epoch 204 Training: 100%|██████████| 8/8 [00:04<00:00,  1.77it/s]\n",
            "Epoch 205 Training: 100%|██████████| 8/8 [00:04<00:00,  1.78it/s]\n"
          ]
        },
        {
          "output_type": "stream",
          "name": "stdout",
          "text": [
            "Epoch 205 || Train Loss: 0.17363947443664074\n"
          ]
        },
        {
          "output_type": "stream",
          "name": "stderr",
          "text": [
            "Epoch 206 Training: 100%|██████████| 8/8 [00:04<00:00,  1.80it/s]\n",
            "Epoch 207 Training: 100%|██████████| 8/8 [00:04<00:00,  1.72it/s]\n",
            "Epoch 208 Training: 100%|██████████| 8/8 [00:04<00:00,  1.79it/s]\n",
            "Epoch 209 Training: 100%|██████████| 8/8 [00:04<00:00,  1.81it/s]\n",
            "Epoch 210 Training: 100%|██████████| 8/8 [00:04<00:00,  1.72it/s]\n"
          ]
        },
        {
          "output_type": "stream",
          "name": "stdout",
          "text": [
            "Epoch 210 || Train Loss: 0.25690463930368423\n"
          ]
        },
        {
          "output_type": "stream",
          "name": "stderr",
          "text": [
            "Epoch 210 Validation: 100%|██████████| 2/2 [00:00<00:00, 12.41it/s]\n"
          ]
        },
        {
          "output_type": "stream",
          "name": "stdout",
          "text": [
            "Epoch 210 || Eval Loss: 10.226100444793701\n"
          ]
        },
        {
          "output_type": "stream",
          "name": "stderr",
          "text": [
            "Epoch 211 Training: 100%|██████████| 8/8 [00:04<00:00,  1.79it/s]\n",
            "Epoch 212 Training: 100%|██████████| 8/8 [00:04<00:00,  1.77it/s]\n",
            "Epoch 213 Training: 100%|██████████| 8/8 [00:04<00:00,  1.76it/s]\n",
            "Epoch 214 Training: 100%|██████████| 8/8 [00:04<00:00,  1.79it/s]\n",
            "Epoch 215 Training: 100%|██████████| 8/8 [00:04<00:00,  1.75it/s]\n"
          ]
        },
        {
          "output_type": "stream",
          "name": "stdout",
          "text": [
            "Epoch 215 || Train Loss: 0.34383806213736534\n"
          ]
        },
        {
          "output_type": "stream",
          "name": "stderr",
          "text": [
            "Epoch 216 Training: 100%|██████████| 8/8 [00:04<00:00,  1.81it/s]\n",
            "Epoch 217 Training: 100%|██████████| 8/8 [00:04<00:00,  1.80it/s]\n",
            "Epoch 218 Training: 100%|██████████| 8/8 [00:04<00:00,  1.73it/s]\n",
            "Epoch 219 Training: 100%|██████████| 8/8 [00:04<00:00,  1.80it/s]\n",
            "Epoch 220 Training: 100%|██████████| 8/8 [00:04<00:00,  1.79it/s]\n"
          ]
        },
        {
          "output_type": "stream",
          "name": "stdout",
          "text": [
            "Epoch 220 || Train Loss: 0.16406374145299196\n"
          ]
        },
        {
          "output_type": "stream",
          "name": "stderr",
          "text": [
            "Epoch 220 Validation: 100%|██████████| 2/2 [00:00<00:00,  8.89it/s]\n"
          ]
        },
        {
          "output_type": "stream",
          "name": "stdout",
          "text": [
            "Epoch 220 || Eval Loss: 12.814636707305908\n"
          ]
        },
        {
          "output_type": "stream",
          "name": "stderr",
          "text": [
            "Epoch 221 Training: 100%|██████████| 8/8 [00:04<00:00,  1.78it/s]\n",
            "Epoch 222 Training: 100%|██████████| 8/8 [00:04<00:00,  1.81it/s]\n",
            "Epoch 223 Training: 100%|██████████| 8/8 [00:04<00:00,  1.77it/s]\n",
            "Epoch 224 Training: 100%|██████████| 8/8 [00:04<00:00,  1.82it/s]\n",
            "Epoch 225 Training: 100%|██████████| 8/8 [00:04<00:00,  1.79it/s]\n"
          ]
        },
        {
          "output_type": "stream",
          "name": "stdout",
          "text": [
            "Epoch 225 || Train Loss: 0.17644763551652431\n"
          ]
        },
        {
          "output_type": "stream",
          "name": "stderr",
          "text": [
            "Epoch 226 Training: 100%|██████████| 8/8 [00:04<00:00,  1.70it/s]\n",
            "Epoch 227 Training: 100%|██████████| 8/8 [00:04<00:00,  1.81it/s]\n",
            "Epoch 228 Training: 100%|██████████| 8/8 [00:04<00:00,  1.79it/s]\n",
            "Epoch 229 Training: 100%|██████████| 8/8 [00:04<00:00,  1.72it/s]\n",
            "Epoch 230 Training: 100%|██████████| 8/8 [00:04<00:00,  1.82it/s]\n"
          ]
        },
        {
          "output_type": "stream",
          "name": "stdout",
          "text": [
            "Epoch 230 || Train Loss: 0.4969503618776798\n"
          ]
        },
        {
          "output_type": "stream",
          "name": "stderr",
          "text": [
            "Epoch 230 Validation: 100%|██████████| 2/2 [00:00<00:00, 11.37it/s]\n"
          ]
        },
        {
          "output_type": "stream",
          "name": "stdout",
          "text": [
            "Epoch 230 || Eval Loss: 7.843387603759766\n"
          ]
        },
        {
          "output_type": "stream",
          "name": "stderr",
          "text": [
            "Epoch 231 Training: 100%|██████████| 8/8 [00:04<00:00,  1.76it/s]\n",
            "Epoch 232 Training: 100%|██████████| 8/8 [00:04<00:00,  1.83it/s]\n",
            "Epoch 233 Training: 100%|██████████| 8/8 [00:04<00:00,  1.81it/s]\n",
            "Epoch 234 Training: 100%|██████████| 8/8 [00:04<00:00,  1.72it/s]\n",
            "Epoch 235 Training: 100%|██████████| 8/8 [00:04<00:00,  1.81it/s]\n"
          ]
        },
        {
          "output_type": "stream",
          "name": "stdout",
          "text": [
            "Epoch 235 || Train Loss: 0.2307568434625864\n"
          ]
        },
        {
          "output_type": "stream",
          "name": "stderr",
          "text": [
            "Epoch 236 Training: 100%|██████████| 8/8 [00:04<00:00,  1.80it/s]\n",
            "Epoch 237 Training: 100%|██████████| 8/8 [00:04<00:00,  1.72it/s]\n",
            "Epoch 238 Training: 100%|██████████| 8/8 [00:04<00:00,  1.82it/s]\n",
            "Epoch 239 Training: 100%|██████████| 8/8 [00:04<00:00,  1.76it/s]\n",
            "Epoch 240 Training: 100%|██████████| 8/8 [00:04<00:00,  1.75it/s]\n"
          ]
        },
        {
          "output_type": "stream",
          "name": "stdout",
          "text": [
            "Epoch 240 || Train Loss: 0.1756706666201353\n"
          ]
        },
        {
          "output_type": "stream",
          "name": "stderr",
          "text": [
            "Epoch 240 Validation: 100%|██████████| 2/2 [00:00<00:00, 12.35it/s]\n"
          ]
        },
        {
          "output_type": "stream",
          "name": "stdout",
          "text": [
            "Epoch 240 || Eval Loss: 10.167397499084473\n"
          ]
        },
        {
          "output_type": "stream",
          "name": "stderr",
          "text": [
            "Epoch 241 Training: 100%|██████████| 8/8 [00:04<00:00,  1.82it/s]\n",
            "Epoch 242 Training: 100%|██████████| 8/8 [00:04<00:00,  1.75it/s]\n",
            "Epoch 243 Training: 100%|██████████| 8/8 [00:04<00:00,  1.80it/s]\n",
            "Epoch 244 Training: 100%|██████████| 8/8 [00:04<00:00,  1.79it/s]\n",
            "Epoch 245 Training: 100%|██████████| 8/8 [00:04<00:00,  1.71it/s]\n"
          ]
        },
        {
          "output_type": "stream",
          "name": "stdout",
          "text": [
            "Epoch 245 || Train Loss: 0.2321964967995882\n"
          ]
        },
        {
          "output_type": "stream",
          "name": "stderr",
          "text": [
            "Epoch 246 Training: 100%|██████████| 8/8 [00:04<00:00,  1.80it/s]\n",
            "Epoch 247 Training: 100%|██████████| 8/8 [00:04<00:00,  1.77it/s]\n",
            "Epoch 248 Training: 100%|██████████| 8/8 [00:04<00:00,  1.75it/s]\n",
            "Epoch 249 Training: 100%|██████████| 8/8 [00:04<00:00,  1.80it/s]\n",
            "Epoch 250 Training: 100%|██████████| 8/8 [00:04<00:00,  1.78it/s]\n"
          ]
        },
        {
          "output_type": "stream",
          "name": "stdout",
          "text": [
            "Epoch 250 || Train Loss: 0.17720029689371586\n"
          ]
        },
        {
          "output_type": "stream",
          "name": "stderr",
          "text": [
            "Epoch 250 Validation: 100%|██████████| 2/2 [00:00<00:00, 12.36it/s]\n"
          ]
        },
        {
          "output_type": "stream",
          "name": "stdout",
          "text": [
            "Epoch 250 || Eval Loss: 10.14621114730835\n"
          ]
        },
        {
          "output_type": "stream",
          "name": "stderr",
          "text": [
            "Epoch 251 Training: 100%|██████████| 8/8 [00:04<00:00,  1.80it/s]\n",
            "Epoch 252 Training: 100%|██████████| 8/8 [00:04<00:00,  1.81it/s]\n",
            "Epoch 253 Training: 100%|██████████| 8/8 [00:04<00:00,  1.72it/s]\n",
            "Epoch 254 Training: 100%|██████████| 8/8 [00:04<00:00,  1.79it/s]\n",
            "Epoch 255 Training: 100%|██████████| 8/8 [00:04<00:00,  1.77it/s]\n"
          ]
        },
        {
          "output_type": "stream",
          "name": "stdout",
          "text": [
            "Epoch 255 || Train Loss: 0.13779311906546354\n"
          ]
        },
        {
          "output_type": "stream",
          "name": "stderr",
          "text": [
            "Epoch 256 Training: 100%|██████████| 8/8 [00:04<00:00,  1.75it/s]\n",
            "Epoch 257 Training: 100%|██████████| 8/8 [00:04<00:00,  1.79it/s]\n",
            "Epoch 258 Training: 100%|██████████| 8/8 [00:04<00:00,  1.74it/s]\n",
            "Epoch 259 Training: 100%|██████████| 8/8 [00:04<00:00,  1.81it/s]\n",
            "Epoch 260 Training: 100%|██████████| 8/8 [00:04<00:00,  1.79it/s]\n"
          ]
        },
        {
          "output_type": "stream",
          "name": "stdout",
          "text": [
            "Epoch 260 || Train Loss: 0.1400737171061337\n"
          ]
        },
        {
          "output_type": "stream",
          "name": "stderr",
          "text": [
            "Epoch 260 Validation: 100%|██████████| 2/2 [00:00<00:00, 12.15it/s]\n"
          ]
        },
        {
          "output_type": "stream",
          "name": "stdout",
          "text": [
            "Epoch 260 || Eval Loss: 10.072927474975586\n"
          ]
        },
        {
          "output_type": "stream",
          "name": "stderr",
          "text": [
            "Epoch 261 Training: 100%|██████████| 8/8 [00:04<00:00,  1.70it/s]\n",
            "Epoch 262 Training: 100%|██████████| 8/8 [00:04<00:00,  1.82it/s]\n",
            "Epoch 263 Training: 100%|██████████| 8/8 [00:04<00:00,  1.77it/s]\n",
            "Epoch 264 Training: 100%|██████████| 8/8 [00:04<00:00,  1.74it/s]\n",
            "Epoch 265 Training: 100%|██████████| 8/8 [00:04<00:00,  1.81it/s]\n"
          ]
        },
        {
          "output_type": "stream",
          "name": "stdout",
          "text": [
            "Epoch 265 || Train Loss: 0.4582559447735548\n"
          ]
        },
        {
          "output_type": "stream",
          "name": "stderr",
          "text": [
            "Epoch 266 Training: 100%|██████████| 8/8 [00:04<00:00,  1.77it/s]\n",
            "Epoch 267 Training: 100%|██████████| 8/8 [00:04<00:00,  1.81it/s]\n",
            "Epoch 268 Training: 100%|██████████| 8/8 [00:04<00:00,  1.83it/s]\n",
            "Epoch 269 Training: 100%|██████████| 8/8 [00:04<00:00,  1.71it/s]\n",
            "Epoch 270 Training: 100%|██████████| 8/8 [00:04<00:00,  1.82it/s]\n"
          ]
        },
        {
          "output_type": "stream",
          "name": "stdout",
          "text": [
            "Epoch 270 || Train Loss: 0.1582070654258132\n"
          ]
        },
        {
          "output_type": "stream",
          "name": "stderr",
          "text": [
            "Epoch 270 Validation: 100%|██████████| 2/2 [00:00<00:00, 12.25it/s]\n"
          ]
        },
        {
          "output_type": "stream",
          "name": "stdout",
          "text": [
            "Epoch 270 || Eval Loss: 11.699226379394531\n"
          ]
        },
        {
          "output_type": "stream",
          "name": "stderr",
          "text": [
            "Epoch 271 Training: 100%|██████████| 8/8 [00:04<00:00,  1.77it/s]\n",
            "Epoch 272 Training: 100%|██████████| 8/8 [00:04<00:00,  1.73it/s]\n",
            "Epoch 273 Training: 100%|██████████| 8/8 [00:04<00:00,  1.83it/s]\n",
            "Epoch 274 Training: 100%|██████████| 8/8 [00:04<00:00,  1.75it/s]\n",
            "Epoch 275 Training: 100%|██████████| 8/8 [00:04<00:00,  1.81it/s]\n"
          ]
        },
        {
          "output_type": "stream",
          "name": "stdout",
          "text": [
            "Epoch 275 || Train Loss: 0.189400902017951\n"
          ]
        },
        {
          "output_type": "stream",
          "name": "stderr",
          "text": [
            "Epoch 276 Training: 100%|██████████| 8/8 [00:04<00:00,  1.79it/s]\n",
            "Epoch 277 Training: 100%|██████████| 8/8 [00:04<00:00,  1.75it/s]\n",
            "Epoch 278 Training: 100%|██████████| 8/8 [00:04<00:00,  1.81it/s]\n",
            "Epoch 279 Training: 100%|██████████| 8/8 [00:04<00:00,  1.77it/s]\n",
            "Epoch 280 Training: 100%|██████████| 8/8 [00:04<00:00,  1.69it/s]\n"
          ]
        },
        {
          "output_type": "stream",
          "name": "stdout",
          "text": [
            "Epoch 280 || Train Loss: 0.1269915271550417\n"
          ]
        },
        {
          "output_type": "stream",
          "name": "stderr",
          "text": [
            "Epoch 280 Validation: 100%|██████████| 2/2 [00:00<00:00, 12.28it/s]\n"
          ]
        },
        {
          "output_type": "stream",
          "name": "stdout",
          "text": [
            "Epoch 280 || Eval Loss: 14.267915725708008\n"
          ]
        },
        {
          "output_type": "stream",
          "name": "stderr",
          "text": [
            "Epoch 281 Training: 100%|██████████| 8/8 [00:04<00:00,  1.82it/s]\n",
            "Epoch 282 Training: 100%|██████████| 8/8 [00:04<00:00,  1.75it/s]\n",
            "Epoch 283 Training: 100%|██████████| 8/8 [00:04<00:00,  1.79it/s]\n",
            "Epoch 284 Training: 100%|██████████| 8/8 [00:04<00:00,  1.81it/s]\n",
            "Epoch 285 Training: 100%|██████████| 8/8 [00:04<00:00,  1.74it/s]\n"
          ]
        },
        {
          "output_type": "stream",
          "name": "stdout",
          "text": [
            "Epoch 285 || Train Loss: 0.10982311051338911\n"
          ]
        },
        {
          "output_type": "stream",
          "name": "stderr",
          "text": [
            "Epoch 286 Training: 100%|██████████| 8/8 [00:04<00:00,  1.81it/s]\n",
            "Epoch 287 Training: 100%|██████████| 8/8 [00:04<00:00,  1.79it/s]\n",
            "Epoch 288 Training: 100%|██████████| 8/8 [00:04<00:00,  1.69it/s]\n",
            "Epoch 289 Training: 100%|██████████| 8/8 [00:04<00:00,  1.78it/s]\n",
            "Epoch 290 Training: 100%|██████████| 8/8 [00:04<00:00,  1.76it/s]\n"
          ]
        },
        {
          "output_type": "stream",
          "name": "stdout",
          "text": [
            "Epoch 290 || Train Loss: 0.08397147711366415\n"
          ]
        },
        {
          "output_type": "stream",
          "name": "stderr",
          "text": [
            "Epoch 290 Validation: 100%|██████████| 2/2 [00:00<00:00,  9.58it/s]\n"
          ]
        },
        {
          "output_type": "stream",
          "name": "stdout",
          "text": [
            "Epoch 290 || Eval Loss: 13.15878677368164\n"
          ]
        },
        {
          "output_type": "stream",
          "name": "stderr",
          "text": [
            "Epoch 291 Training: 100%|██████████| 8/8 [00:04<00:00,  1.80it/s]\n",
            "Epoch 292 Training: 100%|██████████| 8/8 [00:04<00:00,  1.80it/s]\n",
            "Epoch 293 Training: 100%|██████████| 8/8 [00:04<00:00,  1.76it/s]\n",
            "Epoch 294 Training: 100%|██████████| 8/8 [00:04<00:00,  1.80it/s]\n",
            "Epoch 295 Training: 100%|██████████| 8/8 [00:04<00:00,  1.80it/s]\n"
          ]
        },
        {
          "output_type": "stream",
          "name": "stdout",
          "text": [
            "Epoch 295 || Train Loss: 0.17845157906413078\n"
          ]
        },
        {
          "output_type": "stream",
          "name": "stderr",
          "text": [
            "Epoch 296 Training: 100%|██████████| 8/8 [00:04<00:00,  1.67it/s]\n",
            "Epoch 297 Training: 100%|██████████| 8/8 [00:04<00:00,  1.81it/s]\n",
            "Epoch 298 Training: 100%|██████████| 8/8 [00:04<00:00,  1.76it/s]\n",
            "Epoch 299 Training: 100%|██████████| 8/8 [00:04<00:00,  1.78it/s]\n",
            "Epoch 300 Training: 100%|██████████| 8/8 [00:04<00:00,  1.78it/s]\n"
          ]
        },
        {
          "output_type": "stream",
          "name": "stdout",
          "text": [
            "Epoch 300 || Train Loss: 0.21664307732135057\n"
          ]
        },
        {
          "output_type": "stream",
          "name": "stderr",
          "text": [
            "Epoch 300 Validation: 100%|██████████| 2/2 [00:00<00:00, 11.65it/s]\n"
          ]
        },
        {
          "output_type": "stream",
          "name": "stdout",
          "text": [
            "Epoch 300 || Eval Loss: 12.798410415649414\n"
          ]
        },
        {
          "output_type": "stream",
          "name": "stderr",
          "text": [
            "Epoch 301 Training: 100%|██████████| 8/8 [00:04<00:00,  1.76it/s]\n",
            "Epoch 302 Training: 100%|██████████| 8/8 [00:04<00:00,  1.80it/s]\n",
            "Epoch 303 Training: 100%|██████████| 8/8 [00:04<00:00,  1.79it/s]\n",
            "Epoch 304 Training: 100%|██████████| 8/8 [00:04<00:00,  1.69it/s]\n",
            "Epoch 305 Training: 100%|██████████| 8/8 [00:04<00:00,  1.81it/s]\n"
          ]
        },
        {
          "output_type": "stream",
          "name": "stdout",
          "text": [
            "Epoch 305 || Train Loss: 0.12242698483169079\n"
          ]
        },
        {
          "output_type": "stream",
          "name": "stderr",
          "text": [
            "Epoch 306 Training: 100%|██████████| 8/8 [00:04<00:00,  1.78it/s]\n",
            "Epoch 307 Training: 100%|██████████| 8/8 [00:04<00:00,  1.80it/s]\n",
            "Epoch 308 Training: 100%|██████████| 8/8 [00:04<00:00,  1.83it/s]\n",
            "Epoch 309 Training: 100%|██████████| 8/8 [00:04<00:00,  1.75it/s]\n",
            "Epoch 310 Training: 100%|██████████| 8/8 [00:04<00:00,  1.80it/s]\n"
          ]
        },
        {
          "output_type": "stream",
          "name": "stdout",
          "text": [
            "Epoch 310 || Train Loss: 0.17285441793501377\n"
          ]
        },
        {
          "output_type": "stream",
          "name": "stderr",
          "text": [
            "Epoch 310 Validation: 100%|██████████| 2/2 [00:00<00:00, 12.51it/s]\n"
          ]
        },
        {
          "output_type": "stream",
          "name": "stdout",
          "text": [
            "Epoch 310 || Eval Loss: 11.847817420959473\n"
          ]
        },
        {
          "output_type": "stream",
          "name": "stderr",
          "text": [
            "Epoch 311 Training: 100%|██████████| 8/8 [00:04<00:00,  1.79it/s]\n",
            "Epoch 312 Training: 100%|██████████| 8/8 [00:04<00:00,  1.70it/s]\n",
            "Epoch 313 Training: 100%|██████████| 8/8 [00:04<00:00,  1.84it/s]\n",
            "Epoch 314 Training: 100%|██████████| 8/8 [00:04<00:00,  1.75it/s]\n",
            "Epoch 315 Training: 100%|██████████| 8/8 [00:04<00:00,  1.77it/s]\n"
          ]
        },
        {
          "output_type": "stream",
          "name": "stdout",
          "text": [
            "Epoch 315 || Train Loss: 0.08432302065193653\n"
          ]
        },
        {
          "output_type": "stream",
          "name": "stderr",
          "text": [
            "Epoch 316 Training: 100%|██████████| 8/8 [00:04<00:00,  1.80it/s]\n",
            "Epoch 317 Training: 100%|██████████| 8/8 [00:04<00:00,  1.76it/s]\n",
            "Epoch 318 Training: 100%|██████████| 8/8 [00:04<00:00,  1.80it/s]\n",
            "Epoch 319 Training: 100%|██████████| 8/8 [00:04<00:00,  1.80it/s]\n",
            "Epoch 320 Training: 100%|██████████| 8/8 [00:04<00:00,  1.69it/s]\n"
          ]
        },
        {
          "output_type": "stream",
          "name": "stdout",
          "text": [
            "Epoch 320 || Train Loss: 0.19702535774558783\n"
          ]
        },
        {
          "output_type": "stream",
          "name": "stderr",
          "text": [
            "Epoch 320 Validation: 100%|██████████| 2/2 [00:00<00:00, 12.18it/s]\n"
          ]
        },
        {
          "output_type": "stream",
          "name": "stdout",
          "text": [
            "Epoch 320 || Eval Loss: 12.84272289276123\n"
          ]
        },
        {
          "output_type": "stream",
          "name": "stderr",
          "text": [
            "Epoch 321 Training: 100%|██████████| 8/8 [00:04<00:00,  1.68it/s]\n",
            "Epoch 322 Training: 100%|██████████| 8/8 [00:04<00:00,  1.74it/s]\n",
            "Epoch 323 Training: 100%|██████████| 8/8 [00:04<00:00,  1.81it/s]\n",
            "Epoch 324 Training: 100%|██████████| 8/8 [00:04<00:00,  1.82it/s]\n",
            "Epoch 325 Training: 100%|██████████| 8/8 [00:04<00:00,  1.63it/s]\n"
          ]
        },
        {
          "output_type": "stream",
          "name": "stdout",
          "text": [
            "Epoch 325 || Train Loss: 0.521665439940989\n"
          ]
        },
        {
          "output_type": "stream",
          "name": "stderr",
          "text": [
            "Epoch 326 Training: 100%|██████████| 8/8 [00:04<00:00,  1.67it/s]\n",
            "Epoch 327 Training: 100%|██████████| 8/8 [00:04<00:00,  1.76it/s]\n",
            "Epoch 328 Training: 100%|██████████| 8/8 [00:04<00:00,  1.77it/s]\n",
            "Epoch 329 Training: 100%|██████████| 8/8 [00:04<00:00,  1.70it/s]\n",
            "Epoch 330 Training: 100%|██████████| 8/8 [00:04<00:00,  1.65it/s]\n"
          ]
        },
        {
          "output_type": "stream",
          "name": "stdout",
          "text": [
            "Epoch 330 || Train Loss: 0.3374768001958728\n"
          ]
        },
        {
          "output_type": "stream",
          "name": "stderr",
          "text": [
            "Epoch 330 Validation: 100%|██████████| 2/2 [00:00<00:00,  3.75it/s]\n"
          ]
        },
        {
          "output_type": "stream",
          "name": "stdout",
          "text": [
            "Epoch 330 || Eval Loss: 18.204971313476562\n"
          ]
        },
        {
          "output_type": "stream",
          "name": "stderr",
          "text": [
            "Epoch 331 Training: 100%|██████████| 8/8 [00:04<00:00,  1.68it/s]\n",
            "Epoch 332 Training: 100%|██████████| 8/8 [00:04<00:00,  1.66it/s]\n",
            "Epoch 333 Training: 100%|██████████| 8/8 [00:04<00:00,  1.62it/s]\n",
            "Epoch 334 Training: 100%|██████████| 8/8 [00:04<00:00,  1.66it/s]\n",
            "Epoch 335 Training: 100%|██████████| 8/8 [00:04<00:00,  1.64it/s]\n"
          ]
        },
        {
          "output_type": "stream",
          "name": "stdout",
          "text": [
            "Epoch 335 || Train Loss: 0.1295125400647521\n"
          ]
        },
        {
          "output_type": "stream",
          "name": "stderr",
          "text": [
            "Epoch 336 Training: 100%|██████████| 8/8 [00:04<00:00,  1.69it/s]\n",
            "Epoch 337 Training: 100%|██████████| 8/8 [00:04<00:00,  1.62it/s]\n",
            "Epoch 338 Training: 100%|██████████| 8/8 [00:04<00:00,  1.62it/s]\n",
            "Epoch 339 Training: 100%|██████████| 8/8 [00:04<00:00,  1.69it/s]\n",
            "Epoch 340 Training: 100%|██████████| 8/8 [00:04<00:00,  1.63it/s]\n"
          ]
        },
        {
          "output_type": "stream",
          "name": "stdout",
          "text": [
            "Epoch 340 || Train Loss: 0.15318116126582026\n"
          ]
        },
        {
          "output_type": "stream",
          "name": "stderr",
          "text": [
            "Epoch 340 Validation: 100%|██████████| 2/2 [00:00<00:00,  3.68it/s]\n"
          ]
        },
        {
          "output_type": "stream",
          "name": "stdout",
          "text": [
            "Epoch 340 || Eval Loss: 10.253278732299805\n"
          ]
        },
        {
          "output_type": "stream",
          "name": "stderr",
          "text": [
            "Epoch 341 Training: 100%|██████████| 8/8 [00:04<00:00,  1.65it/s]\n",
            "Epoch 342 Training: 100%|██████████| 8/8 [00:04<00:00,  1.64it/s]\n",
            "Epoch 343 Training: 100%|██████████| 8/8 [00:04<00:00,  1.67it/s]\n",
            "Epoch 344 Training: 100%|██████████| 8/8 [00:04<00:00,  1.69it/s]\n",
            "Epoch 345 Training: 100%|██████████| 8/8 [00:04<00:00,  1.63it/s]\n"
          ]
        },
        {
          "output_type": "stream",
          "name": "stdout",
          "text": [
            "Epoch 345 || Train Loss: 0.21472257748246193\n"
          ]
        },
        {
          "output_type": "stream",
          "name": "stderr",
          "text": [
            "Epoch 346 Training: 100%|██████████| 8/8 [00:04<00:00,  1.67it/s]\n",
            "Epoch 347 Training: 100%|██████████| 8/8 [00:04<00:00,  1.64it/s]\n",
            "Epoch 348 Training: 100%|██████████| 8/8 [00:04<00:00,  1.67it/s]\n",
            "Epoch 349 Training: 100%|██████████| 8/8 [00:04<00:00,  1.69it/s]\n",
            "Epoch 350 Training: 100%|██████████| 8/8 [00:04<00:00,  1.63it/s]\n"
          ]
        },
        {
          "output_type": "stream",
          "name": "stdout",
          "text": [
            "Epoch 350 || Train Loss: 0.15383893810212612\n"
          ]
        },
        {
          "output_type": "stream",
          "name": "stderr",
          "text": [
            "Epoch 350 Validation: 100%|██████████| 2/2 [00:00<00:00,  3.69it/s]\n"
          ]
        },
        {
          "output_type": "stream",
          "name": "stdout",
          "text": [
            "Epoch 350 || Eval Loss: 8.922176837921143\n"
          ]
        },
        {
          "output_type": "stream",
          "name": "stderr",
          "text": [
            "Epoch 351 Training: 100%|██████████| 8/8 [00:04<00:00,  1.68it/s]\n",
            "Epoch 352 Training: 100%|██████████| 8/8 [00:04<00:00,  1.65it/s]\n",
            "Epoch 353 Training: 100%|██████████| 8/8 [00:04<00:00,  1.64it/s]\n",
            "Epoch 354 Training: 100%|██████████| 8/8 [00:04<00:00,  1.66it/s]\n",
            "Epoch 355 Training: 100%|██████████| 8/8 [00:04<00:00,  1.60it/s]\n"
          ]
        },
        {
          "output_type": "stream",
          "name": "stdout",
          "text": [
            "Epoch 355 || Train Loss: 0.12499963399022818\n"
          ]
        },
        {
          "output_type": "stream",
          "name": "stderr",
          "text": [
            "Epoch 356 Training: 100%|██████████| 8/8 [00:04<00:00,  1.68it/s]\n",
            "Epoch 357 Training: 100%|██████████| 8/8 [00:04<00:00,  1.64it/s]\n",
            "Epoch 358 Training: 100%|██████████| 8/8 [00:04<00:00,  1.68it/s]\n",
            "Epoch 359 Training: 100%|██████████| 8/8 [00:04<00:00,  1.67it/s]\n",
            "Epoch 360 Training: 100%|██████████| 8/8 [00:04<00:00,  1.62it/s]\n"
          ]
        },
        {
          "output_type": "stream",
          "name": "stdout",
          "text": [
            "Epoch 360 || Train Loss: 0.19168673176318407\n"
          ]
        },
        {
          "output_type": "stream",
          "name": "stderr",
          "text": [
            "Epoch 360 Validation: 100%|██████████| 2/2 [00:00<00:00,  3.76it/s]\n"
          ]
        },
        {
          "output_type": "stream",
          "name": "stdout",
          "text": [
            "Epoch 360 || Eval Loss: 11.64978837966919\n"
          ]
        },
        {
          "output_type": "stream",
          "name": "stderr",
          "text": [
            "Epoch 361 Training: 100%|██████████| 8/8 [00:04<00:00,  1.66it/s]\n",
            "Epoch 362 Training: 100%|██████████| 8/8 [00:04<00:00,  1.63it/s]\n",
            "Epoch 363 Training: 100%|██████████| 8/8 [00:04<00:00,  1.67it/s]\n",
            "Epoch 364 Training: 100%|██████████| 8/8 [00:04<00:00,  1.66it/s]\n",
            "Epoch 365 Training: 100%|██████████| 8/8 [00:04<00:00,  1.62it/s]\n"
          ]
        },
        {
          "output_type": "stream",
          "name": "stdout",
          "text": [
            "Epoch 365 || Train Loss: 0.10395966563373804\n"
          ]
        },
        {
          "output_type": "stream",
          "name": "stderr",
          "text": [
            "Epoch 366 Training: 100%|██████████| 8/8 [00:04<00:00,  1.69it/s]\n",
            "Epoch 367 Training: 100%|██████████| 8/8 [00:04<00:00,  1.63it/s]\n",
            "Epoch 368 Training: 100%|██████████| 8/8 [00:04<00:00,  1.66it/s]\n",
            "Epoch 369 Training: 100%|██████████| 8/8 [00:04<00:00,  1.66it/s]\n",
            "Epoch 370 Training: 100%|██████████| 8/8 [00:04<00:00,  1.61it/s]\n"
          ]
        },
        {
          "output_type": "stream",
          "name": "stdout",
          "text": [
            "Epoch 370 || Train Loss: 0.18053291365504265\n"
          ]
        },
        {
          "output_type": "stream",
          "name": "stderr",
          "text": [
            "Epoch 370 Validation: 100%|██████████| 2/2 [00:00<00:00,  3.67it/s]\n"
          ]
        },
        {
          "output_type": "stream",
          "name": "stdout",
          "text": [
            "Epoch 370 || Eval Loss: 10.315355777740479\n"
          ]
        },
        {
          "output_type": "stream",
          "name": "stderr",
          "text": [
            "Epoch 371 Training: 100%|██████████| 8/8 [00:04<00:00,  1.66it/s]\n",
            "Epoch 372 Training: 100%|██████████| 8/8 [00:04<00:00,  1.63it/s]\n",
            "Epoch 373 Training: 100%|██████████| 8/8 [00:04<00:00,  1.69it/s]\n",
            "Epoch 374 Training: 100%|██████████| 8/8 [00:04<00:00,  1.63it/s]\n",
            "Epoch 375 Training: 100%|██████████| 8/8 [00:04<00:00,  1.64it/s]\n"
          ]
        },
        {
          "output_type": "stream",
          "name": "stdout",
          "text": [
            "Epoch 375 || Train Loss: 0.10105582023970783\n"
          ]
        },
        {
          "output_type": "stream",
          "name": "stderr",
          "text": [
            "Epoch 376 Training: 100%|██████████| 8/8 [00:04<00:00,  1.67it/s]\n",
            "Epoch 377 Training: 100%|██████████| 8/8 [00:04<00:00,  1.64it/s]\n",
            "Epoch 378 Training: 100%|██████████| 8/8 [00:04<00:00,  1.68it/s]\n",
            "Epoch 379 Training: 100%|██████████| 8/8 [00:04<00:00,  1.64it/s]\n",
            "Epoch 380 Training: 100%|██████████| 8/8 [00:04<00:00,  1.66it/s]\n"
          ]
        },
        {
          "output_type": "stream",
          "name": "stdout",
          "text": [
            "Epoch 380 || Train Loss: 0.3588641230016947\n"
          ]
        },
        {
          "output_type": "stream",
          "name": "stderr",
          "text": [
            "Epoch 380 Validation: 100%|██████████| 2/2 [00:00<00:00,  3.75it/s]\n"
          ]
        },
        {
          "output_type": "stream",
          "name": "stdout",
          "text": [
            "Epoch 380 || Eval Loss: 15.965843677520752\n"
          ]
        },
        {
          "output_type": "stream",
          "name": "stderr",
          "text": [
            "Epoch 381 Training: 100%|██████████| 8/8 [00:04<00:00,  1.68it/s]\n",
            "Epoch 382 Training: 100%|██████████| 8/8 [00:04<00:00,  1.61it/s]\n",
            "Epoch 383 Training: 100%|██████████| 8/8 [00:04<00:00,  1.67it/s]\n",
            "Epoch 384 Training: 100%|██████████| 8/8 [00:04<00:00,  1.64it/s]\n",
            "Epoch 385 Training: 100%|██████████| 8/8 [00:04<00:00,  1.69it/s]\n"
          ]
        },
        {
          "output_type": "stream",
          "name": "stdout",
          "text": [
            "Epoch 385 || Train Loss: 0.1370435319840908\n"
          ]
        },
        {
          "output_type": "stream",
          "name": "stderr",
          "text": [
            "Epoch 386 Training: 100%|██████████| 8/8 [00:04<00:00,  1.67it/s]\n",
            "Epoch 387 Training: 100%|██████████| 8/8 [00:05<00:00,  1.60it/s]\n",
            "Epoch 388 Training: 100%|██████████| 8/8 [00:04<00:00,  1.68it/s]\n",
            "Epoch 389 Training: 100%|██████████| 8/8 [00:04<00:00,  1.65it/s]\n",
            "Epoch 390 Training: 100%|██████████| 8/8 [00:04<00:00,  1.65it/s]\n"
          ]
        },
        {
          "output_type": "stream",
          "name": "stdout",
          "text": [
            "Epoch 390 || Train Loss: 0.06671384396031499\n"
          ]
        },
        {
          "output_type": "stream",
          "name": "stderr",
          "text": [
            "Epoch 390 Validation: 100%|██████████| 2/2 [00:00<00:00,  3.75it/s]\n"
          ]
        },
        {
          "output_type": "stream",
          "name": "stdout",
          "text": [
            "Epoch 390 || Eval Loss: 11.877887725830078\n"
          ]
        },
        {
          "output_type": "stream",
          "name": "stderr",
          "text": [
            "Epoch 391 Training: 100%|██████████| 8/8 [00:04<00:00,  1.67it/s]\n",
            "Epoch 392 Training: 100%|██████████| 8/8 [00:04<00:00,  1.62it/s]\n",
            "Epoch 393 Training: 100%|██████████| 8/8 [00:04<00:00,  1.69it/s]\n",
            "Epoch 394 Training: 100%|██████████| 8/8 [00:04<00:00,  1.65it/s]\n",
            "Epoch 395 Training: 100%|██████████| 8/8 [00:04<00:00,  1.65it/s]\n"
          ]
        },
        {
          "output_type": "stream",
          "name": "stdout",
          "text": [
            "Epoch 395 || Train Loss: 0.07817935245111585\n"
          ]
        },
        {
          "output_type": "stream",
          "name": "stderr",
          "text": [
            "Epoch 396 Training: 100%|██████████| 8/8 [00:04<00:00,  1.67it/s]\n",
            "Epoch 397 Training: 100%|██████████| 8/8 [00:04<00:00,  1.60it/s]\n",
            "Epoch 398 Training: 100%|██████████| 8/8 [00:04<00:00,  1.66it/s]\n",
            "Epoch 399 Training: 100%|██████████| 8/8 [00:04<00:00,  1.63it/s]\n",
            "Epoch 400 Training: 100%|██████████| 8/8 [00:04<00:00,  1.68it/s]\n"
          ]
        },
        {
          "output_type": "stream",
          "name": "stdout",
          "text": [
            "Epoch 400 || Train Loss: 0.09332582633942366\n"
          ]
        },
        {
          "output_type": "stream",
          "name": "stderr",
          "text": [
            "Epoch 400 Validation: 100%|██████████| 2/2 [00:00<00:00,  3.79it/s]\n"
          ]
        },
        {
          "output_type": "stream",
          "name": "stdout",
          "text": [
            "Epoch 400 || Eval Loss: 11.638138771057129\n"
          ]
        },
        {
          "output_type": "stream",
          "name": "stderr",
          "text": [
            "Epoch 401 Training: 100%|██████████| 8/8 [00:04<00:00,  1.65it/s]\n",
            "Epoch 402 Training: 100%|██████████| 8/8 [00:04<00:00,  1.61it/s]\n",
            "Epoch 403 Training: 100%|██████████| 8/8 [00:04<00:00,  1.66it/s]\n",
            "Epoch 404 Training: 100%|██████████| 8/8 [00:04<00:00,  1.62it/s]\n",
            "Epoch 405 Training: 100%|██████████| 8/8 [00:04<00:00,  1.69it/s]\n"
          ]
        },
        {
          "output_type": "stream",
          "name": "stdout",
          "text": [
            "Epoch 405 || Train Loss: 0.09828204987570643\n"
          ]
        },
        {
          "output_type": "stream",
          "name": "stderr",
          "text": [
            "Epoch 406 Training: 100%|██████████| 8/8 [00:05<00:00,  1.54it/s]\n",
            "Epoch 407 Training: 100%|██████████| 8/8 [00:04<00:00,  1.78it/s]\n",
            "Epoch 408 Training: 100%|██████████| 8/8 [00:04<00:00,  1.79it/s]\n",
            "Epoch 409 Training: 100%|██████████| 8/8 [00:04<00:00,  1.75it/s]\n",
            "Epoch 410 Training: 100%|██████████| 8/8 [00:04<00:00,  1.82it/s]\n"
          ]
        },
        {
          "output_type": "stream",
          "name": "stdout",
          "text": [
            "Epoch 410 || Train Loss: 0.12465587351471186\n"
          ]
        },
        {
          "output_type": "stream",
          "name": "stderr",
          "text": [
            "Epoch 410 Validation: 100%|██████████| 2/2 [00:00<00:00, 12.01it/s]\n"
          ]
        },
        {
          "output_type": "stream",
          "name": "stdout",
          "text": [
            "Epoch 410 || Eval Loss: 11.394951343536377\n"
          ]
        },
        {
          "output_type": "stream",
          "name": "stderr",
          "text": [
            "Epoch 411 Training: 100%|██████████| 8/8 [00:04<00:00,  1.77it/s]\n",
            "Epoch 412 Training: 100%|██████████| 8/8 [00:04<00:00,  1.79it/s]\n",
            "Epoch 413 Training: 100%|██████████| 8/8 [00:04<00:00,  1.81it/s]\n",
            "Epoch 414 Training: 100%|██████████| 8/8 [00:04<00:00,  1.76it/s]\n",
            "Epoch 415 Training: 100%|██████████| 8/8 [00:04<00:00,  1.81it/s]\n"
          ]
        },
        {
          "output_type": "stream",
          "name": "stdout",
          "text": [
            "Epoch 415 || Train Loss: 0.0647653026971966\n"
          ]
        },
        {
          "output_type": "stream",
          "name": "stderr",
          "text": [
            "Epoch 416 Training: 100%|██████████| 8/8 [00:04<00:00,  1.83it/s]\n",
            "Epoch 417 Training: 100%|██████████| 8/8 [00:04<00:00,  1.77it/s]\n",
            "Epoch 418 Training: 100%|██████████| 8/8 [00:04<00:00,  1.83it/s]\n",
            "Epoch 419 Training: 100%|██████████| 8/8 [00:04<00:00,  1.82it/s]\n",
            "Epoch 420 Training: 100%|██████████| 8/8 [00:04<00:00,  1.75it/s]\n"
          ]
        },
        {
          "output_type": "stream",
          "name": "stdout",
          "text": [
            "Epoch 420 || Train Loss: 0.15757737681269646\n"
          ]
        },
        {
          "output_type": "stream",
          "name": "stderr",
          "text": [
            "Epoch 420 Validation: 100%|██████████| 2/2 [00:00<00:00, 11.88it/s]\n"
          ]
        },
        {
          "output_type": "stream",
          "name": "stdout",
          "text": [
            "Epoch 420 || Eval Loss: 12.851359844207764\n"
          ]
        },
        {
          "output_type": "stream",
          "name": "stderr",
          "text": [
            "Epoch 421 Training: 100%|██████████| 8/8 [00:04<00:00,  1.82it/s]\n",
            "Epoch 422 Training: 100%|██████████| 8/8 [00:04<00:00,  1.77it/s]\n",
            "Epoch 423 Training: 100%|██████████| 8/8 [00:04<00:00,  1.79it/s]\n",
            "Epoch 424 Training: 100%|██████████| 8/8 [00:04<00:00,  1.79it/s]\n",
            "Epoch 425 Training: 100%|██████████| 8/8 [00:04<00:00,  1.79it/s]\n"
          ]
        },
        {
          "output_type": "stream",
          "name": "stdout",
          "text": [
            "Epoch 425 || Train Loss: 0.6057913824915886\n"
          ]
        },
        {
          "output_type": "stream",
          "name": "stderr",
          "text": [
            "Epoch 426 Training: 100%|██████████| 8/8 [00:04<00:00,  1.79it/s]\n",
            "Epoch 427 Training: 100%|██████████| 8/8 [00:04<00:00,  1.80it/s]\n",
            "Epoch 428 Training: 100%|██████████| 8/8 [00:04<00:00,  1.75it/s]\n",
            "Epoch 429 Training: 100%|██████████| 8/8 [00:04<00:00,  1.79it/s]\n",
            "Epoch 430 Training: 100%|██████████| 8/8 [00:04<00:00,  1.80it/s]\n"
          ]
        },
        {
          "output_type": "stream",
          "name": "stdout",
          "text": [
            "Epoch 430 || Train Loss: 0.1311011090874672\n"
          ]
        },
        {
          "output_type": "stream",
          "name": "stderr",
          "text": [
            "Epoch 430 Validation: 100%|██████████| 2/2 [00:00<00:00,  8.62it/s]\n"
          ]
        },
        {
          "output_type": "stream",
          "name": "stdout",
          "text": [
            "Epoch 430 || Eval Loss: 9.12513017654419\n"
          ]
        },
        {
          "output_type": "stream",
          "name": "stderr",
          "text": [
            "Epoch 431 Training: 100%|██████████| 8/8 [00:04<00:00,  1.78it/s]\n",
            "Epoch 432 Training: 100%|██████████| 8/8 [00:04<00:00,  1.80it/s]\n",
            "Epoch 433 Training: 100%|██████████| 8/8 [00:04<00:00,  1.78it/s]\n",
            "Epoch 434 Training: 100%|██████████| 8/8 [00:04<00:00,  1.81it/s]\n",
            "Epoch 435 Training: 100%|██████████| 8/8 [00:04<00:00,  1.81it/s]\n"
          ]
        },
        {
          "output_type": "stream",
          "name": "stdout",
          "text": [
            "Epoch 435 || Train Loss: 0.11191210383549333\n"
          ]
        },
        {
          "output_type": "stream",
          "name": "stderr",
          "text": [
            "Epoch 436 Training: 100%|██████████| 8/8 [00:04<00:00,  1.75it/s]\n",
            "Epoch 437 Training: 100%|██████████| 8/8 [00:04<00:00,  1.81it/s]\n",
            "Epoch 438 Training: 100%|██████████| 8/8 [00:04<00:00,  1.78it/s]\n",
            "Epoch 439 Training: 100%|██████████| 8/8 [00:04<00:00,  1.77it/s]\n",
            "Epoch 440 Training: 100%|██████████| 8/8 [00:04<00:00,  1.82it/s]\n"
          ]
        },
        {
          "output_type": "stream",
          "name": "stdout",
          "text": [
            "Epoch 440 || Train Loss: 0.09607407450675964\n"
          ]
        },
        {
          "output_type": "stream",
          "name": "stderr",
          "text": [
            "Epoch 440 Validation: 100%|██████████| 2/2 [00:00<00:00, 11.76it/s]\n"
          ]
        },
        {
          "output_type": "stream",
          "name": "stdout",
          "text": [
            "Epoch 440 || Eval Loss: 16.685769081115723\n"
          ]
        },
        {
          "output_type": "stream",
          "name": "stderr",
          "text": [
            "Epoch 441 Training: 100%|██████████| 8/8 [00:04<00:00,  1.79it/s]\n",
            "Epoch 442 Training: 100%|██████████| 8/8 [00:04<00:00,  1.81it/s]\n",
            "Epoch 443 Training: 100%|██████████| 8/8 [00:04<00:00,  1.82it/s]\n",
            "Epoch 444 Training: 100%|██████████| 8/8 [00:04<00:00,  1.74it/s]\n",
            "Epoch 445 Training: 100%|██████████| 8/8 [00:04<00:00,  1.81it/s]\n"
          ]
        },
        {
          "output_type": "stream",
          "name": "stdout",
          "text": [
            "Epoch 445 || Train Loss: 0.09297345601953566\n"
          ]
        },
        {
          "output_type": "stream",
          "name": "stderr",
          "text": [
            "Epoch 446 Training: 100%|██████████| 8/8 [00:04<00:00,  1.82it/s]\n",
            "Epoch 447 Training: 100%|██████████| 8/8 [00:04<00:00,  1.74it/s]\n",
            "Epoch 448 Training: 100%|██████████| 8/8 [00:04<00:00,  1.81it/s]\n",
            "Epoch 449 Training: 100%|██████████| 8/8 [00:04<00:00,  1.78it/s]\n",
            "Epoch 450 Training: 100%|██████████| 8/8 [00:04<00:00,  1.78it/s]\n"
          ]
        },
        {
          "output_type": "stream",
          "name": "stdout",
          "text": [
            "Epoch 450 || Train Loss: 0.07553894515149295\n"
          ]
        },
        {
          "output_type": "stream",
          "name": "stderr",
          "text": [
            "Epoch 450 Validation: 100%|██████████| 2/2 [00:00<00:00, 12.07it/s]\n"
          ]
        },
        {
          "output_type": "stream",
          "name": "stdout",
          "text": [
            "Epoch 450 || Eval Loss: 14.688467025756836\n"
          ]
        },
        {
          "output_type": "stream",
          "name": "stderr",
          "text": [
            "Epoch 451 Training: 100%|██████████| 8/8 [00:04<00:00,  1.80it/s]\n",
            "Epoch 452 Training: 100%|██████████| 8/8 [00:04<00:00,  1.77it/s]\n",
            "Epoch 453 Training: 100%|██████████| 8/8 [00:04<00:00,  1.82it/s]\n",
            "Epoch 454 Training: 100%|██████████| 8/8 [00:04<00:00,  1.80it/s]\n",
            "Epoch 455 Training: 100%|██████████| 8/8 [00:04<00:00,  1.77it/s]\n"
          ]
        },
        {
          "output_type": "stream",
          "name": "stdout",
          "text": [
            "Epoch 455 || Train Loss: 0.08708840375766158\n"
          ]
        },
        {
          "output_type": "stream",
          "name": "stderr",
          "text": [
            "Epoch 456 Training: 100%|██████████| 8/8 [00:04<00:00,  1.82it/s]\n",
            "Epoch 457 Training: 100%|██████████| 8/8 [00:04<00:00,  1.77it/s]\n",
            "Epoch 458 Training: 100%|██████████| 8/8 [00:04<00:00,  1.77it/s]\n",
            "Epoch 459 Training: 100%|██████████| 8/8 [00:04<00:00,  1.81it/s]\n",
            "Epoch 460 Training: 100%|██████████| 8/8 [00:04<00:00,  1.75it/s]\n"
          ]
        },
        {
          "output_type": "stream",
          "name": "stdout",
          "text": [
            "Epoch 460 || Train Loss: 0.125742063857615\n"
          ]
        },
        {
          "output_type": "stream",
          "name": "stderr",
          "text": [
            "Epoch 460 Validation: 100%|██████████| 2/2 [00:00<00:00, 11.73it/s]\n"
          ]
        },
        {
          "output_type": "stream",
          "name": "stdout",
          "text": [
            "Epoch 460 || Eval Loss: 14.48451566696167\n"
          ]
        },
        {
          "output_type": "stream",
          "name": "stderr",
          "text": [
            "Epoch 461 Training: 100%|██████████| 8/8 [00:04<00:00,  1.81it/s]\n",
            "Epoch 462 Training: 100%|██████████| 8/8 [00:04<00:00,  1.82it/s]\n",
            "Epoch 463 Training: 100%|██████████| 8/8 [00:04<00:00,  1.74it/s]\n",
            "Epoch 464 Training: 100%|██████████| 8/8 [00:04<00:00,  1.81it/s]\n",
            "Epoch 465 Training: 100%|██████████| 8/8 [00:04<00:00,  1.77it/s]\n"
          ]
        },
        {
          "output_type": "stream",
          "name": "stdout",
          "text": [
            "Epoch 465 || Train Loss: 0.08405272848904133\n"
          ]
        },
        {
          "output_type": "stream",
          "name": "stderr",
          "text": [
            "Epoch 466 Training: 100%|██████████| 8/8 [00:04<00:00,  1.77it/s]\n",
            "Epoch 467 Training: 100%|██████████| 8/8 [00:04<00:00,  1.80it/s]\n",
            "Epoch 468 Training: 100%|██████████| 8/8 [00:04<00:00,  1.78it/s]\n",
            "Epoch 469 Training: 100%|██████████| 8/8 [00:04<00:00,  1.79it/s]\n",
            "Epoch 470 Training: 100%|██████████| 8/8 [00:04<00:00,  1.82it/s]\n"
          ]
        },
        {
          "output_type": "stream",
          "name": "stdout",
          "text": [
            "Epoch 470 || Train Loss: 0.14570905920118093\n"
          ]
        },
        {
          "output_type": "stream",
          "name": "stderr",
          "text": [
            "Epoch 470 Validation: 100%|██████████| 2/2 [00:00<00:00, 11.84it/s]\n"
          ]
        },
        {
          "output_type": "stream",
          "name": "stdout",
          "text": [
            "Epoch 470 || Eval Loss: 10.628440856933594\n"
          ]
        },
        {
          "output_type": "stream",
          "name": "stderr",
          "text": [
            "Epoch 471 Training: 100%|██████████| 8/8 [00:04<00:00,  1.73it/s]\n",
            "Epoch 472 Training: 100%|██████████| 8/8 [00:04<00:00,  1.82it/s]\n",
            "Epoch 473 Training: 100%|██████████| 8/8 [00:04<00:00,  1.79it/s]\n",
            "Epoch 474 Training: 100%|██████████| 8/8 [00:04<00:00,  1.80it/s]\n",
            "Epoch 475 Training: 100%|██████████| 8/8 [00:04<00:00,  1.80it/s]\n"
          ]
        },
        {
          "output_type": "stream",
          "name": "stdout",
          "text": [
            "Epoch 475 || Train Loss: 0.07018751185387373\n"
          ]
        },
        {
          "output_type": "stream",
          "name": "stderr",
          "text": [
            "Epoch 476 Training: 100%|██████████| 8/8 [00:04<00:00,  1.76it/s]\n",
            "Epoch 477 Training: 100%|██████████| 8/8 [00:04<00:00,  1.83it/s]\n",
            "Epoch 478 Training: 100%|██████████| 8/8 [00:04<00:00,  1.81it/s]\n",
            "Epoch 479 Training: 100%|██████████| 8/8 [00:04<00:00,  1.75it/s]\n",
            "Epoch 480 Training: 100%|██████████| 8/8 [00:04<00:00,  1.82it/s]\n"
          ]
        },
        {
          "output_type": "stream",
          "name": "stdout",
          "text": [
            "Epoch 480 || Train Loss: 0.10002629179507494\n"
          ]
        },
        {
          "output_type": "stream",
          "name": "stderr",
          "text": [
            "Epoch 480 Validation: 100%|██████████| 2/2 [00:00<00:00, 11.68it/s]\n"
          ]
        },
        {
          "output_type": "stream",
          "name": "stdout",
          "text": [
            "Epoch 480 || Eval Loss: 12.209828853607178\n"
          ]
        },
        {
          "output_type": "stream",
          "name": "stderr",
          "text": [
            "Epoch 481 Training: 100%|██████████| 8/8 [00:04<00:00,  1.79it/s]\n",
            "Epoch 482 Training: 100%|██████████| 8/8 [00:04<00:00,  1.78it/s]\n",
            "Epoch 483 Training: 100%|██████████| 8/8 [00:04<00:00,  1.82it/s]\n",
            "Epoch 484 Training: 100%|██████████| 8/8 [00:04<00:00,  1.78it/s]\n",
            "Epoch 485 Training: 100%|██████████| 8/8 [00:04<00:00,  1.79it/s]\n"
          ]
        },
        {
          "output_type": "stream",
          "name": "stdout",
          "text": [
            "Epoch 485 || Train Loss: 0.08225972671061754\n"
          ]
        },
        {
          "output_type": "stream",
          "name": "stderr",
          "text": [
            "Epoch 486 Training: 100%|██████████| 8/8 [00:04<00:00,  1.81it/s]\n",
            "Epoch 487 Training: 100%|██████████| 8/8 [00:04<00:00,  1.76it/s]\n",
            "Epoch 488 Training: 100%|██████████| 8/8 [00:04<00:00,  1.82it/s]\n",
            "Epoch 489 Training: 100%|██████████| 8/8 [00:04<00:00,  1.82it/s]\n",
            "Epoch 490 Training: 100%|██████████| 8/8 [00:04<00:00,  1.77it/s]\n"
          ]
        },
        {
          "output_type": "stream",
          "name": "stdout",
          "text": [
            "Epoch 490 || Train Loss: 0.12462368607521057\n"
          ]
        },
        {
          "output_type": "stream",
          "name": "stderr",
          "text": [
            "Epoch 490 Validation: 100%|██████████| 2/2 [00:00<00:00, 12.20it/s]\n"
          ]
        },
        {
          "output_type": "stream",
          "name": "stdout",
          "text": [
            "Epoch 490 || Eval Loss: 13.996877670288086\n"
          ]
        },
        {
          "output_type": "stream",
          "name": "stderr",
          "text": [
            "Epoch 491 Training: 100%|██████████| 8/8 [00:04<00:00,  1.80it/s]\n",
            "Epoch 492 Training: 100%|██████████| 8/8 [00:04<00:00,  1.78it/s]\n",
            "Epoch 493 Training: 100%|██████████| 8/8 [00:04<00:00,  1.78it/s]\n",
            "Epoch 494 Training: 100%|██████████| 8/8 [00:04<00:00,  1.79it/s]\n",
            "Epoch 495 Training: 100%|██████████| 8/8 [00:04<00:00,  1.77it/s]\n"
          ]
        },
        {
          "output_type": "stream",
          "name": "stdout",
          "text": [
            "Epoch 495 || Train Loss: 0.05168767645955086\n"
          ]
        },
        {
          "output_type": "stream",
          "name": "stderr",
          "text": [
            "Epoch 496 Training: 100%|██████████| 8/8 [00:04<00:00,  1.81it/s]\n",
            "Epoch 497 Training: 100%|██████████| 8/8 [00:04<00:00,  1.82it/s]\n",
            "Epoch 498 Training: 100%|██████████| 8/8 [00:04<00:00,  1.74it/s]\n",
            "Epoch 499 Training: 100%|██████████| 8/8 [00:04<00:00,  1.82it/s]\n",
            "Epoch 500 Training: 100%|██████████| 8/8 [00:04<00:00,  1.77it/s]\n"
          ]
        },
        {
          "output_type": "stream",
          "name": "stdout",
          "text": [
            "Epoch 500 || Train Loss: 0.10426483023911715\n"
          ]
        },
        {
          "output_type": "stream",
          "name": "stderr",
          "text": [
            "Epoch 500 Validation: 100%|██████████| 2/2 [00:00<00:00,  8.62it/s]\n"
          ]
        },
        {
          "output_type": "stream",
          "name": "stdout",
          "text": [
            "Epoch 500 || Eval Loss: 14.35563325881958\n"
          ]
        },
        {
          "output_type": "stream",
          "name": "stderr",
          "text": [
            "Epoch 501 Training: 100%|██████████| 8/8 [00:04<00:00,  1.76it/s]\n",
            "Epoch 502 Training: 100%|██████████| 8/8 [00:04<00:00,  1.81it/s]\n",
            "Epoch 503 Training: 100%|██████████| 8/8 [00:04<00:00,  1.75it/s]\n",
            "Epoch 504 Training: 100%|██████████| 8/8 [00:04<00:00,  1.79it/s]\n",
            "Epoch 505 Training: 100%|██████████| 8/8 [00:04<00:00,  1.81it/s]\n"
          ]
        },
        {
          "output_type": "stream",
          "name": "stdout",
          "text": [
            "Epoch 505 || Train Loss: 0.10105626727454364\n"
          ]
        },
        {
          "output_type": "stream",
          "name": "stderr",
          "text": [
            "Epoch 506 Training: 100%|██████████| 8/8 [00:04<00:00,  1.77it/s]\n",
            "Epoch 507 Training: 100%|██████████| 8/8 [00:04<00:00,  1.81it/s]\n",
            "Epoch 508 Training: 100%|██████████| 8/8 [00:04<00:00,  1.81it/s]\n",
            "Epoch 509 Training: 100%|██████████| 8/8 [00:04<00:00,  1.76it/s]\n",
            "Epoch 510 Training: 100%|██████████| 8/8 [00:04<00:00,  1.78it/s]\n"
          ]
        },
        {
          "output_type": "stream",
          "name": "stdout",
          "text": [
            "Epoch 510 || Train Loss: 0.08829755149781704\n"
          ]
        },
        {
          "output_type": "stream",
          "name": "stderr",
          "text": [
            "Epoch 510 Validation: 100%|██████████| 2/2 [00:00<00:00, 11.35it/s]\n"
          ]
        },
        {
          "output_type": "stream",
          "name": "stdout",
          "text": [
            "Epoch 510 || Eval Loss: 13.051002025604248\n"
          ]
        },
        {
          "output_type": "stream",
          "name": "stderr",
          "text": [
            "Epoch 511 Training: 100%|██████████| 8/8 [00:04<00:00,  1.77it/s]\n",
            "Epoch 512 Training: 100%|██████████| 8/8 [00:04<00:00,  1.81it/s]\n",
            "Epoch 513 Training: 100%|██████████| 8/8 [00:04<00:00,  1.82it/s]\n",
            "Epoch 514 Training: 100%|██████████| 8/8 [00:04<00:00,  1.75it/s]\n",
            "Epoch 515 Training: 100%|██████████| 8/8 [00:04<00:00,  1.81it/s]\n"
          ]
        },
        {
          "output_type": "stream",
          "name": "stdout",
          "text": [
            "Epoch 515 || Train Loss: 0.06454507308080792\n"
          ]
        },
        {
          "output_type": "stream",
          "name": "stderr",
          "text": [
            "Epoch 516 Training: 100%|██████████| 8/8 [00:04<00:00,  1.79it/s]\n",
            "Epoch 517 Training: 100%|██████████| 8/8 [00:04<00:00,  1.75it/s]\n",
            "Epoch 518 Training: 100%|██████████| 8/8 [00:04<00:00,  1.82it/s]\n",
            "Epoch 519 Training: 100%|██████████| 8/8 [00:04<00:00,  1.76it/s]\n",
            "Epoch 520 Training: 100%|██████████| 8/8 [00:04<00:00,  1.79it/s]\n"
          ]
        },
        {
          "output_type": "stream",
          "name": "stdout",
          "text": [
            "Epoch 520 || Train Loss: 0.28751786798238754\n"
          ]
        },
        {
          "output_type": "stream",
          "name": "stderr",
          "text": [
            "Epoch 520 Validation: 100%|██████████| 2/2 [00:00<00:00, 11.68it/s]\n"
          ]
        },
        {
          "output_type": "stream",
          "name": "stdout",
          "text": [
            "Epoch 520 || Eval Loss: 17.324920654296875\n"
          ]
        },
        {
          "output_type": "stream",
          "name": "stderr",
          "text": [
            "Epoch 521 Training: 100%|██████████| 8/8 [00:04<00:00,  1.80it/s]\n",
            "Epoch 522 Training: 100%|██████████| 8/8 [00:04<00:00,  1.76it/s]\n",
            "Epoch 523 Training: 100%|██████████| 8/8 [00:04<00:00,  1.81it/s]\n",
            "Epoch 524 Training: 100%|██████████| 8/8 [00:04<00:00,  1.84it/s]\n",
            "Epoch 525 Training: 100%|██████████| 8/8 [00:04<00:00,  1.77it/s]\n"
          ]
        },
        {
          "output_type": "stream",
          "name": "stdout",
          "text": [
            "Epoch 525 || Train Loss: 0.08278135769069195\n"
          ]
        },
        {
          "output_type": "stream",
          "name": "stderr",
          "text": [
            "Epoch 526 Training: 100%|██████████| 8/8 [00:04<00:00,  1.81it/s]\n",
            "Epoch 527 Training: 100%|██████████| 8/8 [00:04<00:00,  1.77it/s]\n",
            "Epoch 528 Training: 100%|██████████| 8/8 [00:04<00:00,  1.78it/s]\n",
            "Epoch 529 Training: 100%|██████████| 8/8 [00:04<00:00,  1.80it/s]\n",
            "Epoch 530 Training: 100%|██████████| 8/8 [00:04<00:00,  1.77it/s]\n"
          ]
        },
        {
          "output_type": "stream",
          "name": "stdout",
          "text": [
            "Epoch 530 || Train Loss: 0.04720426583662629\n"
          ]
        },
        {
          "output_type": "stream",
          "name": "stderr",
          "text": [
            "Epoch 530 Validation: 100%|██████████| 2/2 [00:00<00:00, 11.71it/s]\n"
          ]
        },
        {
          "output_type": "stream",
          "name": "stdout",
          "text": [
            "Epoch 530 || Eval Loss: 14.207935333251953\n"
          ]
        },
        {
          "output_type": "stream",
          "name": "stderr",
          "text": [
            "Epoch 531 Training: 100%|██████████| 8/8 [00:04<00:00,  1.81it/s]\n",
            "Epoch 532 Training: 100%|██████████| 8/8 [00:04<00:00,  1.80it/s]\n",
            "Epoch 533 Training: 100%|██████████| 8/8 [00:04<00:00,  1.76it/s]\n",
            "Epoch 534 Training: 100%|██████████| 8/8 [00:04<00:00,  1.80it/s]\n",
            "Epoch 535 Training: 100%|██████████| 8/8 [00:04<00:00,  1.79it/s]\n"
          ]
        },
        {
          "output_type": "stream",
          "name": "stdout",
          "text": [
            "Epoch 535 || Train Loss: 0.11943683866411448\n"
          ]
        },
        {
          "output_type": "stream",
          "name": "stderr",
          "text": [
            "Epoch 536 Training: 100%|██████████| 8/8 [00:04<00:00,  1.76it/s]\n",
            "Epoch 537 Training: 100%|██████████| 8/8 [00:04<00:00,  1.81it/s]\n",
            "Epoch 538 Training: 100%|██████████| 8/8 [00:04<00:00,  1.76it/s]\n",
            "Epoch 539 Training: 100%|██████████| 8/8 [00:04<00:00,  1.81it/s]\n",
            "Epoch 540 Training: 100%|██████████| 8/8 [00:04<00:00,  1.81it/s]\n"
          ]
        },
        {
          "output_type": "stream",
          "name": "stdout",
          "text": [
            "Epoch 540 || Train Loss: 0.057255905820056796\n"
          ]
        },
        {
          "output_type": "stream",
          "name": "stderr",
          "text": [
            "Epoch 540 Validation: 100%|██████████| 2/2 [00:00<00:00, 11.74it/s]\n"
          ]
        },
        {
          "output_type": "stream",
          "name": "stdout",
          "text": [
            "Epoch 540 || Eval Loss: 13.515233993530273\n"
          ]
        },
        {
          "output_type": "stream",
          "name": "stderr",
          "text": [
            "Epoch 541 Training: 100%|██████████| 8/8 [00:04<00:00,  1.76it/s]\n",
            "Epoch 542 Training: 100%|██████████| 8/8 [00:04<00:00,  1.81it/s]\n",
            "Epoch 543 Training: 100%|██████████| 8/8 [00:04<00:00,  1.78it/s]\n",
            "Epoch 544 Training: 100%|██████████| 8/8 [00:04<00:00,  1.76it/s]\n",
            "Epoch 545 Training: 100%|██████████| 8/8 [00:04<00:00,  1.81it/s]\n"
          ]
        },
        {
          "output_type": "stream",
          "name": "stdout",
          "text": [
            "Epoch 545 || Train Loss: 0.058432379039004445\n"
          ]
        },
        {
          "output_type": "stream",
          "name": "stderr",
          "text": [
            "Epoch 546 Training: 100%|██████████| 8/8 [00:04<00:00,  1.76it/s]\n",
            "Epoch 547 Training: 100%|██████████| 8/8 [00:04<00:00,  1.78it/s]\n",
            "Epoch 548 Training: 100%|██████████| 8/8 [00:04<00:00,  1.82it/s]\n",
            "Epoch 549 Training: 100%|██████████| 8/8 [00:04<00:00,  1.77it/s]\n",
            "Epoch 550 Training: 100%|██████████| 8/8 [00:04<00:00,  1.79it/s]\n"
          ]
        },
        {
          "output_type": "stream",
          "name": "stdout",
          "text": [
            "Epoch 550 || Train Loss: 0.09865010622888803\n"
          ]
        },
        {
          "output_type": "stream",
          "name": "stderr",
          "text": [
            "Epoch 550 Validation: 100%|██████████| 2/2 [00:00<00:00, 11.21it/s]\n"
          ]
        },
        {
          "output_type": "stream",
          "name": "stdout",
          "text": [
            "Epoch 550 || Eval Loss: 13.963732242584229\n"
          ]
        },
        {
          "output_type": "stream",
          "name": "stderr",
          "text": [
            "Epoch 551 Training: 100%|██████████| 8/8 [00:04<00:00,  1.79it/s]\n",
            "Epoch 552 Training: 100%|██████████| 8/8 [00:04<00:00,  1.75it/s]\n",
            "Epoch 553 Training: 100%|██████████| 8/8 [00:04<00:00,  1.83it/s]\n",
            "Epoch 554 Training: 100%|██████████| 8/8 [00:04<00:00,  1.79it/s]\n",
            "Epoch 555 Training: 100%|██████████| 8/8 [00:04<00:00,  1.79it/s]\n"
          ]
        },
        {
          "output_type": "stream",
          "name": "stdout",
          "text": [
            "Epoch 555 || Train Loss: 0.08665631664916873\n"
          ]
        },
        {
          "output_type": "stream",
          "name": "stderr",
          "text": [
            "Epoch 556 Training: 100%|██████████| 8/8 [00:04<00:00,  1.80it/s]\n",
            "Epoch 557 Training: 100%|██████████| 8/8 [00:04<00:00,  1.75it/s]\n",
            "Epoch 558 Training: 100%|██████████| 8/8 [00:04<00:00,  1.80it/s]\n",
            "Epoch 559 Training: 100%|██████████| 8/8 [00:04<00:00,  1.78it/s]\n",
            "Epoch 560 Training: 100%|██████████| 8/8 [00:04<00:00,  1.76it/s]\n"
          ]
        },
        {
          "output_type": "stream",
          "name": "stdout",
          "text": [
            "Epoch 560 || Train Loss: 0.07557206740602851\n"
          ]
        },
        {
          "output_type": "stream",
          "name": "stderr",
          "text": [
            "Epoch 560 Validation: 100%|██████████| 2/2 [00:00<00:00, 11.04it/s]\n"
          ]
        },
        {
          "output_type": "stream",
          "name": "stdout",
          "text": [
            "Epoch 560 || Eval Loss: 15.447678089141846\n"
          ]
        },
        {
          "output_type": "stream",
          "name": "stderr",
          "text": [
            "Epoch 561 Training: 100%|██████████| 8/8 [00:04<00:00,  1.78it/s]\n",
            "Epoch 562 Training: 100%|██████████| 8/8 [00:04<00:00,  1.76it/s]\n",
            "Epoch 563 Training: 100%|██████████| 8/8 [00:04<00:00,  1.78it/s]\n",
            "Epoch 564 Training: 100%|██████████| 8/8 [00:04<00:00,  1.81it/s]\n",
            "Epoch 565 Training: 100%|██████████| 8/8 [00:04<00:00,  1.76it/s]\n"
          ]
        },
        {
          "output_type": "stream",
          "name": "stdout",
          "text": [
            "Epoch 565 || Train Loss: 0.10282921232283115\n"
          ]
        },
        {
          "output_type": "stream",
          "name": "stderr",
          "text": [
            "Epoch 566 Training: 100%|██████████| 8/8 [00:04<00:00,  1.81it/s]\n",
            "Epoch 567 Training: 100%|██████████| 8/8 [00:04<00:00,  1.82it/s]\n",
            "Epoch 568 Training: 100%|██████████| 8/8 [00:04<00:00,  1.78it/s]\n",
            "Epoch 569 Training: 100%|██████████| 8/8 [00:04<00:00,  1.79it/s]\n",
            "Epoch 570 Training: 100%|██████████| 8/8 [00:04<00:00,  1.78it/s]\n"
          ]
        },
        {
          "output_type": "stream",
          "name": "stdout",
          "text": [
            "Epoch 570 || Train Loss: 0.052887768018990755\n"
          ]
        },
        {
          "output_type": "stream",
          "name": "stderr",
          "text": [
            "Epoch 570 Validation: 100%|██████████| 2/2 [00:00<00:00,  8.00it/s]\n"
          ]
        },
        {
          "output_type": "stream",
          "name": "stdout",
          "text": [
            "Epoch 570 || Eval Loss: 17.779417037963867\n"
          ]
        },
        {
          "output_type": "stream",
          "name": "stderr",
          "text": [
            "Epoch 571 Training: 100%|██████████| 8/8 [00:04<00:00,  1.76it/s]\n",
            "Epoch 572 Training: 100%|██████████| 8/8 [00:04<00:00,  1.83it/s]\n",
            "Epoch 573 Training: 100%|██████████| 8/8 [00:04<00:00,  1.75it/s]\n",
            "Epoch 574 Training: 100%|██████████| 8/8 [00:04<00:00,  1.80it/s]\n",
            "Epoch 575 Training: 100%|██████████| 8/8 [00:04<00:00,  1.81it/s]\n"
          ]
        },
        {
          "output_type": "stream",
          "name": "stdout",
          "text": [
            "Epoch 575 || Train Loss: 0.0856101387180388\n"
          ]
        },
        {
          "output_type": "stream",
          "name": "stderr",
          "text": [
            "Epoch 576 Training: 100%|██████████| 8/8 [00:04<00:00,  1.75it/s]\n",
            "Epoch 577 Training: 100%|██████████| 8/8 [00:04<00:00,  1.81it/s]\n",
            "Epoch 578 Training: 100%|██████████| 8/8 [00:04<00:00,  1.80it/s]\n",
            "Epoch 579 Training: 100%|██████████| 8/8 [00:04<00:00,  1.75it/s]\n",
            "Epoch 580 Training: 100%|██████████| 8/8 [00:04<00:00,  1.81it/s]\n"
          ]
        },
        {
          "output_type": "stream",
          "name": "stdout",
          "text": [
            "Epoch 580 || Train Loss: 0.09857098525390029\n"
          ]
        },
        {
          "output_type": "stream",
          "name": "stderr",
          "text": [
            "Epoch 580 Validation: 100%|██████████| 2/2 [00:00<00:00, 11.56it/s]\n"
          ]
        },
        {
          "output_type": "stream",
          "name": "stdout",
          "text": [
            "Epoch 580 || Eval Loss: 15.956738471984863\n"
          ]
        },
        {
          "output_type": "stream",
          "name": "stderr",
          "text": [
            "Epoch 581 Training: 100%|██████████| 8/8 [00:04<00:00,  1.76it/s]\n",
            "Epoch 582 Training: 100%|██████████| 8/8 [00:04<00:00,  1.81it/s]\n",
            "Epoch 583 Training: 100%|██████████| 8/8 [00:04<00:00,  1.79it/s]\n",
            "Epoch 584 Training: 100%|██████████| 8/8 [00:04<00:00,  1.75it/s]\n",
            "Epoch 585 Training: 100%|██████████| 8/8 [00:04<00:00,  1.79it/s]\n"
          ]
        },
        {
          "output_type": "stream",
          "name": "stdout",
          "text": [
            "Epoch 585 || Train Loss: 0.15684940107166767\n"
          ]
        },
        {
          "output_type": "stream",
          "name": "stderr",
          "text": [
            "Epoch 586 Training: 100%|██████████| 8/8 [00:04<00:00,  1.78it/s]\n",
            "Epoch 587 Training: 100%|██████████| 8/8 [00:04<00:00,  1.72it/s]\n",
            "Epoch 588 Training: 100%|██████████| 8/8 [00:04<00:00,  1.81it/s]\n",
            "Epoch 589 Training: 100%|██████████| 8/8 [00:04<00:00,  1.77it/s]\n",
            "Epoch 590 Training: 100%|██████████| 8/8 [00:04<00:00,  1.79it/s]\n"
          ]
        },
        {
          "output_type": "stream",
          "name": "stdout",
          "text": [
            "Epoch 590 || Train Loss: 0.10014076111838222\n"
          ]
        },
        {
          "output_type": "stream",
          "name": "stderr",
          "text": [
            "Epoch 590 Validation: 100%|██████████| 2/2 [00:00<00:00, 11.34it/s]\n"
          ]
        },
        {
          "output_type": "stream",
          "name": "stdout",
          "text": [
            "Epoch 590 || Eval Loss: 13.315267562866211\n"
          ]
        },
        {
          "output_type": "stream",
          "name": "stderr",
          "text": [
            "Epoch 591 Training: 100%|██████████| 8/8 [00:04<00:00,  1.82it/s]\n",
            "Epoch 592 Training: 100%|██████████| 8/8 [00:04<00:00,  1.75it/s]\n",
            "Epoch 593 Training: 100%|██████████| 8/8 [00:04<00:00,  1.82it/s]\n",
            "Epoch 594 Training: 100%|██████████| 8/8 [00:04<00:00,  1.81it/s]\n",
            "Epoch 595 Training: 100%|██████████| 8/8 [00:04<00:00,  1.74it/s]\n"
          ]
        },
        {
          "output_type": "stream",
          "name": "stdout",
          "text": [
            "Epoch 595 || Train Loss: 0.07515428611077368\n"
          ]
        },
        {
          "output_type": "stream",
          "name": "stderr",
          "text": [
            "Epoch 596 Training: 100%|██████████| 8/8 [00:04<00:00,  1.80it/s]\n",
            "Epoch 597 Training: 100%|██████████| 8/8 [00:04<00:00,  1.78it/s]\n",
            "Epoch 598 Training: 100%|██████████| 8/8 [00:04<00:00,  1.75it/s]\n",
            "Epoch 599 Training: 100%|██████████| 8/8 [00:04<00:00,  1.81it/s]\n",
            "Epoch 600 Training: 100%|██████████| 8/8 [00:04<00:00,  1.77it/s]\n"
          ]
        },
        {
          "output_type": "stream",
          "name": "stdout",
          "text": [
            "Epoch 600 || Train Loss: 0.07864286191761494\n"
          ]
        },
        {
          "output_type": "stream",
          "name": "stderr",
          "text": [
            "Epoch 600 Validation: 100%|██████████| 2/2 [00:00<00:00, 11.42it/s]\n"
          ]
        },
        {
          "output_type": "stream",
          "name": "stdout",
          "text": [
            "Epoch 600 || Eval Loss: 15.956756114959717\n"
          ]
        },
        {
          "output_type": "stream",
          "name": "stderr",
          "text": [
            "Epoch 601 Training: 100%|██████████| 8/8 [00:04<00:00,  1.80it/s]\n",
            "Epoch 602 Training: 100%|██████████| 8/8 [00:04<00:00,  1.79it/s]\n",
            "Epoch 603 Training: 100%|██████████| 8/8 [00:04<00:00,  1.72it/s]\n",
            "Epoch 604 Training: 100%|██████████| 8/8 [00:04<00:00,  1.82it/s]\n",
            "Epoch 605 Training: 100%|██████████| 8/8 [00:04<00:00,  1.79it/s]\n"
          ]
        },
        {
          "output_type": "stream",
          "name": "stdout",
          "text": [
            "Epoch 605 || Train Loss: 0.09613936115056276\n"
          ]
        },
        {
          "output_type": "stream",
          "name": "stderr",
          "text": [
            "Epoch 606 Training: 100%|██████████| 8/8 [00:04<00:00,  1.78it/s]\n",
            "Epoch 607 Training: 100%|██████████| 8/8 [00:04<00:00,  1.80it/s]\n",
            "Epoch 608 Training: 100%|██████████| 8/8 [00:04<00:00,  1.74it/s]\n",
            "Epoch 609 Training: 100%|██████████| 8/8 [00:04<00:00,  1.80it/s]\n",
            "Epoch 610 Training: 100%|██████████| 8/8 [00:04<00:00,  1.80it/s]\n"
          ]
        },
        {
          "output_type": "stream",
          "name": "stdout",
          "text": [
            "Epoch 610 || Train Loss: 0.07888571079820395\n"
          ]
        },
        {
          "output_type": "stream",
          "name": "stderr",
          "text": [
            "Epoch 610 Validation: 100%|██████████| 2/2 [00:00<00:00, 12.21it/s]\n"
          ]
        },
        {
          "output_type": "stream",
          "name": "stdout",
          "text": [
            "Epoch 610 || Eval Loss: 15.33226490020752\n"
          ]
        },
        {
          "output_type": "stream",
          "name": "stderr",
          "text": [
            "Epoch 611 Training: 100%|██████████| 8/8 [00:04<00:00,  1.73it/s]\n",
            "Epoch 612 Training: 100%|██████████| 8/8 [00:04<00:00,  1.81it/s]\n",
            "Epoch 613 Training: 100%|██████████| 8/8 [00:04<00:00,  1.79it/s]\n",
            "Epoch 614 Training: 100%|██████████| 8/8 [00:04<00:00,  1.75it/s]\n",
            "Epoch 615 Training: 100%|██████████| 8/8 [00:04<00:00,  1.82it/s]\n"
          ]
        },
        {
          "output_type": "stream",
          "name": "stdout",
          "text": [
            "Epoch 615 || Train Loss: 0.09023494506254792\n"
          ]
        },
        {
          "output_type": "stream",
          "name": "stderr",
          "text": [
            "Epoch 616 Training: 100%|██████████| 8/8 [00:04<00:00,  1.78it/s]\n",
            "Epoch 617 Training: 100%|██████████| 8/8 [00:04<00:00,  1.79it/s]\n",
            "Epoch 618 Training: 100%|██████████| 8/8 [00:04<00:00,  1.81it/s]\n",
            "Epoch 619 Training: 100%|██████████| 8/8 [00:04<00:00,  1.77it/s]\n",
            "Epoch 620 Training: 100%|██████████| 8/8 [00:04<00:00,  1.81it/s]\n"
          ]
        },
        {
          "output_type": "stream",
          "name": "stdout",
          "text": [
            "Epoch 620 || Train Loss: 0.05997063498944044\n"
          ]
        },
        {
          "output_type": "stream",
          "name": "stderr",
          "text": [
            "Epoch 620 Validation: 100%|██████████| 2/2 [00:00<00:00, 11.76it/s]\n"
          ]
        },
        {
          "output_type": "stream",
          "name": "stdout",
          "text": [
            "Epoch 620 || Eval Loss: 15.859984874725342\n"
          ]
        },
        {
          "output_type": "stream",
          "name": "stderr",
          "text": [
            "Epoch 621 Training: 100%|██████████| 8/8 [00:04<00:00,  1.78it/s]\n",
            "Epoch 622 Training: 100%|██████████| 8/8 [00:04<00:00,  1.74it/s]\n",
            "Epoch 623 Training: 100%|██████████| 8/8 [00:04<00:00,  1.81it/s]\n",
            "Epoch 624 Training: 100%|██████████| 8/8 [00:04<00:00,  1.76it/s]\n",
            "Epoch 625 Training: 100%|██████████| 8/8 [00:04<00:00,  1.80it/s]\n"
          ]
        },
        {
          "output_type": "stream",
          "name": "stdout",
          "text": [
            "Epoch 625 || Train Loss: 0.0645911623723805\n"
          ]
        },
        {
          "output_type": "stream",
          "name": "stderr",
          "text": [
            "Epoch 626 Training: 100%|██████████| 8/8 [00:04<00:00,  1.80it/s]\n",
            "Epoch 627 Training: 100%|██████████| 8/8 [00:04<00:00,  1.77it/s]\n",
            "Epoch 628 Training: 100%|██████████| 8/8 [00:04<00:00,  1.81it/s]\n",
            "Epoch 629 Training: 100%|██████████| 8/8 [00:04<00:00,  1.81it/s]\n",
            "Epoch 630 Training: 100%|██████████| 8/8 [00:04<00:00,  1.75it/s]\n"
          ]
        },
        {
          "output_type": "stream",
          "name": "stdout",
          "text": [
            "Epoch 630 || Train Loss: 0.07710844743996859\n"
          ]
        },
        {
          "output_type": "stream",
          "name": "stderr",
          "text": [
            "Epoch 630 Validation: 100%|██████████| 2/2 [00:00<00:00, 11.68it/s]\n"
          ]
        },
        {
          "output_type": "stream",
          "name": "stdout",
          "text": [
            "Epoch 630 || Eval Loss: 17.596235275268555\n"
          ]
        },
        {
          "output_type": "stream",
          "name": "stderr",
          "text": [
            "Epoch 631 Training: 100%|██████████| 8/8 [00:04<00:00,  1.80it/s]\n",
            "Epoch 632 Training: 100%|██████████| 8/8 [00:04<00:00,  1.78it/s]\n",
            "Epoch 633 Training: 100%|██████████| 8/8 [00:04<00:00,  1.77it/s]\n",
            "Epoch 634 Training: 100%|██████████| 8/8 [00:04<00:00,  1.80it/s]\n",
            "Epoch 635 Training: 100%|██████████| 8/8 [00:04<00:00,  1.78it/s]\n"
          ]
        },
        {
          "output_type": "stream",
          "name": "stdout",
          "text": [
            "Epoch 635 || Train Loss: 0.04755634313914925\n"
          ]
        },
        {
          "output_type": "stream",
          "name": "stderr",
          "text": [
            "Epoch 636 Training: 100%|██████████| 8/8 [00:04<00:00,  1.82it/s]\n",
            "Epoch 637 Training: 100%|██████████| 8/8 [00:04<00:00,  1.80it/s]\n",
            "Epoch 638 Training: 100%|██████████| 8/8 [00:04<00:00,  1.74it/s]\n",
            "Epoch 639 Training: 100%|██████████| 8/8 [00:04<00:00,  1.83it/s]\n",
            "Epoch 640 Training: 100%|██████████| 8/8 [00:04<00:00,  1.80it/s]\n"
          ]
        },
        {
          "output_type": "stream",
          "name": "stdout",
          "text": [
            "Epoch 640 || Train Loss: 0.08032884844578803\n"
          ]
        },
        {
          "output_type": "stream",
          "name": "stderr",
          "text": [
            "Epoch 640 Validation: 100%|██████████| 2/2 [00:00<00:00,  8.54it/s]\n"
          ]
        },
        {
          "output_type": "stream",
          "name": "stdout",
          "text": [
            "Epoch 640 || Eval Loss: 17.206554889678955\n"
          ]
        },
        {
          "output_type": "stream",
          "name": "stderr",
          "text": [
            "Epoch 641 Training: 100%|██████████| 8/8 [00:04<00:00,  1.77it/s]\n",
            "Epoch 642 Training: 100%|██████████| 8/8 [00:04<00:00,  1.78it/s]\n",
            "Epoch 643 Training: 100%|██████████| 8/8 [00:04<00:00,  1.76it/s]\n",
            "Epoch 644 Training: 100%|██████████| 8/8 [00:04<00:00,  1.81it/s]\n",
            "Epoch 645 Training: 100%|██████████| 8/8 [00:04<00:00,  1.81it/s]\n"
          ]
        },
        {
          "output_type": "stream",
          "name": "stdout",
          "text": [
            "Epoch 645 || Train Loss: 0.0433614767389372\n"
          ]
        },
        {
          "output_type": "stream",
          "name": "stderr",
          "text": [
            "Epoch 646 Training: 100%|██████████| 8/8 [00:04<00:00,  1.75it/s]\n",
            "Epoch 647 Training: 100%|██████████| 8/8 [00:04<00:00,  1.80it/s]\n",
            "Epoch 648 Training: 100%|██████████| 8/8 [00:04<00:00,  1.77it/s]\n",
            "Epoch 649 Training: 100%|██████████| 8/8 [00:04<00:00,  1.75it/s]\n",
            "Epoch 650 Training: 100%|██████████| 8/8 [00:04<00:00,  1.82it/s]\n"
          ]
        },
        {
          "output_type": "stream",
          "name": "stdout",
          "text": [
            "Epoch 650 || Train Loss: 0.05920576141215861\n"
          ]
        },
        {
          "output_type": "stream",
          "name": "stderr",
          "text": [
            "Epoch 650 Validation: 100%|██████████| 2/2 [00:00<00:00, 11.78it/s]\n"
          ]
        },
        {
          "output_type": "stream",
          "name": "stdout",
          "text": [
            "Epoch 650 || Eval Loss: 19.832804679870605\n"
          ]
        },
        {
          "output_type": "stream",
          "name": "stderr",
          "text": [
            "Epoch 651 Training: 100%|██████████| 8/8 [00:04<00:00,  1.80it/s]\n",
            "Epoch 652 Training: 100%|██████████| 8/8 [00:04<00:00,  1.81it/s]\n",
            "Epoch 653 Training: 100%|██████████| 8/8 [00:04<00:00,  1.82it/s]\n",
            "Epoch 654 Training: 100%|██████████| 8/8 [00:04<00:00,  1.74it/s]\n",
            "Epoch 655 Training: 100%|██████████| 8/8 [00:04<00:00,  1.81it/s]\n"
          ]
        },
        {
          "output_type": "stream",
          "name": "stdout",
          "text": [
            "Epoch 655 || Train Loss: 0.0631626236718148\n"
          ]
        },
        {
          "output_type": "stream",
          "name": "stderr",
          "text": [
            "Epoch 656 Training: 100%|██████████| 8/8 [00:04<00:00,  1.78it/s]\n",
            "Epoch 657 Training: 100%|██████████| 8/8 [00:04<00:00,  1.78it/s]\n",
            "Epoch 658 Training: 100%|██████████| 8/8 [00:04<00:00,  1.80it/s]\n",
            "Epoch 659 Training: 100%|██████████| 8/8 [00:04<00:00,  1.78it/s]\n",
            "Epoch 660 Training: 100%|██████████| 8/8 [00:04<00:00,  1.80it/s]\n"
          ]
        },
        {
          "output_type": "stream",
          "name": "stdout",
          "text": [
            "Epoch 660 || Train Loss: 0.0848138676956296\n"
          ]
        },
        {
          "output_type": "stream",
          "name": "stderr",
          "text": [
            "Epoch 660 Validation: 100%|██████████| 2/2 [00:00<00:00, 11.04it/s]\n"
          ]
        },
        {
          "output_type": "stream",
          "name": "stdout",
          "text": [
            "Epoch 660 || Eval Loss: 18.221224784851074\n"
          ]
        },
        {
          "output_type": "stream",
          "name": "stderr",
          "text": [
            "Epoch 661 Training: 100%|██████████| 8/8 [00:04<00:00,  1.79it/s]\n",
            "Epoch 662 Training: 100%|██████████| 8/8 [00:04<00:00,  1.78it/s]\n",
            "Epoch 663 Training: 100%|██████████| 8/8 [00:04<00:00,  1.81it/s]\n",
            "Epoch 664 Training: 100%|██████████| 8/8 [00:04<00:00,  1.78it/s]\n",
            "Epoch 665 Training: 100%|██████████| 8/8 [00:04<00:00,  1.74it/s]\n"
          ]
        },
        {
          "output_type": "stream",
          "name": "stdout",
          "text": [
            "Epoch 665 || Train Loss: 0.05733520467765629\n"
          ]
        },
        {
          "output_type": "stream",
          "name": "stderr",
          "text": [
            "Epoch 666 Training: 100%|██████████| 8/8 [00:04<00:00,  1.80it/s]\n",
            "Epoch 667 Training: 100%|██████████| 8/8 [00:04<00:00,  1.78it/s]\n",
            "Epoch 668 Training: 100%|██████████| 8/8 [00:04<00:00,  1.79it/s]\n",
            "Epoch 669 Training: 100%|██████████| 8/8 [00:04<00:00,  1.82it/s]\n",
            "Epoch 670 Training: 100%|██████████| 8/8 [00:04<00:00,  1.78it/s]\n"
          ]
        },
        {
          "output_type": "stream",
          "name": "stdout",
          "text": [
            "Epoch 670 || Train Loss: 0.04388612590264529\n"
          ]
        },
        {
          "output_type": "stream",
          "name": "stderr",
          "text": [
            "Epoch 670 Validation: 100%|██████████| 2/2 [00:00<00:00, 11.90it/s]\n"
          ]
        },
        {
          "output_type": "stream",
          "name": "stdout",
          "text": [
            "Epoch 670 || Eval Loss: 19.5179443359375\n"
          ]
        },
        {
          "output_type": "stream",
          "name": "stderr",
          "text": [
            "Epoch 671 Training: 100%|██████████| 8/8 [00:04<00:00,  1.81it/s]\n",
            "Epoch 672 Training: 100%|██████████| 8/8 [00:04<00:00,  1.81it/s]\n",
            "Epoch 673 Training: 100%|██████████| 8/8 [00:04<00:00,  1.76it/s]\n",
            "Epoch 674 Training: 100%|██████████| 8/8 [00:04<00:00,  1.81it/s]\n",
            "Epoch 675 Training: 100%|██████████| 8/8 [00:04<00:00,  1.79it/s]\n"
          ]
        },
        {
          "output_type": "stream",
          "name": "stdout",
          "text": [
            "Epoch 675 || Train Loss: 0.056142379296943545\n"
          ]
        },
        {
          "output_type": "stream",
          "name": "stderr",
          "text": [
            "Epoch 676 Training: 100%|██████████| 8/8 [00:04<00:00,  1.75it/s]\n",
            "Epoch 677 Training: 100%|██████████| 8/8 [00:04<00:00,  1.80it/s]\n",
            "Epoch 678 Training: 100%|██████████| 8/8 [00:04<00:00,  1.78it/s]\n",
            "Epoch 679 Training: 100%|██████████| 8/8 [00:04<00:00,  1.81it/s]\n",
            "Epoch 680 Training: 100%|██████████| 8/8 [00:04<00:00,  1.82it/s]\n"
          ]
        },
        {
          "output_type": "stream",
          "name": "stdout",
          "text": [
            "Epoch 680 || Train Loss: 0.0966455452144146\n"
          ]
        },
        {
          "output_type": "stream",
          "name": "stderr",
          "text": [
            "Epoch 680 Validation: 100%|██████████| 2/2 [00:00<00:00, 11.74it/s]\n"
          ]
        },
        {
          "output_type": "stream",
          "name": "stdout",
          "text": [
            "Epoch 680 || Eval Loss: 16.313233375549316\n"
          ]
        },
        {
          "output_type": "stream",
          "name": "stderr",
          "text": [
            "Epoch 681 Training: 100%|██████████| 8/8 [00:04<00:00,  1.76it/s]\n",
            "Epoch 682 Training: 100%|██████████| 8/8 [00:04<00:00,  1.81it/s]\n",
            "Epoch 683 Training: 100%|██████████| 8/8 [00:04<00:00,  1.78it/s]\n",
            "Epoch 684 Training: 100%|██████████| 8/8 [00:04<00:00,  1.77it/s]\n",
            "Epoch 685 Training: 100%|██████████| 8/8 [00:04<00:00,  1.81it/s]\n"
          ]
        },
        {
          "output_type": "stream",
          "name": "stdout",
          "text": [
            "Epoch 685 || Train Loss: 0.06175915733911097\n"
          ]
        },
        {
          "output_type": "stream",
          "name": "stderr",
          "text": [
            "Epoch 686 Training: 100%|██████████| 8/8 [00:04<00:00,  1.77it/s]\n",
            "Epoch 687 Training: 100%|██████████| 8/8 [00:04<00:00,  1.82it/s]\n",
            "Epoch 688 Training: 100%|██████████| 8/8 [00:04<00:00,  1.81it/s]\n",
            "Epoch 689 Training: 100%|██████████| 8/8 [00:04<00:00,  1.75it/s]\n",
            "Epoch 690 Training: 100%|██████████| 8/8 [00:04<00:00,  1.80it/s]\n"
          ]
        },
        {
          "output_type": "stream",
          "name": "stdout",
          "text": [
            "Epoch 690 || Train Loss: 0.11363473115488887\n"
          ]
        },
        {
          "output_type": "stream",
          "name": "stderr",
          "text": [
            "Epoch 690 Validation: 100%|██████████| 2/2 [00:00<00:00, 11.22it/s]\n"
          ]
        },
        {
          "output_type": "stream",
          "name": "stdout",
          "text": [
            "Epoch 690 || Eval Loss: 17.107266426086426\n"
          ]
        },
        {
          "output_type": "stream",
          "name": "stderr",
          "text": [
            "Epoch 691 Training: 100%|██████████| 8/8 [00:04<00:00,  1.79it/s]\n",
            "Epoch 692 Training: 100%|██████████| 8/8 [00:04<00:00,  1.76it/s]\n",
            "Epoch 693 Training: 100%|██████████| 8/8 [00:04<00:00,  1.81it/s]\n",
            "Epoch 694 Training: 100%|██████████| 8/8 [00:04<00:00,  1.76it/s]\n",
            "Epoch 695 Training: 100%|██████████| 8/8 [00:04<00:00,  1.81it/s]\n"
          ]
        },
        {
          "output_type": "stream",
          "name": "stdout",
          "text": [
            "Epoch 695 || Train Loss: 0.059222700307145715\n"
          ]
        },
        {
          "output_type": "stream",
          "name": "stderr",
          "text": [
            "Epoch 696 Training: 100%|██████████| 8/8 [00:04<00:00,  1.80it/s]\n",
            "Epoch 697 Training: 100%|██████████| 8/8 [00:04<00:00,  1.77it/s]\n",
            "Epoch 698 Training: 100%|██████████| 8/8 [00:04<00:00,  1.82it/s]\n",
            "Epoch 699 Training: 100%|██████████| 8/8 [00:04<00:00,  1.79it/s]\n",
            "Epoch 700 Training: 100%|██████████| 8/8 [00:04<00:00,  1.78it/s]\n"
          ]
        },
        {
          "output_type": "stream",
          "name": "stdout",
          "text": [
            "Epoch 700 || Train Loss: 0.07498976495116949\n"
          ]
        },
        {
          "output_type": "stream",
          "name": "stderr",
          "text": [
            "Epoch 700 Validation: 100%|██████████| 2/2 [00:00<00:00, 11.79it/s]\n"
          ]
        },
        {
          "output_type": "stream",
          "name": "stdout",
          "text": [
            "Epoch 700 || Eval Loss: 19.602153778076172\n"
          ]
        },
        {
          "output_type": "stream",
          "name": "stderr",
          "text": [
            "Epoch 701 Training: 100%|██████████| 8/8 [00:04<00:00,  1.77it/s]\n",
            "Epoch 702 Training: 100%|██████████| 8/8 [00:04<00:00,  1.76it/s]\n",
            "Epoch 703 Training: 100%|██████████| 8/8 [00:04<00:00,  1.79it/s]\n",
            "Epoch 704 Training: 100%|██████████| 8/8 [00:04<00:00,  1.81it/s]\n",
            "Epoch 705 Training: 100%|██████████| 8/8 [00:04<00:00,  1.75it/s]\n"
          ]
        },
        {
          "output_type": "stream",
          "name": "stdout",
          "text": [
            "Epoch 705 || Train Loss: 0.09998641209676862\n"
          ]
        },
        {
          "output_type": "stream",
          "name": "stderr",
          "text": [
            "Epoch 706 Training: 100%|██████████| 8/8 [00:04<00:00,  1.79it/s]\n",
            "Epoch 707 Training: 100%|██████████| 8/8 [00:04<00:00,  1.82it/s]\n",
            "Epoch 708 Training: 100%|██████████| 8/8 [00:04<00:00,  1.77it/s]\n",
            "Epoch 709 Training: 100%|██████████| 8/8 [00:04<00:00,  1.80it/s]\n",
            "Epoch 710 Training: 100%|██████████| 8/8 [00:04<00:00,  1.78it/s]\n"
          ]
        },
        {
          "output_type": "stream",
          "name": "stdout",
          "text": [
            "Epoch 710 || Train Loss: 0.06122868647798896\n"
          ]
        },
        {
          "output_type": "stream",
          "name": "stderr",
          "text": [
            "Epoch 710 Validation: 100%|██████████| 2/2 [00:00<00:00,  7.30it/s]\n"
          ]
        },
        {
          "output_type": "stream",
          "name": "stdout",
          "text": [
            "Epoch 710 || Eval Loss: 19.066887855529785\n"
          ]
        },
        {
          "output_type": "stream",
          "name": "stderr",
          "text": [
            "Epoch 711 Training: 100%|██████████| 8/8 [00:04<00:00,  1.77it/s]\n",
            "Epoch 712 Training: 100%|██████████| 8/8 [00:04<00:00,  1.81it/s]\n",
            "Epoch 713 Training: 100%|██████████| 8/8 [00:04<00:00,  1.78it/s]\n",
            "Epoch 714 Training: 100%|██████████| 8/8 [00:04<00:00,  1.82it/s]\n",
            "Epoch 715 Training: 100%|██████████| 8/8 [00:04<00:00,  1.79it/s]\n"
          ]
        },
        {
          "output_type": "stream",
          "name": "stdout",
          "text": [
            "Epoch 715 || Train Loss: 0.06920604803599417\n"
          ]
        },
        {
          "output_type": "stream",
          "name": "stderr",
          "text": [
            "Epoch 716 Training: 100%|██████████| 8/8 [00:04<00:00,  1.76it/s]\n",
            "Epoch 717 Training: 100%|██████████| 8/8 [00:04<00:00,  1.81it/s]\n",
            "Epoch 718 Training: 100%|██████████| 8/8 [00:04<00:00,  1.77it/s]\n",
            "Epoch 719 Training: 100%|██████████| 8/8 [00:04<00:00,  1.77it/s]\n",
            "Epoch 720 Training: 100%|██████████| 8/8 [00:04<00:00,  1.80it/s]\n"
          ]
        },
        {
          "output_type": "stream",
          "name": "stdout",
          "text": [
            "Epoch 720 || Train Loss: 0.06725678429938853\n"
          ]
        },
        {
          "output_type": "stream",
          "name": "stderr",
          "text": [
            "Epoch 720 Validation: 100%|██████████| 2/2 [00:00<00:00, 11.60it/s]\n"
          ]
        },
        {
          "output_type": "stream",
          "name": "stdout",
          "text": [
            "Epoch 720 || Eval Loss: 19.65591812133789\n"
          ]
        },
        {
          "output_type": "stream",
          "name": "stderr",
          "text": [
            "Epoch 721 Training: 100%|██████████| 8/8 [00:04<00:00,  1.75it/s]\n",
            "Epoch 722 Training: 100%|██████████| 8/8 [00:04<00:00,  1.80it/s]\n",
            "Epoch 723 Training: 100%|██████████| 8/8 [00:04<00:00,  1.82it/s]\n",
            "Epoch 724 Training: 100%|██████████| 8/8 [00:04<00:00,  1.74it/s]\n",
            "Epoch 725 Training: 100%|██████████| 8/8 [00:04<00:00,  1.81it/s]\n"
          ]
        },
        {
          "output_type": "stream",
          "name": "stdout",
          "text": [
            "Epoch 725 || Train Loss: 0.06258076196536422\n"
          ]
        },
        {
          "output_type": "stream",
          "name": "stderr",
          "text": [
            "Epoch 726 Training: 100%|██████████| 8/8 [00:04<00:00,  1.80it/s]\n",
            "Epoch 727 Training: 100%|██████████| 8/8 [00:04<00:00,  1.77it/s]\n",
            "Epoch 728 Training: 100%|██████████| 8/8 [00:04<00:00,  1.80it/s]\n",
            "Epoch 729 Training: 100%|██████████| 8/8 [00:04<00:00,  1.77it/s]\n",
            "Epoch 730 Training: 100%|██████████| 8/8 [00:04<00:00,  1.77it/s]\n"
          ]
        },
        {
          "output_type": "stream",
          "name": "stdout",
          "text": [
            "Epoch 730 || Train Loss: 0.06870318576693535\n"
          ]
        },
        {
          "output_type": "stream",
          "name": "stderr",
          "text": [
            "Epoch 730 Validation: 100%|██████████| 2/2 [00:00<00:00, 11.63it/s]\n"
          ]
        },
        {
          "output_type": "stream",
          "name": "stdout",
          "text": [
            "Epoch 730 || Eval Loss: 17.985465049743652\n"
          ]
        },
        {
          "output_type": "stream",
          "name": "stderr",
          "text": [
            "Epoch 731 Training: 100%|██████████| 8/8 [00:04<00:00,  1.81it/s]\n",
            "Epoch 732 Training: 100%|██████████| 8/8 [00:04<00:00,  1.76it/s]\n",
            "Epoch 733 Training: 100%|██████████| 8/8 [00:04<00:00,  1.80it/s]\n",
            "Epoch 734 Training: 100%|██████████| 8/8 [00:04<00:00,  1.79it/s]\n",
            "Epoch 735 Training: 100%|██████████| 8/8 [00:04<00:00,  1.75it/s]\n"
          ]
        },
        {
          "output_type": "stream",
          "name": "stdout",
          "text": [
            "Epoch 735 || Train Loss: 0.06445389369037002\n"
          ]
        },
        {
          "output_type": "stream",
          "name": "stderr",
          "text": [
            "Epoch 736 Training: 100%|██████████| 8/8 [00:04<00:00,  1.79it/s]\n",
            "Epoch 737 Training: 100%|██████████| 8/8 [00:04<00:00,  1.78it/s]\n",
            "Epoch 738 Training: 100%|██████████| 8/8 [00:04<00:00,  1.77it/s]\n",
            "Epoch 739 Training: 100%|██████████| 8/8 [00:04<00:00,  1.81it/s]\n",
            "Epoch 740 Training: 100%|██████████| 8/8 [00:04<00:00,  1.73it/s]\n"
          ]
        },
        {
          "output_type": "stream",
          "name": "stdout",
          "text": [
            "Epoch 740 || Train Loss: 0.06222161208279431\n"
          ]
        },
        {
          "output_type": "stream",
          "name": "stderr",
          "text": [
            "Epoch 740 Validation: 100%|██████████| 2/2 [00:00<00:00, 11.77it/s]\n"
          ]
        },
        {
          "output_type": "stream",
          "name": "stdout",
          "text": [
            "Epoch 740 || Eval Loss: 16.714083671569824\n"
          ]
        },
        {
          "output_type": "stream",
          "name": "stderr",
          "text": [
            "Epoch 741 Training: 100%|██████████| 8/8 [00:04<00:00,  1.82it/s]\n",
            "Epoch 742 Training: 100%|██████████| 8/8 [00:04<00:00,  1.82it/s]\n",
            "Epoch 743 Training: 100%|██████████| 8/8 [00:04<00:00,  1.75it/s]\n",
            "Epoch 744 Training: 100%|██████████| 8/8 [00:04<00:00,  1.81it/s]\n",
            "Epoch 745 Training: 100%|██████████| 8/8 [00:04<00:00,  1.77it/s]\n"
          ]
        },
        {
          "output_type": "stream",
          "name": "stdout",
          "text": [
            "Epoch 745 || Train Loss: 0.04910744819790125\n"
          ]
        },
        {
          "output_type": "stream",
          "name": "stderr",
          "text": [
            "Epoch 746 Training: 100%|██████████| 8/8 [00:04<00:00,  1.75it/s]\n",
            "Epoch 747 Training: 100%|██████████| 8/8 [00:04<00:00,  1.80it/s]\n",
            "Epoch 748 Training: 100%|██████████| 8/8 [00:04<00:00,  1.75it/s]\n",
            "Epoch 749 Training: 100%|██████████| 8/8 [00:04<00:00,  1.80it/s]\n",
            "Epoch 750 Training: 100%|██████████| 8/8 [00:04<00:00,  1.80it/s]\n"
          ]
        },
        {
          "output_type": "stream",
          "name": "stdout",
          "text": [
            "Epoch 750 || Train Loss: 0.07321315817534924\n"
          ]
        },
        {
          "output_type": "stream",
          "name": "stderr",
          "text": [
            "Epoch 750 Validation: 100%|██████████| 2/2 [00:00<00:00, 11.02it/s]\n"
          ]
        },
        {
          "output_type": "stream",
          "name": "stdout",
          "text": [
            "Epoch 750 || Eval Loss: 19.080890655517578\n"
          ]
        },
        {
          "output_type": "stream",
          "name": "stderr",
          "text": [
            "Epoch 751 Training: 100%|██████████| 8/8 [00:04<00:00,  1.75it/s]\n",
            "Epoch 752 Training: 100%|██████████| 8/8 [00:04<00:00,  1.83it/s]\n",
            "Epoch 753 Training: 100%|██████████| 8/8 [00:04<00:00,  1.79it/s]\n",
            "Epoch 754 Training: 100%|██████████| 8/8 [00:04<00:00,  1.77it/s]\n",
            "Epoch 755 Training: 100%|██████████| 8/8 [00:04<00:00,  1.81it/s]\n"
          ]
        },
        {
          "output_type": "stream",
          "name": "stdout",
          "text": [
            "Epoch 755 || Train Loss: 0.08243762562051415\n"
          ]
        },
        {
          "output_type": "stream",
          "name": "stderr",
          "text": [
            "Epoch 756 Training: 100%|██████████| 8/8 [00:04<00:00,  1.76it/s]\n",
            "Epoch 757 Training: 100%|██████████| 8/8 [00:04<00:00,  1.82it/s]\n",
            "Epoch 758 Training: 100%|██████████| 8/8 [00:04<00:00,  1.78it/s]\n",
            "Epoch 759 Training: 100%|██████████| 8/8 [00:04<00:00,  1.77it/s]\n",
            "Epoch 760 Training: 100%|██████████| 8/8 [00:04<00:00,  1.81it/s]\n"
          ]
        },
        {
          "output_type": "stream",
          "name": "stdout",
          "text": [
            "Epoch 760 || Train Loss: 0.26819514064118266\n"
          ]
        },
        {
          "output_type": "stream",
          "name": "stderr",
          "text": [
            "Epoch 760 Validation: 100%|██████████| 2/2 [00:00<00:00, 11.59it/s]\n"
          ]
        },
        {
          "output_type": "stream",
          "name": "stdout",
          "text": [
            "Epoch 760 || Eval Loss: 17.990833282470703\n"
          ]
        },
        {
          "output_type": "stream",
          "name": "stderr",
          "text": [
            "Epoch 761 Training: 100%|██████████| 8/8 [00:04<00:00,  1.81it/s]\n",
            "Epoch 762 Training: 100%|██████████| 8/8 [00:04<00:00,  1.77it/s]\n",
            "Epoch 763 Training: 100%|██████████| 8/8 [00:04<00:00,  1.81it/s]\n",
            "Epoch 764 Training: 100%|██████████| 8/8 [00:04<00:00,  1.75it/s]\n",
            "Epoch 765 Training: 100%|██████████| 8/8 [00:04<00:00,  1.80it/s]\n"
          ]
        },
        {
          "output_type": "stream",
          "name": "stdout",
          "text": [
            "Epoch 765 || Train Loss: 0.12199558224529028\n"
          ]
        },
        {
          "output_type": "stream",
          "name": "stderr",
          "text": [
            "Epoch 766 Training: 100%|██████████| 8/8 [00:04<00:00,  1.81it/s]\n",
            "Epoch 767 Training: 100%|██████████| 8/8 [00:04<00:00,  1.75it/s]\n",
            "Epoch 768 Training: 100%|██████████| 8/8 [00:04<00:00,  1.81it/s]\n",
            "Epoch 769 Training: 100%|██████████| 8/8 [00:04<00:00,  1.78it/s]\n",
            "Epoch 770 Training: 100%|██████████| 8/8 [00:04<00:00,  1.77it/s]\n"
          ]
        },
        {
          "output_type": "stream",
          "name": "stdout",
          "text": [
            "Epoch 770 || Train Loss: 0.05007079290226102\n"
          ]
        },
        {
          "output_type": "stream",
          "name": "stderr",
          "text": [
            "Epoch 770 Validation: 100%|██████████| 2/2 [00:00<00:00, 11.56it/s]\n"
          ]
        },
        {
          "output_type": "stream",
          "name": "stdout",
          "text": [
            "Epoch 770 || Eval Loss: 17.23818016052246\n"
          ]
        },
        {
          "output_type": "stream",
          "name": "stderr",
          "text": [
            "Epoch 771 Training: 100%|██████████| 8/8 [00:04<00:00,  1.81it/s]\n",
            "Epoch 772 Training: 100%|██████████| 8/8 [00:04<00:00,  1.78it/s]\n",
            "Epoch 773 Training: 100%|██████████| 8/8 [00:04<00:00,  1.78it/s]\n",
            "Epoch 774 Training: 100%|██████████| 8/8 [00:04<00:00,  1.80it/s]\n",
            "Epoch 775 Training: 100%|██████████| 8/8 [00:04<00:00,  1.75it/s]\n"
          ]
        },
        {
          "output_type": "stream",
          "name": "stdout",
          "text": [
            "Epoch 775 || Train Loss: 0.08215628238394856\n"
          ]
        },
        {
          "output_type": "stream",
          "name": "stderr",
          "text": [
            "Epoch 776 Training: 100%|██████████| 8/8 [00:04<00:00,  1.81it/s]\n",
            "Epoch 777 Training: 100%|██████████| 8/8 [00:04<00:00,  1.79it/s]\n",
            "Epoch 778 Training: 100%|██████████| 8/8 [00:04<00:00,  1.73it/s]\n",
            "Epoch 779 Training: 100%|██████████| 8/8 [00:04<00:00,  1.80it/s]\n",
            "Epoch 780 Training: 100%|██████████| 8/8 [00:04<00:00,  1.76it/s]\n"
          ]
        },
        {
          "output_type": "stream",
          "name": "stdout",
          "text": [
            "Epoch 780 || Train Loss: 0.08576720021665096\n"
          ]
        },
        {
          "output_type": "stream",
          "name": "stderr",
          "text": [
            "Epoch 780 Validation: 100%|██████████| 2/2 [00:00<00:00,  7.67it/s]\n"
          ]
        },
        {
          "output_type": "stream",
          "name": "stdout",
          "text": [
            "Epoch 780 || Eval Loss: 20.187914848327637\n"
          ]
        },
        {
          "output_type": "stream",
          "name": "stderr",
          "text": [
            "Epoch 781 Training: 100%|██████████| 8/8 [00:04<00:00,  1.79it/s]\n",
            "Epoch 782 Training: 100%|██████████| 8/8 [00:04<00:00,  1.83it/s]\n",
            "Epoch 783 Training: 100%|██████████| 8/8 [00:04<00:00,  1.75it/s]\n",
            "Epoch 784 Training: 100%|██████████| 8/8 [00:04<00:00,  1.80it/s]\n",
            "Epoch 785 Training: 100%|██████████| 8/8 [00:04<00:00,  1.79it/s]\n"
          ]
        },
        {
          "output_type": "stream",
          "name": "stdout",
          "text": [
            "Epoch 785 || Train Loss: 0.07149404752999544\n"
          ]
        },
        {
          "output_type": "stream",
          "name": "stderr",
          "text": [
            "Epoch 786 Training: 100%|██████████| 8/8 [00:04<00:00,  1.73it/s]\n",
            "Epoch 787 Training: 100%|██████████| 8/8 [00:04<00:00,  1.78it/s]\n",
            "Epoch 788 Training: 100%|██████████| 8/8 [00:04<00:00,  1.76it/s]\n",
            "Epoch 789 Training: 100%|██████████| 8/8 [00:04<00:00,  1.77it/s]\n",
            "Epoch 790 Training: 100%|██████████| 8/8 [00:04<00:00,  1.80it/s]\n"
          ]
        },
        {
          "output_type": "stream",
          "name": "stdout",
          "text": [
            "Epoch 790 || Train Loss: 0.04985702014528215\n"
          ]
        },
        {
          "output_type": "stream",
          "name": "stderr",
          "text": [
            "Epoch 790 Validation: 100%|██████████| 2/2 [00:00<00:00, 11.90it/s]\n"
          ]
        },
        {
          "output_type": "stream",
          "name": "stdout",
          "text": [
            "Epoch 790 || Eval Loss: 17.151765823364258\n"
          ]
        },
        {
          "output_type": "stream",
          "name": "stderr",
          "text": [
            "Epoch 791 Training: 100%|██████████| 8/8 [00:04<00:00,  1.77it/s]\n",
            "Epoch 792 Training: 100%|██████████| 8/8 [00:04<00:00,  1.80it/s]\n",
            "Epoch 793 Training: 100%|██████████| 8/8 [00:04<00:00,  1.78it/s]\n",
            "Epoch 794 Training: 100%|██████████| 8/8 [00:04<00:00,  1.78it/s]\n",
            "Epoch 795 Training: 100%|██████████| 8/8 [00:04<00:00,  1.80it/s]\n"
          ]
        },
        {
          "output_type": "stream",
          "name": "stdout",
          "text": [
            "Epoch 795 || Train Loss: 0.06497654179111123\n"
          ]
        },
        {
          "output_type": "stream",
          "name": "stderr",
          "text": [
            "Epoch 796 Training: 100%|██████████| 8/8 [00:04<00:00,  1.77it/s]\n",
            "Epoch 797 Training: 100%|██████████| 8/8 [00:04<00:00,  1.74it/s]\n",
            "Epoch 798 Training: 100%|██████████| 8/8 [00:04<00:00,  1.79it/s]\n",
            "Epoch 799 Training: 100%|██████████| 8/8 [00:04<00:00,  1.75it/s]\n",
            "Epoch 800 Training: 100%|██████████| 8/8 [00:04<00:00,  1.81it/s]\n"
          ]
        },
        {
          "output_type": "stream",
          "name": "stdout",
          "text": [
            "Epoch 800 || Train Loss: 0.0819175518117845\n"
          ]
        },
        {
          "output_type": "stream",
          "name": "stderr",
          "text": [
            "Epoch 800 Validation: 100%|██████████| 2/2 [00:00<00:00, 11.73it/s]\n"
          ]
        },
        {
          "output_type": "stream",
          "name": "stdout",
          "text": [
            "Epoch 800 || Eval Loss: 19.424097061157227\n"
          ]
        },
        {
          "output_type": "stream",
          "name": "stderr",
          "text": [
            "Epoch 801 Training: 100%|██████████| 8/8 [00:04<00:00,  1.82it/s]\n",
            "Epoch 802 Training: 100%|██████████| 8/8 [00:04<00:00,  1.76it/s]\n",
            "Epoch 803 Training: 100%|██████████| 8/8 [00:04<00:00,  1.81it/s]\n",
            "Epoch 804 Training: 100%|██████████| 8/8 [00:04<00:00,  1.77it/s]\n",
            "Epoch 805 Training: 100%|██████████| 8/8 [00:04<00:00,  1.78it/s]\n"
          ]
        },
        {
          "output_type": "stream",
          "name": "stdout",
          "text": [
            "Epoch 805 || Train Loss: 0.05480506154708564\n"
          ]
        },
        {
          "output_type": "stream",
          "name": "stderr",
          "text": [
            "Epoch 806 Training: 100%|██████████| 8/8 [00:04<00:00,  1.80it/s]\n",
            "Epoch 807 Training: 100%|██████████| 8/8 [00:04<00:00,  1.75it/s]\n",
            "Epoch 808 Training: 100%|██████████| 8/8 [00:04<00:00,  1.82it/s]\n",
            "Epoch 809 Training: 100%|██████████| 8/8 [00:04<00:00,  1.83it/s]\n",
            "Epoch 810 Training: 100%|██████████| 8/8 [00:04<00:00,  1.75it/s]\n"
          ]
        },
        {
          "output_type": "stream",
          "name": "stdout",
          "text": [
            "Epoch 810 || Train Loss: 0.06081848475150764\n"
          ]
        },
        {
          "output_type": "stream",
          "name": "stderr",
          "text": [
            "Epoch 810 Validation: 100%|██████████| 2/2 [00:00<00:00, 10.92it/s]\n"
          ]
        },
        {
          "output_type": "stream",
          "name": "stdout",
          "text": [
            "Epoch 810 || Eval Loss: 19.24421787261963\n"
          ]
        },
        {
          "output_type": "stream",
          "name": "stderr",
          "text": [
            "Epoch 811 Training: 100%|██████████| 8/8 [00:04<00:00,  1.79it/s]\n",
            "Epoch 812 Training: 100%|██████████| 8/8 [00:04<00:00,  1.78it/s]\n",
            "Epoch 813 Training: 100%|██████████| 8/8 [00:04<00:00,  1.75it/s]\n",
            "Epoch 814 Training: 100%|██████████| 8/8 [00:04<00:00,  1.81it/s]\n",
            "Epoch 815 Training: 100%|██████████| 8/8 [00:04<00:00,  1.76it/s]\n"
          ]
        },
        {
          "output_type": "stream",
          "name": "stdout",
          "text": [
            "Epoch 815 || Train Loss: 0.05183848808519542\n"
          ]
        },
        {
          "output_type": "stream",
          "name": "stderr",
          "text": [
            "Epoch 816 Training: 100%|██████████| 8/8 [00:04<00:00,  1.81it/s]\n",
            "Epoch 817 Training: 100%|██████████| 8/8 [00:04<00:00,  1.80it/s]\n",
            "Epoch 818 Training: 100%|██████████| 8/8 [00:04<00:00,  1.74it/s]\n",
            "Epoch 819 Training: 100%|██████████| 8/8 [00:04<00:00,  1.79it/s]\n",
            "Epoch 820 Training: 100%|██████████| 8/8 [00:04<00:00,  1.80it/s]\n"
          ]
        },
        {
          "output_type": "stream",
          "name": "stdout",
          "text": [
            "Epoch 820 || Train Loss: 0.06262377346865833\n"
          ]
        },
        {
          "output_type": "stream",
          "name": "stderr",
          "text": [
            "Epoch 820 Validation: 100%|██████████| 2/2 [00:00<00:00,  8.06it/s]\n"
          ]
        },
        {
          "output_type": "stream",
          "name": "stdout",
          "text": [
            "Epoch 820 || Eval Loss: 22.077512741088867\n"
          ]
        },
        {
          "output_type": "stream",
          "name": "stderr",
          "text": [
            "Epoch 821 Training: 100%|██████████| 8/8 [00:04<00:00,  1.75it/s]\n",
            "Epoch 822 Training: 100%|██████████| 8/8 [00:04<00:00,  1.80it/s]\n",
            "Epoch 823 Training: 100%|██████████| 8/8 [00:04<00:00,  1.76it/s]\n",
            "Epoch 824 Training: 100%|██████████| 8/8 [00:04<00:00,  1.79it/s]\n",
            "Epoch 825 Training: 100%|██████████| 8/8 [00:04<00:00,  1.80it/s]\n"
          ]
        },
        {
          "output_type": "stream",
          "name": "stdout",
          "text": [
            "Epoch 825 || Train Loss: 0.07048971392214298\n"
          ]
        },
        {
          "output_type": "stream",
          "name": "stderr",
          "text": [
            "Epoch 826 Training: 100%|██████████| 8/8 [00:04<00:00,  1.76it/s]\n",
            "Epoch 827 Training: 100%|██████████| 8/8 [00:04<00:00,  1.78it/s]\n",
            "Epoch 828 Training: 100%|██████████| 8/8 [00:04<00:00,  1.79it/s]\n",
            "Epoch 829 Training: 100%|██████████| 8/8 [00:04<00:00,  1.77it/s]\n",
            "Epoch 830 Training: 100%|██████████| 8/8 [00:04<00:00,  1.80it/s]\n"
          ]
        },
        {
          "output_type": "stream",
          "name": "stdout",
          "text": [
            "Epoch 830 || Train Loss: 0.0985165536403656\n"
          ]
        },
        {
          "output_type": "stream",
          "name": "stderr",
          "text": [
            "Epoch 830 Validation: 100%|██████████| 2/2 [00:00<00:00, 11.36it/s]\n"
          ]
        },
        {
          "output_type": "stream",
          "name": "stdout",
          "text": [
            "Epoch 830 || Eval Loss: 22.049952507019043\n"
          ]
        },
        {
          "output_type": "stream",
          "name": "stderr",
          "text": [
            "Epoch 831 Training: 100%|██████████| 8/8 [00:04<00:00,  1.77it/s]\n",
            "Epoch 832 Training: 100%|██████████| 8/8 [00:04<00:00,  1.76it/s]\n",
            "Epoch 833 Training: 100%|██████████| 8/8 [00:04<00:00,  1.80it/s]\n",
            "Epoch 834 Training: 100%|██████████| 8/8 [00:04<00:00,  1.77it/s]\n",
            "Epoch 835 Training: 100%|██████████| 8/8 [00:04<00:00,  1.79it/s]\n"
          ]
        },
        {
          "output_type": "stream",
          "name": "stdout",
          "text": [
            "Epoch 835 || Train Loss: 0.3868751674890518\n"
          ]
        },
        {
          "output_type": "stream",
          "name": "stderr",
          "text": [
            "Epoch 836 Training: 100%|██████████| 8/8 [00:04<00:00,  1.79it/s]\n",
            "Epoch 837 Training: 100%|██████████| 8/8 [00:04<00:00,  1.75it/s]\n",
            "Epoch 838 Training: 100%|██████████| 8/8 [00:04<00:00,  1.80it/s]\n",
            "Epoch 839 Training: 100%|██████████| 8/8 [00:04<00:00,  1.76it/s]\n",
            "Epoch 840 Training: 100%|██████████| 8/8 [00:04<00:00,  1.79it/s]\n"
          ]
        },
        {
          "output_type": "stream",
          "name": "stdout",
          "text": [
            "Epoch 840 || Train Loss: 0.13792101945728064\n"
          ]
        },
        {
          "output_type": "stream",
          "name": "stderr",
          "text": [
            "Epoch 840 Validation: 100%|██████████| 2/2 [00:00<00:00, 11.05it/s]\n"
          ]
        },
        {
          "output_type": "stream",
          "name": "stdout",
          "text": [
            "Epoch 840 || Eval Loss: 9.710071802139282\n"
          ]
        },
        {
          "output_type": "stream",
          "name": "stderr",
          "text": [
            "Epoch 841 Training: 100%|██████████| 8/8 [00:04<00:00,  1.82it/s]\n",
            "Epoch 842 Training: 100%|██████████| 8/8 [00:04<00:00,  1.75it/s]\n",
            "Epoch 843 Training: 100%|██████████| 8/8 [00:04<00:00,  1.81it/s]\n",
            "Epoch 844 Training: 100%|██████████| 8/8 [00:04<00:00,  1.80it/s]\n",
            "Epoch 845 Training: 100%|██████████| 8/8 [00:04<00:00,  1.76it/s]\n"
          ]
        },
        {
          "output_type": "stream",
          "name": "stdout",
          "text": [
            "Epoch 845 || Train Loss: 0.08897800790145993\n"
          ]
        },
        {
          "output_type": "stream",
          "name": "stderr",
          "text": [
            "Epoch 846 Training: 100%|██████████| 8/8 [00:04<00:00,  1.80it/s]\n",
            "Epoch 847 Training: 100%|██████████| 8/8 [00:04<00:00,  1.76it/s]\n",
            "Epoch 848 Training: 100%|██████████| 8/8 [00:04<00:00,  1.76it/s]\n",
            "Epoch 849 Training: 100%|██████████| 8/8 [00:04<00:00,  1.80it/s]\n",
            "Epoch 850 Training: 100%|██████████| 8/8 [00:04<00:00,  1.78it/s]\n"
          ]
        },
        {
          "output_type": "stream",
          "name": "stdout",
          "text": [
            "Epoch 850 || Train Loss: 0.09433382633142173\n"
          ]
        },
        {
          "output_type": "stream",
          "name": "stderr",
          "text": [
            "Epoch 850 Validation: 100%|██████████| 2/2 [00:00<00:00, 11.34it/s]\n"
          ]
        },
        {
          "output_type": "stream",
          "name": "stdout",
          "text": [
            "Epoch 850 || Eval Loss: 14.132503986358643\n"
          ]
        },
        {
          "output_type": "stream",
          "name": "stderr",
          "text": [
            "Epoch 851 Training: 100%|██████████| 8/8 [00:04<00:00,  1.80it/s]\n",
            "Epoch 852 Training: 100%|██████████| 8/8 [00:04<00:00,  1.80it/s]\n",
            "Epoch 853 Training: 100%|██████████| 8/8 [00:04<00:00,  1.74it/s]\n",
            "Epoch 854 Training: 100%|██████████| 8/8 [00:04<00:00,  1.82it/s]\n",
            "Epoch 855 Training: 100%|██████████| 8/8 [00:04<00:00,  1.76it/s]\n"
          ]
        },
        {
          "output_type": "stream",
          "name": "stdout",
          "text": [
            "Epoch 855 || Train Loss: 0.07985961809754372\n"
          ]
        },
        {
          "output_type": "stream",
          "name": "stderr",
          "text": [
            "Epoch 856 Training: 100%|██████████| 8/8 [00:04<00:00,  1.76it/s]\n",
            "Epoch 857 Training: 100%|██████████| 8/8 [00:04<00:00,  1.77it/s]\n",
            "Epoch 858 Training: 100%|██████████| 8/8 [00:04<00:00,  1.76it/s]\n",
            "Epoch 859 Training: 100%|██████████| 8/8 [00:04<00:00,  1.81it/s]\n",
            "Epoch 860 Training: 100%|██████████| 8/8 [00:04<00:00,  1.81it/s]\n"
          ]
        },
        {
          "output_type": "stream",
          "name": "stdout",
          "text": [
            "Epoch 860 || Train Loss: 0.05594844277948141\n"
          ]
        },
        {
          "output_type": "stream",
          "name": "stderr",
          "text": [
            "Epoch 860 Validation: 100%|██████████| 2/2 [00:00<00:00, 11.65it/s]\n"
          ]
        },
        {
          "output_type": "stream",
          "name": "stdout",
          "text": [
            "Epoch 860 || Eval Loss: 16.74825954437256\n"
          ]
        },
        {
          "output_type": "stream",
          "name": "stderr",
          "text": [
            "Epoch 861 Training: 100%|██████████| 8/8 [00:04<00:00,  1.75it/s]\n",
            "Epoch 862 Training: 100%|██████████| 8/8 [00:04<00:00,  1.81it/s]\n",
            "Epoch 863 Training: 100%|██████████| 8/8 [00:04<00:00,  1.78it/s]\n",
            "Epoch 864 Training: 100%|██████████| 8/8 [00:04<00:00,  1.75it/s]\n",
            "Epoch 865 Training: 100%|██████████| 8/8 [00:04<00:00,  1.78it/s]\n"
          ]
        },
        {
          "output_type": "stream",
          "name": "stdout",
          "text": [
            "Epoch 865 || Train Loss: 0.06544516189023852\n"
          ]
        },
        {
          "output_type": "stream",
          "name": "stderr",
          "text": [
            "Epoch 866 Training: 100%|██████████| 8/8 [00:04<00:00,  1.76it/s]\n",
            "Epoch 867 Training: 100%|██████████| 8/8 [00:04<00:00,  1.77it/s]\n",
            "Epoch 868 Training: 100%|██████████| 8/8 [00:04<00:00,  1.80it/s]\n",
            "Epoch 869 Training: 100%|██████████| 8/8 [00:04<00:00,  1.76it/s]\n",
            "Epoch 870 Training: 100%|██████████| 8/8 [00:04<00:00,  1.79it/s]\n"
          ]
        },
        {
          "output_type": "stream",
          "name": "stdout",
          "text": [
            "Epoch 870 || Train Loss: 0.049249639036133885\n"
          ]
        },
        {
          "output_type": "stream",
          "name": "stderr",
          "text": [
            "Epoch 870 Validation: 100%|██████████| 2/2 [00:00<00:00, 11.44it/s]\n"
          ]
        },
        {
          "output_type": "stream",
          "name": "stdout",
          "text": [
            "Epoch 870 || Eval Loss: 17.73379135131836\n"
          ]
        },
        {
          "output_type": "stream",
          "name": "stderr",
          "text": [
            "Epoch 871 Training: 100%|██████████| 8/8 [00:04<00:00,  1.77it/s]\n",
            "Epoch 872 Training: 100%|██████████| 8/8 [00:04<00:00,  1.75it/s]\n",
            "Epoch 873 Training: 100%|██████████| 8/8 [00:04<00:00,  1.78it/s]\n",
            "Epoch 874 Training: 100%|██████████| 8/8 [00:04<00:00,  1.74it/s]\n",
            "Epoch 875 Training: 100%|██████████| 8/8 [00:04<00:00,  1.82it/s]\n"
          ]
        },
        {
          "output_type": "stream",
          "name": "stdout",
          "text": [
            "Epoch 875 || Train Loss: 0.09142475668340921\n"
          ]
        },
        {
          "output_type": "stream",
          "name": "stderr",
          "text": [
            "Epoch 876 Training: 100%|██████████| 8/8 [00:04<00:00,  1.83it/s]\n",
            "Epoch 877 Training: 100%|██████████| 8/8 [00:04<00:00,  1.72it/s]\n",
            "Epoch 878 Training: 100%|██████████| 8/8 [00:04<00:00,  1.80it/s]\n",
            "Epoch 879 Training: 100%|██████████| 8/8 [00:04<00:00,  1.79it/s]\n",
            "Epoch 880 Training: 100%|██████████| 8/8 [00:04<00:00,  1.75it/s]\n"
          ]
        },
        {
          "output_type": "stream",
          "name": "stdout",
          "text": [
            "Epoch 880 || Train Loss: 0.06626957468688488\n"
          ]
        },
        {
          "output_type": "stream",
          "name": "stderr",
          "text": [
            "Epoch 880 Validation: 100%|██████████| 2/2 [00:00<00:00, 10.97it/s]\n"
          ]
        },
        {
          "output_type": "stream",
          "name": "stdout",
          "text": [
            "Epoch 880 || Eval Loss: 19.456336975097656\n"
          ]
        },
        {
          "output_type": "stream",
          "name": "stderr",
          "text": [
            "Epoch 881 Training: 100%|██████████| 8/8 [00:04<00:00,  1.81it/s]\n",
            "Epoch 882 Training: 100%|██████████| 8/8 [00:04<00:00,  1.74it/s]\n",
            "Epoch 883 Training: 100%|██████████| 8/8 [00:04<00:00,  1.78it/s]\n",
            "Epoch 884 Training: 100%|██████████| 8/8 [00:04<00:00,  1.81it/s]\n",
            "Epoch 885 Training: 100%|██████████| 8/8 [00:04<00:00,  1.74it/s]\n"
          ]
        },
        {
          "output_type": "stream",
          "name": "stdout",
          "text": [
            "Epoch 885 || Train Loss: 0.041463442612439394\n"
          ]
        },
        {
          "output_type": "stream",
          "name": "stderr",
          "text": [
            "Epoch 886 Training: 100%|██████████| 8/8 [00:04<00:00,  1.78it/s]\n",
            "Epoch 887 Training: 100%|██████████| 8/8 [00:04<00:00,  1.80it/s]\n",
            "Epoch 888 Training: 100%|██████████| 8/8 [00:04<00:00,  1.75it/s]\n",
            "Epoch 889 Training: 100%|██████████| 8/8 [00:04<00:00,  1.82it/s]\n",
            "Epoch 890 Training: 100%|██████████| 8/8 [00:04<00:00,  1.75it/s]\n"
          ]
        },
        {
          "output_type": "stream",
          "name": "stdout",
          "text": [
            "Epoch 890 || Train Loss: 0.04839947749860585\n"
          ]
        },
        {
          "output_type": "stream",
          "name": "stderr",
          "text": [
            "Epoch 890 Validation: 100%|██████████| 2/2 [00:00<00:00,  7.95it/s]\n"
          ]
        },
        {
          "output_type": "stream",
          "name": "stdout",
          "text": [
            "Epoch 890 || Eval Loss: 18.511603355407715\n"
          ]
        },
        {
          "output_type": "stream",
          "name": "stderr",
          "text": [
            "Epoch 891 Training: 100%|██████████| 8/8 [00:04<00:00,  1.80it/s]\n",
            "Epoch 892 Training: 100%|██████████| 8/8 [00:04<00:00,  1.83it/s]\n",
            "Epoch 893 Training: 100%|██████████| 8/8 [00:04<00:00,  1.73it/s]\n",
            "Epoch 894 Training: 100%|██████████| 8/8 [00:04<00:00,  1.80it/s]\n",
            "Epoch 895 Training: 100%|██████████| 8/8 [00:04<00:00,  1.82it/s]\n"
          ]
        },
        {
          "output_type": "stream",
          "name": "stdout",
          "text": [
            "Epoch 895 || Train Loss: 0.09747096244245768\n"
          ]
        },
        {
          "output_type": "stream",
          "name": "stderr",
          "text": [
            "Epoch 896 Training: 100%|██████████| 8/8 [00:04<00:00,  1.73it/s]\n",
            "Epoch 897 Training: 100%|██████████| 8/8 [00:04<00:00,  1.79it/s]\n",
            "Epoch 898 Training: 100%|██████████| 8/8 [00:04<00:00,  1.78it/s]\n",
            "Epoch 899 Training: 100%|██████████| 8/8 [00:04<00:00,  1.76it/s]\n",
            "Epoch 900 Training: 100%|██████████| 8/8 [00:04<00:00,  1.79it/s]\n"
          ]
        },
        {
          "output_type": "stream",
          "name": "stdout",
          "text": [
            "Epoch 900 || Train Loss: 0.47788111539557576\n"
          ]
        },
        {
          "output_type": "stream",
          "name": "stderr",
          "text": [
            "Epoch 900 Validation: 100%|██████████| 2/2 [00:00<00:00, 11.22it/s]\n"
          ]
        },
        {
          "output_type": "stream",
          "name": "stdout",
          "text": [
            "Epoch 900 || Eval Loss: 24.475536346435547\n"
          ]
        },
        {
          "output_type": "stream",
          "name": "stderr",
          "text": [
            "Epoch 901 Training: 100%|██████████| 8/8 [00:04<00:00,  1.73it/s]\n",
            "Epoch 902 Training: 100%|██████████| 8/8 [00:04<00:00,  1.78it/s]\n",
            "Epoch 903 Training: 100%|██████████| 8/8 [00:04<00:00,  1.81it/s]\n",
            "Epoch 904 Training: 100%|██████████| 8/8 [00:04<00:00,  1.73it/s]\n",
            "Epoch 905 Training: 100%|██████████| 8/8 [00:04<00:00,  1.83it/s]\n"
          ]
        },
        {
          "output_type": "stream",
          "name": "stdout",
          "text": [
            "Epoch 905 || Train Loss: 0.043856129981577396\n"
          ]
        },
        {
          "output_type": "stream",
          "name": "stderr",
          "text": [
            "Epoch 906 Training: 100%|██████████| 8/8 [00:04<00:00,  1.77it/s]\n",
            "Epoch 907 Training: 100%|██████████| 8/8 [00:04<00:00,  1.77it/s]\n",
            "Epoch 908 Training: 100%|██████████| 8/8 [00:04<00:00,  1.80it/s]\n",
            "Epoch 909 Training: 100%|██████████| 8/8 [00:04<00:00,  1.73it/s]\n",
            "Epoch 910 Training: 100%|██████████| 8/8 [00:04<00:00,  1.81it/s]\n"
          ]
        },
        {
          "output_type": "stream",
          "name": "stdout",
          "text": [
            "Epoch 910 || Train Loss: 0.085254798643291\n"
          ]
        },
        {
          "output_type": "stream",
          "name": "stderr",
          "text": [
            "Epoch 910 Validation: 100%|██████████| 2/2 [00:00<00:00, 11.54it/s]\n"
          ]
        },
        {
          "output_type": "stream",
          "name": "stdout",
          "text": [
            "Epoch 910 || Eval Loss: 14.539534091949463\n"
          ]
        },
        {
          "output_type": "stream",
          "name": "stderr",
          "text": [
            "Epoch 911 Training: 100%|██████████| 8/8 [00:04<00:00,  1.81it/s]\n",
            "Epoch 912 Training: 100%|██████████| 8/8 [00:04<00:00,  1.75it/s]\n",
            "Epoch 913 Training: 100%|██████████| 8/8 [00:04<00:00,  1.80it/s]\n",
            "Epoch 914 Training: 100%|██████████| 8/8 [00:04<00:00,  1.78it/s]\n",
            "Epoch 915 Training: 100%|██████████| 8/8 [00:04<00:00,  1.77it/s]\n"
          ]
        },
        {
          "output_type": "stream",
          "name": "stdout",
          "text": [
            "Epoch 915 || Train Loss: 0.05624816659837961\n"
          ]
        },
        {
          "output_type": "stream",
          "name": "stderr",
          "text": [
            "Epoch 916 Training: 100%|██████████| 8/8 [00:04<00:00,  1.80it/s]\n",
            "Epoch 917 Training: 100%|██████████| 8/8 [00:04<00:00,  1.76it/s]\n",
            "Epoch 918 Training: 100%|██████████| 8/8 [00:04<00:00,  1.80it/s]\n",
            "Epoch 919 Training: 100%|██████████| 8/8 [00:04<00:00,  1.82it/s]\n",
            "Epoch 920 Training: 100%|██████████| 8/8 [00:04<00:00,  1.74it/s]\n"
          ]
        },
        {
          "output_type": "stream",
          "name": "stdout",
          "text": [
            "Epoch 920 || Train Loss: 0.06515825749374926\n"
          ]
        },
        {
          "output_type": "stream",
          "name": "stderr",
          "text": [
            "Epoch 920 Validation: 100%|██████████| 2/2 [00:00<00:00, 11.08it/s]\n"
          ]
        },
        {
          "output_type": "stream",
          "name": "stdout",
          "text": [
            "Epoch 920 || Eval Loss: 18.346433639526367\n"
          ]
        },
        {
          "output_type": "stream",
          "name": "stderr",
          "text": [
            "Epoch 921 Training: 100%|██████████| 8/8 [00:04<00:00,  1.79it/s]\n",
            "Epoch 922 Training: 100%|██████████| 8/8 [00:04<00:00,  1.77it/s]\n",
            "Epoch 923 Training: 100%|██████████| 8/8 [00:04<00:00,  1.75it/s]\n",
            "Epoch 924 Training: 100%|██████████| 8/8 [00:04<00:00,  1.82it/s]\n",
            "Epoch 925 Training: 100%|██████████| 8/8 [00:04<00:00,  1.75it/s]\n"
          ]
        },
        {
          "output_type": "stream",
          "name": "stdout",
          "text": [
            "Epoch 925 || Train Loss: 0.051032529678195715\n"
          ]
        },
        {
          "output_type": "stream",
          "name": "stderr",
          "text": [
            "Epoch 926 Training: 100%|██████████| 8/8 [00:04<00:00,  1.77it/s]\n",
            "Epoch 927 Training: 100%|██████████| 8/8 [00:04<00:00,  1.80it/s]\n",
            "Epoch 928 Training: 100%|██████████| 8/8 [00:04<00:00,  1.76it/s]\n",
            "Epoch 929 Training: 100%|██████████| 8/8 [00:04<00:00,  1.82it/s]\n",
            "Epoch 930 Training: 100%|██████████| 8/8 [00:04<00:00,  1.78it/s]\n"
          ]
        },
        {
          "output_type": "stream",
          "name": "stdout",
          "text": [
            "Epoch 930 || Train Loss: 0.06883972324430943\n"
          ]
        },
        {
          "output_type": "stream",
          "name": "stderr",
          "text": [
            "Epoch 930 Validation: 100%|██████████| 2/2 [00:00<00:00,  8.06it/s]\n"
          ]
        },
        {
          "output_type": "stream",
          "name": "stdout",
          "text": [
            "Epoch 930 || Eval Loss: 20.362832069396973\n"
          ]
        },
        {
          "output_type": "stream",
          "name": "stderr",
          "text": [
            "Epoch 931 Training: 100%|██████████| 8/8 [00:04<00:00,  1.75it/s]\n",
            "Epoch 932 Training: 100%|██████████| 8/8 [00:04<00:00,  1.80it/s]\n",
            "Epoch 933 Training: 100%|██████████| 8/8 [00:04<00:00,  1.75it/s]\n",
            "Epoch 934 Training: 100%|██████████| 8/8 [00:04<00:00,  1.79it/s]\n",
            "Epoch 935 Training: 100%|██████████| 8/8 [00:04<00:00,  1.79it/s]\n"
          ]
        },
        {
          "output_type": "stream",
          "name": "stdout",
          "text": [
            "Epoch 935 || Train Loss: 0.05680625629611313\n"
          ]
        },
        {
          "output_type": "stream",
          "name": "stderr",
          "text": [
            "Epoch 936 Training: 100%|██████████| 8/8 [00:04<00:00,  1.74it/s]\n",
            "Epoch 937 Training: 100%|██████████| 8/8 [00:04<00:00,  1.82it/s]\n",
            "Epoch 938 Training: 100%|██████████| 8/8 [00:04<00:00,  1.81it/s]\n",
            "Epoch 939 Training: 100%|██████████| 8/8 [00:04<00:00,  1.74it/s]\n",
            "Epoch 940 Training: 100%|██████████| 8/8 [00:04<00:00,  1.80it/s]\n"
          ]
        },
        {
          "output_type": "stream",
          "name": "stdout",
          "text": [
            "Epoch 940 || Train Loss: 0.10207966202870011\n"
          ]
        },
        {
          "output_type": "stream",
          "name": "stderr",
          "text": [
            "Epoch 940 Validation: 100%|██████████| 2/2 [00:00<00:00, 10.84it/s]\n"
          ]
        },
        {
          "output_type": "stream",
          "name": "stdout",
          "text": [
            "Epoch 940 || Eval Loss: 19.270833015441895\n"
          ]
        },
        {
          "output_type": "stream",
          "name": "stderr",
          "text": [
            "Epoch 941 Training: 100%|██████████| 8/8 [00:04<00:00,  1.75it/s]\n",
            "Epoch 942 Training: 100%|██████████| 8/8 [00:04<00:00,  1.78it/s]\n",
            "Epoch 943 Training: 100%|██████████| 8/8 [00:04<00:00,  1.81it/s]\n",
            "Epoch 944 Training: 100%|██████████| 8/8 [00:04<00:00,  1.73it/s]\n",
            "Epoch 945 Training: 100%|██████████| 8/8 [00:04<00:00,  1.80it/s]\n"
          ]
        },
        {
          "output_type": "stream",
          "name": "stdout",
          "text": [
            "Epoch 945 || Train Loss: 0.056203515036031604\n"
          ]
        },
        {
          "output_type": "stream",
          "name": "stderr",
          "text": [
            "Epoch 946 Training: 100%|██████████| 8/8 [00:04<00:00,  1.80it/s]\n",
            "Epoch 947 Training: 100%|██████████| 8/8 [00:04<00:00,  1.76it/s]\n",
            "Epoch 948 Training: 100%|██████████| 8/8 [00:04<00:00,  1.82it/s]\n",
            "Epoch 949 Training: 100%|██████████| 8/8 [00:04<00:00,  1.77it/s]\n",
            "Epoch 950 Training: 100%|██████████| 8/8 [00:04<00:00,  1.76it/s]\n"
          ]
        },
        {
          "output_type": "stream",
          "name": "stdout",
          "text": [
            "Epoch 950 || Train Loss: 0.04976249532774091\n"
          ]
        },
        {
          "output_type": "stream",
          "name": "stderr",
          "text": [
            "Epoch 950 Validation: 100%|██████████| 2/2 [00:00<00:00, 11.71it/s]\n"
          ]
        },
        {
          "output_type": "stream",
          "name": "stdout",
          "text": [
            "Epoch 950 || Eval Loss: 18.40868377685547\n"
          ]
        },
        {
          "output_type": "stream",
          "name": "stderr",
          "text": [
            "Epoch 951 Training: 100%|██████████| 8/8 [00:04<00:00,  1.78it/s]\n",
            "Epoch 952 Training: 100%|██████████| 8/8 [00:04<00:00,  1.77it/s]\n",
            "Epoch 953 Training: 100%|██████████| 8/8 [00:04<00:00,  1.79it/s]\n",
            "Epoch 954 Training: 100%|██████████| 8/8 [00:04<00:00,  1.80it/s]\n",
            "Epoch 955 Training: 100%|██████████| 8/8 [00:04<00:00,  1.76it/s]\n"
          ]
        },
        {
          "output_type": "stream",
          "name": "stdout",
          "text": [
            "Epoch 955 || Train Loss: 0.06326993252150714\n"
          ]
        },
        {
          "output_type": "stream",
          "name": "stderr",
          "text": [
            "Epoch 956 Training: 100%|██████████| 8/8 [00:04<00:00,  1.80it/s]\n",
            "Epoch 957 Training: 100%|██████████| 8/8 [00:04<00:00,  1.76it/s]\n",
            "Epoch 958 Training: 100%|██████████| 8/8 [00:04<00:00,  1.76it/s]\n",
            "Epoch 959 Training: 100%|██████████| 8/8 [00:04<00:00,  1.81it/s]\n",
            "Epoch 960 Training: 100%|██████████| 8/8 [00:04<00:00,  1.75it/s]\n"
          ]
        },
        {
          "output_type": "stream",
          "name": "stdout",
          "text": [
            "Epoch 960 || Train Loss: 0.05158892755571287\n"
          ]
        },
        {
          "output_type": "stream",
          "name": "stderr",
          "text": [
            "Epoch 960 Validation: 100%|██████████| 2/2 [00:00<00:00, 11.30it/s]\n"
          ]
        },
        {
          "output_type": "stream",
          "name": "stdout",
          "text": [
            "Epoch 960 || Eval Loss: 18.05691146850586\n"
          ]
        },
        {
          "output_type": "stream",
          "name": "stderr",
          "text": [
            "Epoch 961 Training: 100%|██████████| 8/8 [00:04<00:00,  1.81it/s]\n",
            "Epoch 962 Training: 100%|██████████| 8/8 [00:04<00:00,  1.81it/s]\n",
            "Epoch 963 Training: 100%|██████████| 8/8 [00:04<00:00,  1.74it/s]\n",
            "Epoch 964 Training: 100%|██████████| 8/8 [00:04<00:00,  1.78it/s]\n",
            "Epoch 965 Training: 100%|██████████| 8/8 [00:04<00:00,  1.78it/s]\n"
          ]
        },
        {
          "output_type": "stream",
          "name": "stdout",
          "text": [
            "Epoch 965 || Train Loss: 0.057323254412040114\n"
          ]
        },
        {
          "output_type": "stream",
          "name": "stderr",
          "text": [
            "Epoch 966 Training: 100%|██████████| 8/8 [00:04<00:00,  1.78it/s]\n",
            "Epoch 967 Training: 100%|██████████| 8/8 [00:04<00:00,  1.80it/s]\n",
            "Epoch 968 Training: 100%|██████████| 8/8 [00:04<00:00,  1.73it/s]\n",
            "Epoch 969 Training: 100%|██████████| 8/8 [00:04<00:00,  1.79it/s]\n",
            "Epoch 970 Training: 100%|██████████| 8/8 [00:04<00:00,  1.82it/s]\n"
          ]
        },
        {
          "output_type": "stream",
          "name": "stdout",
          "text": [
            "Epoch 970 || Train Loss: 0.05273708514869213\n"
          ]
        },
        {
          "output_type": "stream",
          "name": "stderr",
          "text": [
            "Epoch 970 Validation: 100%|██████████| 2/2 [00:00<00:00, 11.31it/s]\n"
          ]
        },
        {
          "output_type": "stream",
          "name": "stdout",
          "text": [
            "Epoch 970 || Eval Loss: 21.820589065551758\n"
          ]
        },
        {
          "output_type": "stream",
          "name": "stderr",
          "text": [
            "Epoch 971 Training: 100%|██████████| 8/8 [00:04<00:00,  1.75it/s]\n",
            "Epoch 972 Training: 100%|██████████| 8/8 [00:04<00:00,  1.80it/s]\n",
            "Epoch 973 Training: 100%|██████████| 8/8 [00:04<00:00,  1.77it/s]\n",
            "Epoch 974 Training: 100%|██████████| 8/8 [00:04<00:00,  1.77it/s]\n",
            "Epoch 975 Training: 100%|██████████| 8/8 [00:04<00:00,  1.81it/s]\n"
          ]
        },
        {
          "output_type": "stream",
          "name": "stdout",
          "text": [
            "Epoch 975 || Train Loss: 0.05307776271365583\n"
          ]
        },
        {
          "output_type": "stream",
          "name": "stderr",
          "text": [
            "Epoch 976 Training: 100%|██████████| 8/8 [00:04<00:00,  1.73it/s]\n",
            "Epoch 977 Training: 100%|██████████| 8/8 [00:04<00:00,  1.80it/s]\n",
            "Epoch 978 Training: 100%|██████████| 8/8 [00:04<00:00,  1.82it/s]\n",
            "Epoch 979 Training: 100%|██████████| 8/8 [00:04<00:00,  1.75it/s]\n",
            "Epoch 980 Training: 100%|██████████| 8/8 [00:04<00:00,  1.82it/s]\n"
          ]
        },
        {
          "output_type": "stream",
          "name": "stdout",
          "text": [
            "Epoch 980 || Train Loss: 0.05151832988485694\n"
          ]
        },
        {
          "output_type": "stream",
          "name": "stderr",
          "text": [
            "Epoch 980 Validation: 100%|██████████| 2/2 [00:00<00:00, 11.48it/s]\n"
          ]
        },
        {
          "output_type": "stream",
          "name": "stdout",
          "text": [
            "Epoch 980 || Eval Loss: 20.482816696166992\n"
          ]
        },
        {
          "output_type": "stream",
          "name": "stderr",
          "text": [
            "Epoch 981 Training: 100%|██████████| 8/8 [00:04<00:00,  1.76it/s]\n",
            "Epoch 982 Training: 100%|██████████| 8/8 [00:04<00:00,  1.76it/s]\n",
            "Epoch 983 Training: 100%|██████████| 8/8 [00:04<00:00,  1.82it/s]\n",
            "Epoch 984 Training: 100%|██████████| 8/8 [00:04<00:00,  1.76it/s]\n",
            "Epoch 985 Training: 100%|██████████| 8/8 [00:04<00:00,  1.79it/s]\n"
          ]
        },
        {
          "output_type": "stream",
          "name": "stdout",
          "text": [
            "Epoch 985 || Train Loss: 0.056168704526498914\n"
          ]
        },
        {
          "output_type": "stream",
          "name": "stderr",
          "text": [
            "Epoch 986 Training: 100%|██████████| 8/8 [00:04<00:00,  1.81it/s]\n",
            "Epoch 987 Training: 100%|██████████| 8/8 [00:04<00:00,  1.77it/s]\n",
            "Epoch 988 Training: 100%|██████████| 8/8 [00:04<00:00,  1.80it/s]\n",
            "Epoch 989 Training: 100%|██████████| 8/8 [00:04<00:00,  1.82it/s]\n",
            "Epoch 990 Training: 100%|██████████| 8/8 [00:04<00:00,  1.74it/s]\n"
          ]
        },
        {
          "output_type": "stream",
          "name": "stdout",
          "text": [
            "Epoch 990 || Train Loss: 0.051259195897728205\n"
          ]
        },
        {
          "output_type": "stream",
          "name": "stderr",
          "text": [
            "Epoch 990 Validation: 100%|██████████| 2/2 [00:00<00:00,  9.54it/s]\n"
          ]
        },
        {
          "output_type": "stream",
          "name": "stdout",
          "text": [
            "Epoch 990 || Eval Loss: 20.53022289276123\n"
          ]
        },
        {
          "output_type": "stream",
          "name": "stderr",
          "text": [
            "Epoch 991 Training: 100%|██████████| 8/8 [00:04<00:00,  1.79it/s]\n",
            "Epoch 992 Training: 100%|██████████| 8/8 [00:04<00:00,  1.77it/s]\n",
            "Epoch 993 Training: 100%|██████████| 8/8 [00:04<00:00,  1.76it/s]\n",
            "Epoch 994 Training: 100%|██████████| 8/8 [00:04<00:00,  1.81it/s]\n",
            "Epoch 995 Training: 100%|██████████| 8/8 [00:04<00:00,  1.74it/s]\n"
          ]
        },
        {
          "output_type": "stream",
          "name": "stdout",
          "text": [
            "Epoch 995 || Train Loss: 0.0507659325376153\n"
          ]
        },
        {
          "output_type": "stream",
          "name": "stderr",
          "text": [
            "Epoch 996 Training: 100%|██████████| 8/8 [00:04<00:00,  1.82it/s]\n",
            "Epoch 997 Training: 100%|██████████| 8/8 [00:04<00:00,  1.80it/s]\n",
            "Epoch 998 Training: 100%|██████████| 8/8 [00:04<00:00,  1.76it/s]\n",
            "Epoch 999 Training: 100%|██████████| 8/8 [00:04<00:00,  1.81it/s]\n",
            "Epoch 1000 Training: 100%|██████████| 8/8 [00:04<00:00,  1.76it/s]\n"
          ]
        },
        {
          "output_type": "stream",
          "name": "stdout",
          "text": [
            "Epoch 1000 || Train Loss: 0.051481283036991954\n"
          ]
        },
        {
          "output_type": "stream",
          "name": "stderr",
          "text": [
            "Epoch 1000 Validation: 100%|██████████| 2/2 [00:00<00:00,  7.79it/s]"
          ]
        },
        {
          "output_type": "stream",
          "name": "stdout",
          "text": [
            "Epoch 1000 || Eval Loss: 22.61278533935547\n",
            "Training completed!\n"
          ]
        },
        {
          "output_type": "stream",
          "name": "stderr",
          "text": [
            "\n"
          ]
        }
      ]
    },
    {
      "cell_type": "code",
      "source": [
        "tokenizer = BertTokenizer.from_pretrained('bert-base-uncased')"
      ],
      "metadata": {
        "id": "xaWAcis51ocs"
      },
      "execution_count": 33,
      "outputs": []
    },
    {
      "cell_type": "code",
      "source": [
        "lstm_model = LSTMModel(vocab_size=tokenizer.vocab_size,\n",
        "                       embed_size=50,\n",
        "                       lstm_out=50,\n",
        "                       lstm_layers=2,\n",
        "                       out_dim=1,\n",
        "                       dropout_lstm=0.6,\n",
        "                       dropout=0.6)\n",
        "device = torch.device(\"cuda\" if torch.cuda.is_available() else \"cpu\")\n",
        "lstm_model.to(device)\n",
        "\n",
        "# Load the model's checkpoint\n",
        "model_path = '/content/models/model-30.pt'  # Ensure the path is correct\n",
        "try:\n",
        "    loaded_chekpoints = torch.load(model_path, map_location=device)\n",
        "    lstm_model.load_state_dict(loaded_chekpoints['model_state_dict'])\n",
        "    lstm_model.eval()\n",
        "    print(\"Model loaded successfully!\")\n",
        "except Exception as e:\n",
        "    print(f\"Error loading model: {e}\")\n",
        "\n",
        "# Load spaCy for text processing\n",
        "nlp = spacy.load('en_core_web_sm')\n",
        "\n",
        "# Initialize FastAPI\n",
        "app = FastAPI()\n",
        "\n",
        "# Define the input model for receiving text\n",
        "class Review(BaseModel):\n",
        "    text: str\n",
        "\n",
        "# Prediction route\n",
        "@app.post('/predict')\n",
        "def predict_sentiment(payload: Review):\n",
        "    try:\n",
        "        # Clean and lemmatize the input text\n",
        "        print(f\"Received review: {payload.text}\")\n",
        "        cleaned_text = clean_and_lemmatize(payload.text)\n",
        "        print(f\"Cleaned text: {cleaned_text}\")\n",
        "\n",
        "        # Tokenize the cleaned text using BERT tokenizer\n",
        "        tokens = tokenizer.tokenize(cleaned_text)\n",
        "        tokens = ['[CLS]'] + tokens + ['[SEP]']\n",
        "        length = len(tokens)\n",
        "\n",
        "        # Convert tokens to input IDs\n",
        "        input_ids = tokenizer.convert_tokens_to_ids(tokens)\n",
        "        input_ids = torch.tensor(input_ids).view(1, -1).to(device)\n",
        "\n",
        "        # Run the input through the model\n",
        "        out, = lstm_model(input_ids=input_ids, input_lengths=[length])\n",
        "        score = out.item()\n",
        "\n",
        "        # Determine the sentiment based on the score\n",
        "        print(f\"Prediction score: {score}\")\n",
        "        if score <= 0.25:\n",
        "            tag = 'Worst'\n",
        "        elif score <= 0.50:\n",
        "            tag = 'Bad'\n",
        "        elif score <= 0.75:\n",
        "            tag = 'Good'\n",
        "        else:\n",
        "            tag = 'Great'\n",
        "\n",
        "        # Return the result\n",
        "        return dict(review=payload.text, score=score, tag=tag)\n",
        "\n",
        "    except Exception as e:\n",
        "        print(f\"Error during prediction: {e}\")\n",
        "        return {\"error\": str(e)}"
      ],
      "metadata": {
        "id": "h76G0Gwv1KeC",
        "colab": {
          "base_uri": "https://localhost:8080/"
        },
        "outputId": "5c758c65-06de-407d-a5db-2e96d53096c5"
      },
      "execution_count": 34,
      "outputs": [
        {
          "output_type": "stream",
          "name": "stdout",
          "text": [
            "Model loaded successfully!\n"
          ]
        }
      ]
    },
    {
      "cell_type": "code",
      "source": [
        "import matplotlib.pyplot as plt\n",
        "from sklearn.metrics import classification_report\n",
        "import numpy as np"
      ],
      "metadata": {
        "id": "rdbkAynX6C4v"
      },
      "execution_count": 51,
      "outputs": []
    },
    {
      "cell_type": "code",
      "source": [
        "def plot_classification_report(report):\n",
        "    metrics = ['precision', 'recall', 'f1-score']\n",
        "    labels = report.keys()\n",
        "    data = {metric: [] for metric in metrics}\n",
        "\n",
        "    for label in labels:\n",
        "        if isinstance(report[label], dict):\n",
        "            for metric in metrics:\n",
        "                data[metric].append(report[label][metric])\n",
        "        else:\n",
        "            for metric in metrics:\n",
        "                data[metric].append(report[label])\n",
        "\n",
        "    for metric in metrics:\n",
        "        data[metric] = np.array(data[metric])\n",
        "\n",
        "    fig, axes = plt.subplots(1, 3, figsize=(18, 5))\n",
        "    for i, metric in enumerate(metrics):\n",
        "        axes[i].bar(labels, data[metric], color='skyblue')\n",
        "        axes[i].set_title(f'{metric.capitalize()}')\n",
        "        axes[i].set_xlabel('Class')\n",
        "        axes[i].set_ylabel(metric.capitalize())\n",
        "        axes[i].set_ylim(0, 1)\n",
        "\n",
        "    plt.tight_layout()\n",
        "    plt.show()"
      ],
      "metadata": {
        "id": "ZnQux-sj5RKi"
      },
      "execution_count": 63,
      "outputs": []
    },
    {
      "cell_type": "code",
      "source": [
        "def evaluate_model(model, test_dataloader):\n",
        "    model.eval()\n",
        "    all_preds = []\n",
        "    all_labels = []\n",
        "\n",
        "    with torch.no_grad():\n",
        "        for batch in tqdm(test_dataloader, total=len(test_dataloader), desc=\"Evaluating\"):\n",
        "            input_ids, targets, input_lengths = batch\n",
        "            preds, _ = model(input_ids=input_ids.to(device),\n",
        "                             input_lengths=input_lengths.tolist(),\n",
        "                             targets=targets.to(device))\n",
        "            preds = get_class(preds)\n",
        "\n",
        "            all_preds.extend(preds.cpu().numpy())\n",
        "            all_labels.extend(targets.cpu().numpy())\n",
        "\n",
        "    report = classification_report(all_labels, all_preds, target_names=['Negative', 'Positive'], output_dict=True)\n",
        "\n",
        "    print(\"Classification Report:\")\n",
        "    print(classification_report(all_labels, all_preds, target_names=['Negative', 'Positive']))\n",
        "\n",
        "    plot_classification_report(report)"
      ],
      "metadata": {
        "id": "8WjSFQA25PWf"
      },
      "execution_count": 64,
      "outputs": []
    },
    {
      "cell_type": "code",
      "source": [
        "if __name__ == '__main__':\n",
        "    warnings.filterwarnings(\"ignore\")\n",
        "\n",
        "    eval_dataset = MovieDataset('test_15K.pkl')\n",
        "    eval_dataloader = DataLoader(eval_dataset, batch_size=512, shuffle=False, num_workers=1)\n",
        "\n",
        "    evaluate_model(lstm_model, eval_dataloader)\n"
      ],
      "metadata": {
        "colab": {
          "base_uri": "https://localhost:8080/",
          "height": 566
        },
        "id": "wrGBXiVU60Qs",
        "outputId": "76ca7844-1322-4c12-b27d-dc8d0ca49dfe"
      },
      "execution_count": 65,
      "outputs": [
        {
          "output_type": "stream",
          "name": "stderr",
          "text": [
            "Evaluating: 100%|██████████| 2/2 [00:00<00:00,  9.00it/s]\n"
          ]
        },
        {
          "output_type": "stream",
          "name": "stdout",
          "text": [
            "Classification Report:\n",
            "              precision    recall  f1-score   support\n",
            "\n",
            "    Negative       0.68      0.83      0.74       496\n",
            "    Positive       0.78      0.61      0.69       504\n",
            "\n",
            "    accuracy                           0.72      1000\n",
            "   macro avg       0.73      0.72      0.72      1000\n",
            "weighted avg       0.73      0.72      0.72      1000\n",
            "\n"
          ]
        },
        {
          "output_type": "display_data",
          "data": {
            "text/plain": [
              "<Figure size 1800x500 with 3 Axes>"
            ],
            "image/png": "[encoded data removed]"
          },
          "metadata": {}
        }
      ]
    }
  ]
}